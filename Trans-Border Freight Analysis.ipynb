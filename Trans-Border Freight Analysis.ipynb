{
 "cells": [
  {
   "cell_type": "code",
   "execution_count": 1,
   "id": "fdde13da-fb61-45e2-acbe-89908dbf9b83",
   "metadata": {},
   "outputs": [],
   "source": [
    "# import libraries\n",
    "import pyforest            # To automatically import commonly used data science libraries like pandas, NumPy, Matplotlib, Seaborn, and others\n",
    "import os                  # To interact with the operating system\n",
    "import glob                # To access file using pattern\n",
    "import psutil              # To retrieve memory usage information\n",
    "from tqdm import tqdm      # To track data reading progress"
   ]
  },
  {
   "cell_type": "markdown",
   "id": "c70f6923-a04b-4b0b-bf17-ca40d3804bf0",
   "metadata": {},
   "source": [
    "### Read and concatenate all datasets"
   ]
  },
  {
   "cell_type": "markdown",
   "id": "e0cb62f0-cc3c-441f-9e31-bade2545f9ba",
   "metadata": {},
   "source": [
    "- After careful inspection of the dataset, I will be working with only the datasets named **dot1, dot2, dot3** underscore the month and the year. That is **dot1_MMYY, dot2_MMYY, dot3_MMYY.** I will be leaving out any dataset in any of the months that don't match this pattern.\n",
    "- Also, since there are five main folders (2020, 2021, 2022, 2023 and 2024) with each having folders of their month containing the datasets, I will use *for loop* to iterate through them.\n",
    "- This is a large dataset and reading all at a go will put pressure on my machine so I will read it in chunks."
   ]
  },
  {
   "cell_type": "code",
   "execution_count": 2,
   "id": "112c20ff-0392-46d2-83e2-c5b81cee92da",
   "metadata": {
    "scrolled": true
   },
   "outputs": [
    {
     "data": {
      "application/javascript": [
       "\n",
       "        if (window._pyforest_update_imports_cell) { window._pyforest_update_imports_cell('import pandas as pd'); }\n",
       "    "
      ],
      "text/plain": [
       "<IPython.core.display.Javascript object>"
      ]
     },
     "metadata": {},
     "output_type": "display_data"
    },
    {
     "name": "stdout",
     "output_type": "stream",
     "text": [
      "------------------------------------------------------\n",
      "Using chunk size: 381540\n",
      "------------------------------------------------------\n"
     ]
    },
    {
     "name": "stderr",
     "output_type": "stream",
     "text": [
      "Processing Years:   0%|                                                                          | 0/5 [00:00<?, ?it/s]\n",
      "Processing 2020:   0%|                                                                           | 0/9 [00:00<?, ?it/s]\u001b[A\n",
      "\n",
      "Reading files in Apr 2020:   0%|                                                                 | 0/3 [00:00<?, ?it/s]\u001b[A\u001b[A"
     ]
    },
    {
     "data": {
      "application/javascript": [
       "\n",
       "        if (window._pyforest_update_imports_cell) { window._pyforest_update_imports_cell('import pandas as pd'); }\n",
       "    "
      ],
      "text/plain": [
       "<IPython.core.display.Javascript object>"
      ]
     },
     "metadata": {},
     "output_type": "display_data"
    },
    {
     "data": {
      "application/javascript": [
       "\n",
       "        if (window._pyforest_update_imports_cell) { window._pyforest_update_imports_cell('import pandas as pd'); }\n",
       "    "
      ],
      "text/plain": [
       "<IPython.core.display.Javascript object>"
      ]
     },
     "metadata": {},
     "output_type": "display_data"
    },
    {
     "name": "stderr",
     "output_type": "stream",
     "text": [
      "\n",
      "\n",
      "Reading files in Apr 2020:  67%|██████████████████████████████████████                   | 2/3 [00:00<00:00,  8.80it/s]\u001b[A\u001b[A"
     ]
    },
    {
     "data": {
      "application/javascript": [
       "\n",
       "        if (window._pyforest_update_imports_cell) { window._pyforest_update_imports_cell('import pandas as pd'); }\n",
       "    "
      ],
      "text/plain": [
       "<IPython.core.display.Javascript object>"
      ]
     },
     "metadata": {},
     "output_type": "display_data"
    },
    {
     "name": "stderr",
     "output_type": "stream",
     "text": [
      "Reading files in Apr 2020: 100%|█████████████████████████████████████████████████████████| 3/3 [00:00<00:00, 10.16it/s]\n",
      "\n",
      "Processing 2020:  11%|███████▍                                                           | 1/9 [00:00<00:02,  3.27it/s]\u001b[A\n",
      "\n",
      "Reading files in Aug 2020:   0%|                                                                 | 0/3 [00:00<?, ?it/s]\u001b[A\u001b[A"
     ]
    },
    {
     "data": {
      "application/javascript": [
       "\n",
       "        if (window._pyforest_update_imports_cell) { window._pyforest_update_imports_cell('import pandas as pd'); }\n",
       "    "
      ],
      "text/plain": [
       "<IPython.core.display.Javascript object>"
      ]
     },
     "metadata": {},
     "output_type": "display_data"
    },
    {
     "data": {
      "application/javascript": [
       "\n",
       "        if (window._pyforest_update_imports_cell) { window._pyforest_update_imports_cell('import pandas as pd'); }\n",
       "    "
      ],
      "text/plain": [
       "<IPython.core.display.Javascript object>"
      ]
     },
     "metadata": {},
     "output_type": "display_data"
    },
    {
     "name": "stderr",
     "output_type": "stream",
     "text": [
      "C:\\Users\\Matthew Adenyo\\AppData\\Local\\Temp\\ipykernel_14504\\2378979365.py:47: DtypeWarning: Columns (4,11) have mixed types. Specify dtype option on import or set low_memory=False.\n",
      "  for chunk in pd.read_csv(file, chunksize=chunksize):\n",
      "\n",
      "\n",
      "Reading files in Aug 2020:  67%|██████████████████████████████████████                   | 2/3 [00:00<00:00,  9.00it/s]\u001b[A\u001b[A"
     ]
    },
    {
     "data": {
      "application/javascript": [
       "\n",
       "        if (window._pyforest_update_imports_cell) { window._pyforest_update_imports_cell('import pandas as pd'); }\n",
       "    "
      ],
      "text/plain": [
       "<IPython.core.display.Javascript object>"
      ]
     },
     "metadata": {},
     "output_type": "display_data"
    },
    {
     "name": "stderr",
     "output_type": "stream",
     "text": [
      "Reading files in Aug 2020: 100%|█████████████████████████████████████████████████████████| 3/3 [00:00<00:00, 11.35it/s]\n",
      "\n",
      "Processing 2020:  22%|██████████████▉                                                    | 2/9 [00:00<00:02,  3.47it/s]\u001b[A\n",
      "\n",
      "Reading files in Feb 2020:   0%|                                                                 | 0/3 [00:00<?, ?it/s]\u001b[A\u001b[A"
     ]
    },
    {
     "data": {
      "application/javascript": [
       "\n",
       "        if (window._pyforest_update_imports_cell) { window._pyforest_update_imports_cell('import pandas as pd'); }\n",
       "    "
      ],
      "text/plain": [
       "<IPython.core.display.Javascript object>"
      ]
     },
     "metadata": {},
     "output_type": "display_data"
    },
    {
     "data": {
      "application/javascript": [
       "\n",
       "        if (window._pyforest_update_imports_cell) { window._pyforest_update_imports_cell('import pandas as pd'); }\n",
       "    "
      ],
      "text/plain": [
       "<IPython.core.display.Javascript object>"
      ]
     },
     "metadata": {},
     "output_type": "display_data"
    },
    {
     "name": "stderr",
     "output_type": "stream",
     "text": [
      "C:\\Users\\Matthew Adenyo\\AppData\\Local\\Temp\\ipykernel_14504\\2378979365.py:47: DtypeWarning: Columns (4,11) have mixed types. Specify dtype option on import or set low_memory=False.\n",
      "  for chunk in pd.read_csv(file, chunksize=chunksize):\n",
      "\n",
      "\n",
      "Reading files in Feb 2020:  67%|██████████████████████████████████████                   | 2/3 [00:00<00:00, 10.18it/s]\u001b[A\u001b[A"
     ]
    },
    {
     "data": {
      "application/javascript": [
       "\n",
       "        if (window._pyforest_update_imports_cell) { window._pyforest_update_imports_cell('import pandas as pd'); }\n",
       "    "
      ],
      "text/plain": [
       "<IPython.core.display.Javascript object>"
      ]
     },
     "metadata": {},
     "output_type": "display_data"
    },
    {
     "name": "stderr",
     "output_type": "stream",
     "text": [
      "Reading files in Feb 2020: 100%|█████████████████████████████████████████████████████████| 3/3 [00:00<00:00, 12.08it/s]\n",
      "\n",
      "Processing 2020:  33%|██████████████████████▎                                            | 3/9 [00:00<00:01,  3.62it/s]\u001b[A\n",
      "\n",
      "Reading files in Jan 2020:   0%|                                                                 | 0/3 [00:00<?, ?it/s]\u001b[A\u001b[A"
     ]
    },
    {
     "data": {
      "application/javascript": [
       "\n",
       "        if (window._pyforest_update_imports_cell) { window._pyforest_update_imports_cell('import pandas as pd'); }\n",
       "    "
      ],
      "text/plain": [
       "<IPython.core.display.Javascript object>"
      ]
     },
     "metadata": {},
     "output_type": "display_data"
    },
    {
     "data": {
      "application/javascript": [
       "\n",
       "        if (window._pyforest_update_imports_cell) { window._pyforest_update_imports_cell('import pandas as pd'); }\n",
       "    "
      ],
      "text/plain": [
       "<IPython.core.display.Javascript object>"
      ]
     },
     "metadata": {},
     "output_type": "display_data"
    },
    {
     "name": "stderr",
     "output_type": "stream",
     "text": [
      "C:\\Users\\Matthew Adenyo\\AppData\\Local\\Temp\\ipykernel_14504\\2378979365.py:47: DtypeWarning: Columns (4,11) have mixed types. Specify dtype option on import or set low_memory=False.\n",
      "  for chunk in pd.read_csv(file, chunksize=chunksize):\n",
      "\n",
      "\n",
      "Reading files in Jan 2020:  67%|██████████████████████████████████████                   | 2/3 [00:00<00:00,  7.86it/s]\u001b[A\u001b[A"
     ]
    },
    {
     "data": {
      "application/javascript": [
       "\n",
       "        if (window._pyforest_update_imports_cell) { window._pyforest_update_imports_cell('import pandas as pd'); }\n",
       "    "
      ],
      "text/plain": [
       "<IPython.core.display.Javascript object>"
      ]
     },
     "metadata": {},
     "output_type": "display_data"
    },
    {
     "name": "stderr",
     "output_type": "stream",
     "text": [
      "Reading files in Jan 2020: 100%|█████████████████████████████████████████████████████████| 3/3 [00:00<00:00,  9.34it/s]\n",
      "\n",
      "Processing 2020:  44%|█████████████████████████████▊                                     | 4/9 [00:01<00:01,  3.34it/s]\u001b[A\n",
      "\n",
      "Reading files in Jul 2020:   0%|                                                                 | 0/3 [00:00<?, ?it/s]\u001b[A\u001b[A"
     ]
    },
    {
     "data": {
      "application/javascript": [
       "\n",
       "        if (window._pyforest_update_imports_cell) { window._pyforest_update_imports_cell('import pandas as pd'); }\n",
       "    "
      ],
      "text/plain": [
       "<IPython.core.display.Javascript object>"
      ]
     },
     "metadata": {},
     "output_type": "display_data"
    },
    {
     "data": {
      "application/javascript": [
       "\n",
       "        if (window._pyforest_update_imports_cell) { window._pyforest_update_imports_cell('import pandas as pd'); }\n",
       "    "
      ],
      "text/plain": [
       "<IPython.core.display.Javascript object>"
      ]
     },
     "metadata": {},
     "output_type": "display_data"
    },
    {
     "name": "stderr",
     "output_type": "stream",
     "text": [
      "C:\\Users\\Matthew Adenyo\\AppData\\Local\\Temp\\ipykernel_14504\\2378979365.py:47: DtypeWarning: Columns (4,11) have mixed types. Specify dtype option on import or set low_memory=False.\n",
      "  for chunk in pd.read_csv(file, chunksize=chunksize):\n",
      "\n",
      "\n",
      "Reading files in Jul 2020:  67%|██████████████████████████████████████                   | 2/3 [00:00<00:00,  8.21it/s]\u001b[A\u001b[A"
     ]
    },
    {
     "data": {
      "application/javascript": [
       "\n",
       "        if (window._pyforest_update_imports_cell) { window._pyforest_update_imports_cell('import pandas as pd'); }\n",
       "    "
      ],
      "text/plain": [
       "<IPython.core.display.Javascript object>"
      ]
     },
     "metadata": {},
     "output_type": "display_data"
    },
    {
     "name": "stderr",
     "output_type": "stream",
     "text": [
      "Reading files in Jul 2020: 100%|█████████████████████████████████████████████████████████| 3/3 [00:00<00:00,  9.66it/s]\n",
      "\n",
      "Processing 2020:  56%|█████████████████████████████████████▏                             | 5/9 [00:01<00:01,  3.22it/s]\u001b[A\n",
      "\n",
      "Reading files in Jun 2020:   0%|                                                                 | 0/3 [00:00<?, ?it/s]\u001b[A\u001b[A"
     ]
    },
    {
     "data": {
      "application/javascript": [
       "\n",
       "        if (window._pyforest_update_imports_cell) { window._pyforest_update_imports_cell('import pandas as pd'); }\n",
       "    "
      ],
      "text/plain": [
       "<IPython.core.display.Javascript object>"
      ]
     },
     "metadata": {},
     "output_type": "display_data"
    },
    {
     "data": {
      "application/javascript": [
       "\n",
       "        if (window._pyforest_update_imports_cell) { window._pyforest_update_imports_cell('import pandas as pd'); }\n",
       "    "
      ],
      "text/plain": [
       "<IPython.core.display.Javascript object>"
      ]
     },
     "metadata": {},
     "output_type": "display_data"
    },
    {
     "name": "stderr",
     "output_type": "stream",
     "text": [
      "C:\\Users\\Matthew Adenyo\\AppData\\Local\\Temp\\ipykernel_14504\\2378979365.py:47: DtypeWarning: Columns (4,11) have mixed types. Specify dtype option on import or set low_memory=False.\n",
      "  for chunk in pd.read_csv(file, chunksize=chunksize):\n",
      "\n",
      "\n",
      "Reading files in Jun 2020:  67%|██████████████████████████████████████                   | 2/3 [00:00<00:00,  8.51it/s]\u001b[A\u001b[A"
     ]
    },
    {
     "data": {
      "application/javascript": [
       "\n",
       "        if (window._pyforest_update_imports_cell) { window._pyforest_update_imports_cell('import pandas as pd'); }\n",
       "    "
      ],
      "text/plain": [
       "<IPython.core.display.Javascript object>"
      ]
     },
     "metadata": {},
     "output_type": "display_data"
    },
    {
     "name": "stderr",
     "output_type": "stream",
     "text": [
      "Reading files in Jun 2020: 100%|█████████████████████████████████████████████████████████| 3/3 [00:00<00:00, 10.53it/s]\n",
      "\n",
      "Processing 2020:  67%|████████████████████████████████████████████▋                      | 6/9 [00:01<00:00,  3.26it/s]\u001b[A\n",
      "\n",
      "Reading files in Mar 2020:   0%|                                                                 | 0/3 [00:00<?, ?it/s]\u001b[A\u001b[A"
     ]
    },
    {
     "data": {
      "application/javascript": [
       "\n",
       "        if (window._pyforest_update_imports_cell) { window._pyforest_update_imports_cell('import pandas as pd'); }\n",
       "    "
      ],
      "text/plain": [
       "<IPython.core.display.Javascript object>"
      ]
     },
     "metadata": {},
     "output_type": "display_data"
    },
    {
     "data": {
      "application/javascript": [
       "\n",
       "        if (window._pyforest_update_imports_cell) { window._pyforest_update_imports_cell('import pandas as pd'); }\n",
       "    "
      ],
      "text/plain": [
       "<IPython.core.display.Javascript object>"
      ]
     },
     "metadata": {},
     "output_type": "display_data"
    },
    {
     "name": "stderr",
     "output_type": "stream",
     "text": [
      "C:\\Users\\Matthew Adenyo\\AppData\\Local\\Temp\\ipykernel_14504\\2378979365.py:47: DtypeWarning: Columns (4,11) have mixed types. Specify dtype option on import or set low_memory=False.\n",
      "  for chunk in pd.read_csv(file, chunksize=chunksize):\n",
      "\n",
      "\n",
      "Reading files in Mar 2020:  67%|██████████████████████████████████████                   | 2/3 [00:00<00:00,  7.65it/s]\u001b[A\u001b[A"
     ]
    },
    {
     "data": {
      "application/javascript": [
       "\n",
       "        if (window._pyforest_update_imports_cell) { window._pyforest_update_imports_cell('import pandas as pd'); }\n",
       "    "
      ],
      "text/plain": [
       "<IPython.core.display.Javascript object>"
      ]
     },
     "metadata": {},
     "output_type": "display_data"
    },
    {
     "name": "stderr",
     "output_type": "stream",
     "text": [
      "Reading files in Mar 2020: 100%|█████████████████████████████████████████████████████████| 3/3 [00:00<00:00,  9.64it/s]\n",
      "\n",
      "Processing 2020:  78%|████████████████████████████████████████████████████               | 7/9 [00:02<00:00,  3.21it/s]\u001b[A\n",
      "\n",
      "Reading files in May 2020:   0%|                                                                 | 0/3 [00:00<?, ?it/s]\u001b[A\u001b[A"
     ]
    },
    {
     "data": {
      "application/javascript": [
       "\n",
       "        if (window._pyforest_update_imports_cell) { window._pyforest_update_imports_cell('import pandas as pd'); }\n",
       "    "
      ],
      "text/plain": [
       "<IPython.core.display.Javascript object>"
      ]
     },
     "metadata": {},
     "output_type": "display_data"
    },
    {
     "name": "stderr",
     "output_type": "stream",
     "text": [
      "\n",
      "\n",
      "Reading files in May 2020:  33%|███████████████████                                      | 1/3 [00:00<00:00,  8.64it/s]\u001b[A\u001b[A"
     ]
    },
    {
     "data": {
      "application/javascript": [
       "\n",
       "        if (window._pyforest_update_imports_cell) { window._pyforest_update_imports_cell('import pandas as pd'); }\n",
       "    "
      ],
      "text/plain": [
       "<IPython.core.display.Javascript object>"
      ]
     },
     "metadata": {},
     "output_type": "display_data"
    },
    {
     "name": "stderr",
     "output_type": "stream",
     "text": [
      "\n",
      "\n",
      "Reading files in May 2020:  67%|██████████████████████████████████████                   | 2/3 [00:00<00:00,  6.40it/s]\u001b[A\u001b[A"
     ]
    },
    {
     "data": {
      "application/javascript": [
       "\n",
       "        if (window._pyforest_update_imports_cell) { window._pyforest_update_imports_cell('import pandas as pd'); }\n",
       "    "
      ],
      "text/plain": [
       "<IPython.core.display.Javascript object>"
      ]
     },
     "metadata": {},
     "output_type": "display_data"
    },
    {
     "name": "stderr",
     "output_type": "stream",
     "text": [
      "Reading files in May 2020: 100%|█████████████████████████████████████████████████████████| 3/3 [00:00<00:00,  8.82it/s]\n",
      "\n",
      "Processing 2020:  89%|███████████████████████████████████████████████████████████▌       | 8/9 [00:02<00:00,  3.09it/s]\u001b[A\n",
      "\n",
      "Reading files in Sept 2020:   0%|                                                                | 0/3 [00:00<?, ?it/s]\u001b[A\u001b[A"
     ]
    },
    {
     "data": {
      "application/javascript": [
       "\n",
       "        if (window._pyforest_update_imports_cell) { window._pyforest_update_imports_cell('import pandas as pd'); }\n",
       "    "
      ],
      "text/plain": [
       "<IPython.core.display.Javascript object>"
      ]
     },
     "metadata": {},
     "output_type": "display_data"
    },
    {
     "data": {
      "application/javascript": [
       "\n",
       "        if (window._pyforest_update_imports_cell) { window._pyforest_update_imports_cell('import pandas as pd'); }\n",
       "    "
      ],
      "text/plain": [
       "<IPython.core.display.Javascript object>"
      ]
     },
     "metadata": {},
     "output_type": "display_data"
    },
    {
     "name": "stderr",
     "output_type": "stream",
     "text": [
      "C:\\Users\\Matthew Adenyo\\AppData\\Local\\Temp\\ipykernel_14504\\2378979365.py:47: DtypeWarning: Columns (4,11) have mixed types. Specify dtype option on import or set low_memory=False.\n",
      "  for chunk in pd.read_csv(file, chunksize=chunksize):\n",
      "\n",
      "\n",
      "Reading files in Sept 2020:  67%|█████████████████████████████████████▎                  | 2/3 [00:00<00:00, 10.16it/s]\u001b[A\u001b[A"
     ]
    },
    {
     "data": {
      "application/javascript": [
       "\n",
       "        if (window._pyforest_update_imports_cell) { window._pyforest_update_imports_cell('import pandas as pd'); }\n",
       "    "
      ],
      "text/plain": [
       "<IPython.core.display.Javascript object>"
      ]
     },
     "metadata": {},
     "output_type": "display_data"
    },
    {
     "name": "stderr",
     "output_type": "stream",
     "text": [
      "Reading files in Sept 2020: 100%|████████████████████████████████████████████████████████| 3/3 [00:00<00:00, 12.47it/s]\n",
      "\n",
      "Processing 2020: 100%|███████████████████████████████████████████████████████████████████| 9/9 [00:02<00:00,  3.29it/s]\u001b[A\n",
      "Processing Years:  20%|█████████████▏                                                    | 1/5 [00:02<00:10,  2.74s/it]\n",
      "Processing 2021:   0%|                                                                          | 0/12 [00:00<?, ?it/s]\u001b[A\n",
      "\n",
      "Reading files in Apr 2021:   0%|                                                                 | 0/3 [00:00<?, ?it/s]\u001b[A\u001b[A"
     ]
    },
    {
     "data": {
      "application/javascript": [
       "\n",
       "        if (window._pyforest_update_imports_cell) { window._pyforest_update_imports_cell('import pandas as pd'); }\n",
       "    "
      ],
      "text/plain": [
       "<IPython.core.display.Javascript object>"
      ]
     },
     "metadata": {},
     "output_type": "display_data"
    },
    {
     "data": {
      "application/javascript": [
       "\n",
       "        if (window._pyforest_update_imports_cell) { window._pyforest_update_imports_cell('import pandas as pd'); }\n",
       "    "
      ],
      "text/plain": [
       "<IPython.core.display.Javascript object>"
      ]
     },
     "metadata": {},
     "output_type": "display_data"
    },
    {
     "name": "stderr",
     "output_type": "stream",
     "text": [
      "C:\\Users\\Matthew Adenyo\\AppData\\Local\\Temp\\ipykernel_14504\\2378979365.py:47: DtypeWarning: Columns (4,11) have mixed types. Specify dtype option on import or set low_memory=False.\n",
      "  for chunk in pd.read_csv(file, chunksize=chunksize):\n",
      "\n",
      "\n",
      "Reading files in Apr 2021:  67%|██████████████████████████████████████                   | 2/3 [00:00<00:00,  7.35it/s]\u001b[A\u001b[A"
     ]
    },
    {
     "data": {
      "application/javascript": [
       "\n",
       "        if (window._pyforest_update_imports_cell) { window._pyforest_update_imports_cell('import pandas as pd'); }\n",
       "    "
      ],
      "text/plain": [
       "<IPython.core.display.Javascript object>"
      ]
     },
     "metadata": {},
     "output_type": "display_data"
    },
    {
     "name": "stderr",
     "output_type": "stream",
     "text": [
      "Reading files in Apr 2021: 100%|█████████████████████████████████████████████████████████| 3/3 [00:00<00:00,  8.93it/s]\n",
      "\n",
      "Processing 2021:   8%|█████▌                                                            | 1/12 [00:00<00:03,  2.90it/s]\u001b[A\n",
      "\n",
      "Reading files in Aug 2021:   0%|                                                                 | 0/3 [00:00<?, ?it/s]\u001b[A\u001b[A"
     ]
    },
    {
     "data": {
      "application/javascript": [
       "\n",
       "        if (window._pyforest_update_imports_cell) { window._pyforest_update_imports_cell('import pandas as pd'); }\n",
       "    "
      ],
      "text/plain": [
       "<IPython.core.display.Javascript object>"
      ]
     },
     "metadata": {},
     "output_type": "display_data"
    },
    {
     "data": {
      "application/javascript": [
       "\n",
       "        if (window._pyforest_update_imports_cell) { window._pyforest_update_imports_cell('import pandas as pd'); }\n",
       "    "
      ],
      "text/plain": [
       "<IPython.core.display.Javascript object>"
      ]
     },
     "metadata": {},
     "output_type": "display_data"
    },
    {
     "name": "stderr",
     "output_type": "stream",
     "text": [
      "C:\\Users\\Matthew Adenyo\\AppData\\Local\\Temp\\ipykernel_14504\\2378979365.py:47: DtypeWarning: Columns (4,11) have mixed types. Specify dtype option on import or set low_memory=False.\n",
      "  for chunk in pd.read_csv(file, chunksize=chunksize):\n",
      "\n",
      "\n",
      "Reading files in Aug 2021:  67%|██████████████████████████████████████                   | 2/3 [00:00<00:00,  9.62it/s]\u001b[A\u001b[A"
     ]
    },
    {
     "data": {
      "application/javascript": [
       "\n",
       "        if (window._pyforest_update_imports_cell) { window._pyforest_update_imports_cell('import pandas as pd'); }\n",
       "    "
      ],
      "text/plain": [
       "<IPython.core.display.Javascript object>"
      ]
     },
     "metadata": {},
     "output_type": "display_data"
    },
    {
     "name": "stderr",
     "output_type": "stream",
     "text": [
      "Reading files in Aug 2021: 100%|█████████████████████████████████████████████████████████| 3/3 [00:00<00:00, 11.61it/s]\n",
      "\n",
      "Processing 2021:  17%|███████████                                                       | 2/12 [00:00<00:02,  3.34it/s]\u001b[A\n",
      "\n",
      "Reading files in Dec 2021:   0%|                                                                 | 0/3 [00:00<?, ?it/s]\u001b[A\u001b[A"
     ]
    },
    {
     "data": {
      "application/javascript": [
       "\n",
       "        if (window._pyforest_update_imports_cell) { window._pyforest_update_imports_cell('import pandas as pd'); }\n",
       "    "
      ],
      "text/plain": [
       "<IPython.core.display.Javascript object>"
      ]
     },
     "metadata": {},
     "output_type": "display_data"
    },
    {
     "data": {
      "application/javascript": [
       "\n",
       "        if (window._pyforest_update_imports_cell) { window._pyforest_update_imports_cell('import pandas as pd'); }\n",
       "    "
      ],
      "text/plain": [
       "<IPython.core.display.Javascript object>"
      ]
     },
     "metadata": {},
     "output_type": "display_data"
    },
    {
     "name": "stderr",
     "output_type": "stream",
     "text": [
      "C:\\Users\\Matthew Adenyo\\AppData\\Local\\Temp\\ipykernel_14504\\2378979365.py:47: DtypeWarning: Columns (4,11) have mixed types. Specify dtype option on import or set low_memory=False.\n",
      "  for chunk in pd.read_csv(file, chunksize=chunksize):\n",
      "\n",
      "\n",
      "Reading files in Dec 2021:  67%|██████████████████████████████████████                   | 2/3 [00:00<00:00,  8.41it/s]\u001b[A\u001b[A"
     ]
    },
    {
     "data": {
      "application/javascript": [
       "\n",
       "        if (window._pyforest_update_imports_cell) { window._pyforest_update_imports_cell('import pandas as pd'); }\n",
       "    "
      ],
      "text/plain": [
       "<IPython.core.display.Javascript object>"
      ]
     },
     "metadata": {},
     "output_type": "display_data"
    },
    {
     "name": "stderr",
     "output_type": "stream",
     "text": [
      "Reading files in Dec 2021: 100%|█████████████████████████████████████████████████████████| 3/3 [00:00<00:00, 10.73it/s]\n",
      "\n",
      "Processing 2021:  25%|████████████████▌                                                 | 3/12 [00:00<00:02,  3.40it/s]\u001b[A\n",
      "\n",
      "Reading files in Feb 2021:   0%|                                                                 | 0/3 [00:00<?, ?it/s]\u001b[A\u001b[A"
     ]
    },
    {
     "data": {
      "application/javascript": [
       "\n",
       "        if (window._pyforest_update_imports_cell) { window._pyforest_update_imports_cell('import pandas as pd'); }\n",
       "    "
      ],
      "text/plain": [
       "<IPython.core.display.Javascript object>"
      ]
     },
     "metadata": {},
     "output_type": "display_data"
    },
    {
     "data": {
      "application/javascript": [
       "\n",
       "        if (window._pyforest_update_imports_cell) { window._pyforest_update_imports_cell('import pandas as pd'); }\n",
       "    "
      ],
      "text/plain": [
       "<IPython.core.display.Javascript object>"
      ]
     },
     "metadata": {},
     "output_type": "display_data"
    },
    {
     "name": "stderr",
     "output_type": "stream",
     "text": [
      "C:\\Users\\Matthew Adenyo\\AppData\\Local\\Temp\\ipykernel_14504\\2378979365.py:47: DtypeWarning: Columns (4,11) have mixed types. Specify dtype option on import or set low_memory=False.\n",
      "  for chunk in pd.read_csv(file, chunksize=chunksize):\n",
      "\n",
      "\n",
      "Reading files in Feb 2021:  67%|██████████████████████████████████████                   | 2/3 [00:00<00:00, 10.87it/s]\u001b[A\u001b[A"
     ]
    },
    {
     "data": {
      "application/javascript": [
       "\n",
       "        if (window._pyforest_update_imports_cell) { window._pyforest_update_imports_cell('import pandas as pd'); }\n",
       "    "
      ],
      "text/plain": [
       "<IPython.core.display.Javascript object>"
      ]
     },
     "metadata": {},
     "output_type": "display_data"
    },
    {
     "name": "stderr",
     "output_type": "stream",
     "text": [
      "Reading files in Feb 2021: 100%|█████████████████████████████████████████████████████████| 3/3 [00:00<00:00, 12.66it/s]\n",
      "\n",
      "Processing 2021:  33%|██████████████████████                                            | 4/12 [00:01<00:02,  3.63it/s]\u001b[A\n",
      "\n",
      "Reading files in Jan 2021:   0%|                                                                 | 0/3 [00:00<?, ?it/s]\u001b[A\u001b[A"
     ]
    },
    {
     "data": {
      "application/javascript": [
       "\n",
       "        if (window._pyforest_update_imports_cell) { window._pyforest_update_imports_cell('import pandas as pd'); }\n",
       "    "
      ],
      "text/plain": [
       "<IPython.core.display.Javascript object>"
      ]
     },
     "metadata": {},
     "output_type": "display_data"
    },
    {
     "data": {
      "application/javascript": [
       "\n",
       "        if (window._pyforest_update_imports_cell) { window._pyforest_update_imports_cell('import pandas as pd'); }\n",
       "    "
      ],
      "text/plain": [
       "<IPython.core.display.Javascript object>"
      ]
     },
     "metadata": {},
     "output_type": "display_data"
    },
    {
     "name": "stderr",
     "output_type": "stream",
     "text": [
      "C:\\Users\\Matthew Adenyo\\AppData\\Local\\Temp\\ipykernel_14504\\2378979365.py:47: DtypeWarning: Columns (4,11) have mixed types. Specify dtype option on import or set low_memory=False.\n",
      "  for chunk in pd.read_csv(file, chunksize=chunksize):\n",
      "\n",
      "\n",
      "Reading files in Jan 2021:  67%|██████████████████████████████████████                   | 2/3 [00:00<00:00, 11.08it/s]\u001b[A\u001b[A"
     ]
    },
    {
     "data": {
      "application/javascript": [
       "\n",
       "        if (window._pyforest_update_imports_cell) { window._pyforest_update_imports_cell('import pandas as pd'); }\n",
       "    "
      ],
      "text/plain": [
       "<IPython.core.display.Javascript object>"
      ]
     },
     "metadata": {},
     "output_type": "display_data"
    },
    {
     "name": "stderr",
     "output_type": "stream",
     "text": [
      "Reading files in Jan 2021: 100%|█████████████████████████████████████████████████████████| 3/3 [00:00<00:00, 13.67it/s]\n",
      "\n",
      "Processing 2021:  42%|███████████████████████████▌                                      | 5/12 [00:01<00:01,  3.86it/s]\u001b[A\n",
      "\n",
      "Reading files in Jul 2021:   0%|                                                                 | 0/3 [00:00<?, ?it/s]\u001b[A\u001b[A"
     ]
    },
    {
     "data": {
      "application/javascript": [
       "\n",
       "        if (window._pyforest_update_imports_cell) { window._pyforest_update_imports_cell('import pandas as pd'); }\n",
       "    "
      ],
      "text/plain": [
       "<IPython.core.display.Javascript object>"
      ]
     },
     "metadata": {},
     "output_type": "display_data"
    },
    {
     "data": {
      "application/javascript": [
       "\n",
       "        if (window._pyforest_update_imports_cell) { window._pyforest_update_imports_cell('import pandas as pd'); }\n",
       "    "
      ],
      "text/plain": [
       "<IPython.core.display.Javascript object>"
      ]
     },
     "metadata": {},
     "output_type": "display_data"
    },
    {
     "name": "stderr",
     "output_type": "stream",
     "text": [
      "C:\\Users\\Matthew Adenyo\\AppData\\Local\\Temp\\ipykernel_14504\\2378979365.py:47: DtypeWarning: Columns (4,11) have mixed types. Specify dtype option on import or set low_memory=False.\n",
      "  for chunk in pd.read_csv(file, chunksize=chunksize):\n",
      "\n",
      "\n",
      "Reading files in Jul 2021:  67%|██████████████████████████████████████                   | 2/3 [00:00<00:00, 10.77it/s]\u001b[A\u001b[A"
     ]
    },
    {
     "data": {
      "application/javascript": [
       "\n",
       "        if (window._pyforest_update_imports_cell) { window._pyforest_update_imports_cell('import pandas as pd'); }\n",
       "    "
      ],
      "text/plain": [
       "<IPython.core.display.Javascript object>"
      ]
     },
     "metadata": {},
     "output_type": "display_data"
    },
    {
     "name": "stderr",
     "output_type": "stream",
     "text": [
      "Reading files in Jul 2021: 100%|█████████████████████████████████████████████████████████| 3/3 [00:00<00:00, 12.98it/s]\n",
      "\n",
      "Processing 2021:  50%|█████████████████████████████████                                 | 6/12 [00:01<00:01,  3.96it/s]\u001b[A\n",
      "\n",
      "Reading files in Jun 2021:   0%|                                                                 | 0/3 [00:00<?, ?it/s]\u001b[A\u001b[A"
     ]
    },
    {
     "data": {
      "application/javascript": [
       "\n",
       "        if (window._pyforest_update_imports_cell) { window._pyforest_update_imports_cell('import pandas as pd'); }\n",
       "    "
      ],
      "text/plain": [
       "<IPython.core.display.Javascript object>"
      ]
     },
     "metadata": {},
     "output_type": "display_data"
    },
    {
     "data": {
      "application/javascript": [
       "\n",
       "        if (window._pyforest_update_imports_cell) { window._pyforest_update_imports_cell('import pandas as pd'); }\n",
       "    "
      ],
      "text/plain": [
       "<IPython.core.display.Javascript object>"
      ]
     },
     "metadata": {},
     "output_type": "display_data"
    },
    {
     "name": "stderr",
     "output_type": "stream",
     "text": [
      "C:\\Users\\Matthew Adenyo\\AppData\\Local\\Temp\\ipykernel_14504\\2378979365.py:47: DtypeWarning: Columns (4,11) have mixed types. Specify dtype option on import or set low_memory=False.\n",
      "  for chunk in pd.read_csv(file, chunksize=chunksize):\n",
      "\n",
      "\n",
      "Reading files in Jun 2021:  67%|██████████████████████████████████████                   | 2/3 [00:00<00:00, 10.66it/s]\u001b[A\u001b[A"
     ]
    },
    {
     "data": {
      "application/javascript": [
       "\n",
       "        if (window._pyforest_update_imports_cell) { window._pyforest_update_imports_cell('import pandas as pd'); }\n",
       "    "
      ],
      "text/plain": [
       "<IPython.core.display.Javascript object>"
      ]
     },
     "metadata": {},
     "output_type": "display_data"
    },
    {
     "name": "stderr",
     "output_type": "stream",
     "text": [
      "Reading files in Jun 2021: 100%|█████████████████████████████████████████████████████████| 3/3 [00:00<00:00, 12.87it/s]\n",
      "\n",
      "Processing 2021:  58%|██████████████████████████████████████▌                           | 7/12 [00:01<00:01,  4.01it/s]\u001b[A\n",
      "\n",
      "Reading files in Mar 2021:   0%|                                                                 | 0/3 [00:00<?, ?it/s]\u001b[A\u001b[A"
     ]
    },
    {
     "data": {
      "application/javascript": [
       "\n",
       "        if (window._pyforest_update_imports_cell) { window._pyforest_update_imports_cell('import pandas as pd'); }\n",
       "    "
      ],
      "text/plain": [
       "<IPython.core.display.Javascript object>"
      ]
     },
     "metadata": {},
     "output_type": "display_data"
    },
    {
     "data": {
      "application/javascript": [
       "\n",
       "        if (window._pyforest_update_imports_cell) { window._pyforest_update_imports_cell('import pandas as pd'); }\n",
       "    "
      ],
      "text/plain": [
       "<IPython.core.display.Javascript object>"
      ]
     },
     "metadata": {},
     "output_type": "display_data"
    },
    {
     "name": "stderr",
     "output_type": "stream",
     "text": [
      "C:\\Users\\Matthew Adenyo\\AppData\\Local\\Temp\\ipykernel_14504\\2378979365.py:47: DtypeWarning: Columns (4,11) have mixed types. Specify dtype option on import or set low_memory=False.\n",
      "  for chunk in pd.read_csv(file, chunksize=chunksize):\n",
      "\n",
      "\n",
      "Reading files in Mar 2021:  67%|██████████████████████████████████████                   | 2/3 [00:00<00:00, 10.34it/s]\u001b[A\u001b[A"
     ]
    },
    {
     "data": {
      "application/javascript": [
       "\n",
       "        if (window._pyforest_update_imports_cell) { window._pyforest_update_imports_cell('import pandas as pd'); }\n",
       "    "
      ],
      "text/plain": [
       "<IPython.core.display.Javascript object>"
      ]
     },
     "metadata": {},
     "output_type": "display_data"
    },
    {
     "name": "stderr",
     "output_type": "stream",
     "text": [
      "Reading files in Mar 2021: 100%|█████████████████████████████████████████████████████████| 3/3 [00:00<00:00, 12.69it/s]\n",
      "\n",
      "Processing 2021:  67%|████████████████████████████████████████████                      | 8/12 [00:02<00:00,  4.04it/s]\u001b[A\n",
      "\n",
      "Reading files in May 2021:   0%|                                                                 | 0/3 [00:00<?, ?it/s]\u001b[A\u001b[A"
     ]
    },
    {
     "data": {
      "application/javascript": [
       "\n",
       "        if (window._pyforest_update_imports_cell) { window._pyforest_update_imports_cell('import pandas as pd'); }\n",
       "    "
      ],
      "text/plain": [
       "<IPython.core.display.Javascript object>"
      ]
     },
     "metadata": {},
     "output_type": "display_data"
    },
    {
     "data": {
      "application/javascript": [
       "\n",
       "        if (window._pyforest_update_imports_cell) { window._pyforest_update_imports_cell('import pandas as pd'); }\n",
       "    "
      ],
      "text/plain": [
       "<IPython.core.display.Javascript object>"
      ]
     },
     "metadata": {},
     "output_type": "display_data"
    },
    {
     "name": "stderr",
     "output_type": "stream",
     "text": [
      "C:\\Users\\Matthew Adenyo\\AppData\\Local\\Temp\\ipykernel_14504\\2378979365.py:47: DtypeWarning: Columns (4,11) have mixed types. Specify dtype option on import or set low_memory=False.\n",
      "  for chunk in pd.read_csv(file, chunksize=chunksize):\n",
      "\n",
      "\n",
      "Reading files in May 2021:  67%|██████████████████████████████████████                   | 2/3 [00:00<00:00, 10.60it/s]\u001b[A\u001b[A"
     ]
    },
    {
     "data": {
      "application/javascript": [
       "\n",
       "        if (window._pyforest_update_imports_cell) { window._pyforest_update_imports_cell('import pandas as pd'); }\n",
       "    "
      ],
      "text/plain": [
       "<IPython.core.display.Javascript object>"
      ]
     },
     "metadata": {},
     "output_type": "display_data"
    },
    {
     "name": "stderr",
     "output_type": "stream",
     "text": [
      "Reading files in May 2021: 100%|█████████████████████████████████████████████████████████| 3/3 [00:00<00:00, 12.12it/s]\n",
      "\n",
      "Processing 2021:  75%|█████████████████████████████████████████████████▌                | 9/12 [00:02<00:00,  3.99it/s]\u001b[A\n",
      "\n",
      "Reading files in Nov 2021:   0%|                                                                 | 0/3 [00:00<?, ?it/s]\u001b[A\u001b[A"
     ]
    },
    {
     "data": {
      "application/javascript": [
       "\n",
       "        if (window._pyforest_update_imports_cell) { window._pyforest_update_imports_cell('import pandas as pd'); }\n",
       "    "
      ],
      "text/plain": [
       "<IPython.core.display.Javascript object>"
      ]
     },
     "metadata": {},
     "output_type": "display_data"
    },
    {
     "data": {
      "application/javascript": [
       "\n",
       "        if (window._pyforest_update_imports_cell) { window._pyforest_update_imports_cell('import pandas as pd'); }\n",
       "    "
      ],
      "text/plain": [
       "<IPython.core.display.Javascript object>"
      ]
     },
     "metadata": {},
     "output_type": "display_data"
    },
    {
     "name": "stderr",
     "output_type": "stream",
     "text": [
      "C:\\Users\\Matthew Adenyo\\AppData\\Local\\Temp\\ipykernel_14504\\2378979365.py:47: DtypeWarning: Columns (4,11) have mixed types. Specify dtype option on import or set low_memory=False.\n",
      "  for chunk in pd.read_csv(file, chunksize=chunksize):\n",
      "\n",
      "\n",
      "Reading files in Nov 2021:  67%|██████████████████████████████████████                   | 2/3 [00:00<00:00,  9.92it/s]\u001b[A\u001b[A"
     ]
    },
    {
     "data": {
      "application/javascript": [
       "\n",
       "        if (window._pyforest_update_imports_cell) { window._pyforest_update_imports_cell('import pandas as pd'); }\n",
       "    "
      ],
      "text/plain": [
       "<IPython.core.display.Javascript object>"
      ]
     },
     "metadata": {},
     "output_type": "display_data"
    },
    {
     "name": "stderr",
     "output_type": "stream",
     "text": [
      "Reading files in Nov 2021: 100%|█████████████████████████████████████████████████████████| 3/3 [00:00<00:00, 12.09it/s]\n",
      "\n",
      "Processing 2021:  83%|██████████████████████████████████████████████████████▏          | 10/12 [00:02<00:00,  3.87it/s]\u001b[A\n",
      "\n",
      "Reading files in Oct 2021:   0%|                                                                 | 0/3 [00:00<?, ?it/s]\u001b[A\u001b[A"
     ]
    },
    {
     "data": {
      "application/javascript": [
       "\n",
       "        if (window._pyforest_update_imports_cell) { window._pyforest_update_imports_cell('import pandas as pd'); }\n",
       "    "
      ],
      "text/plain": [
       "<IPython.core.display.Javascript object>"
      ]
     },
     "metadata": {},
     "output_type": "display_data"
    },
    {
     "data": {
      "application/javascript": [
       "\n",
       "        if (window._pyforest_update_imports_cell) { window._pyforest_update_imports_cell('import pandas as pd'); }\n",
       "    "
      ],
      "text/plain": [
       "<IPython.core.display.Javascript object>"
      ]
     },
     "metadata": {},
     "output_type": "display_data"
    },
    {
     "name": "stderr",
     "output_type": "stream",
     "text": [
      "C:\\Users\\Matthew Adenyo\\AppData\\Local\\Temp\\ipykernel_14504\\2378979365.py:47: DtypeWarning: Columns (4,11) have mixed types. Specify dtype option on import or set low_memory=False.\n",
      "  for chunk in pd.read_csv(file, chunksize=chunksize):\n",
      "\n",
      "\n",
      "Reading files in Oct 2021:  67%|██████████████████████████████████████                   | 2/3 [00:00<00:00,  8.61it/s]\u001b[A\u001b[A"
     ]
    },
    {
     "data": {
      "application/javascript": [
       "\n",
       "        if (window._pyforest_update_imports_cell) { window._pyforest_update_imports_cell('import pandas as pd'); }\n",
       "    "
      ],
      "text/plain": [
       "<IPython.core.display.Javascript object>"
      ]
     },
     "metadata": {},
     "output_type": "display_data"
    },
    {
     "name": "stderr",
     "output_type": "stream",
     "text": [
      "Reading files in Oct 2021: 100%|█████████████████████████████████████████████████████████| 3/3 [00:00<00:00, 10.31it/s]\n",
      "\n",
      "Processing 2021:  92%|███████████████████████████████████████████████████████████▌     | 11/12 [00:02<00:00,  3.68it/s]\u001b[A\n",
      "\n",
      "Reading files in Sept 2021:   0%|                                                                | 0/3 [00:00<?, ?it/s]\u001b[A\u001b[A"
     ]
    },
    {
     "data": {
      "application/javascript": [
       "\n",
       "        if (window._pyforest_update_imports_cell) { window._pyforest_update_imports_cell('import pandas as pd'); }\n",
       "    "
      ],
      "text/plain": [
       "<IPython.core.display.Javascript object>"
      ]
     },
     "metadata": {},
     "output_type": "display_data"
    },
    {
     "data": {
      "application/javascript": [
       "\n",
       "        if (window._pyforest_update_imports_cell) { window._pyforest_update_imports_cell('import pandas as pd'); }\n",
       "    "
      ],
      "text/plain": [
       "<IPython.core.display.Javascript object>"
      ]
     },
     "metadata": {},
     "output_type": "display_data"
    },
    {
     "name": "stderr",
     "output_type": "stream",
     "text": [
      "C:\\Users\\Matthew Adenyo\\AppData\\Local\\Temp\\ipykernel_14504\\2378979365.py:47: DtypeWarning: Columns (4,11) have mixed types. Specify dtype option on import or set low_memory=False.\n",
      "  for chunk in pd.read_csv(file, chunksize=chunksize):\n",
      "\n",
      "\n",
      "Reading files in Sept 2021:  67%|█████████████████████████████████████▎                  | 2/3 [00:00<00:00,  7.27it/s]\u001b[A\u001b[A"
     ]
    },
    {
     "data": {
      "application/javascript": [
       "\n",
       "        if (window._pyforest_update_imports_cell) { window._pyforest_update_imports_cell('import pandas as pd'); }\n",
       "    "
      ],
      "text/plain": [
       "<IPython.core.display.Javascript object>"
      ]
     },
     "metadata": {},
     "output_type": "display_data"
    },
    {
     "name": "stderr",
     "output_type": "stream",
     "text": [
      "Reading files in Sept 2021: 100%|████████████████████████████████████████████████████████| 3/3 [00:00<00:00,  8.60it/s]\n",
      "\n",
      "Processing 2021: 100%|█████████████████████████████████████████████████████████████████| 12/12 [00:03<00:00,  3.64it/s]\u001b[A\n",
      "Processing Years:  40%|██████████████████████████▍                                       | 2/5 [00:06<00:09,  3.08s/it]\n",
      "Processing 2022:   0%|                                                                          | 0/12 [00:00<?, ?it/s]\u001b[A\n",
      "\n",
      "Reading files in Apr 2022:   0%|                                                                 | 0/3 [00:00<?, ?it/s]\u001b[A\u001b[A"
     ]
    },
    {
     "data": {
      "application/javascript": [
       "\n",
       "        if (window._pyforest_update_imports_cell) { window._pyforest_update_imports_cell('import pandas as pd'); }\n",
       "    "
      ],
      "text/plain": [
       "<IPython.core.display.Javascript object>"
      ]
     },
     "metadata": {},
     "output_type": "display_data"
    },
    {
     "data": {
      "application/javascript": [
       "\n",
       "        if (window._pyforest_update_imports_cell) { window._pyforest_update_imports_cell('import pandas as pd'); }\n",
       "    "
      ],
      "text/plain": [
       "<IPython.core.display.Javascript object>"
      ]
     },
     "metadata": {},
     "output_type": "display_data"
    },
    {
     "name": "stderr",
     "output_type": "stream",
     "text": [
      "C:\\Users\\Matthew Adenyo\\AppData\\Local\\Temp\\ipykernel_14504\\2378979365.py:47: DtypeWarning: Columns (4,11) have mixed types. Specify dtype option on import or set low_memory=False.\n",
      "  for chunk in pd.read_csv(file, chunksize=chunksize):\n",
      "\n",
      "\n",
      "Reading files in Apr 2022:  67%|██████████████████████████████████████                   | 2/3 [00:00<00:00, 10.72it/s]\u001b[A\u001b[A"
     ]
    },
    {
     "data": {
      "application/javascript": [
       "\n",
       "        if (window._pyforest_update_imports_cell) { window._pyforest_update_imports_cell('import pandas as pd'); }\n",
       "    "
      ],
      "text/plain": [
       "<IPython.core.display.Javascript object>"
      ]
     },
     "metadata": {},
     "output_type": "display_data"
    },
    {
     "name": "stderr",
     "output_type": "stream",
     "text": [
      "Reading files in Apr 2022: 100%|█████████████████████████████████████████████████████████| 3/3 [00:00<00:00, 13.10it/s]\n",
      "\n",
      "Processing 2022:   8%|█████▌                                                            | 1/12 [00:00<00:02,  4.26it/s]\u001b[A\n",
      "\n",
      "Reading files in Aug 2022:   0%|                                                                 | 0/3 [00:00<?, ?it/s]\u001b[A\u001b[A"
     ]
    },
    {
     "data": {
      "application/javascript": [
       "\n",
       "        if (window._pyforest_update_imports_cell) { window._pyforest_update_imports_cell('import pandas as pd'); }\n",
       "    "
      ],
      "text/plain": [
       "<IPython.core.display.Javascript object>"
      ]
     },
     "metadata": {},
     "output_type": "display_data"
    },
    {
     "data": {
      "application/javascript": [
       "\n",
       "        if (window._pyforest_update_imports_cell) { window._pyforest_update_imports_cell('import pandas as pd'); }\n",
       "    "
      ],
      "text/plain": [
       "<IPython.core.display.Javascript object>"
      ]
     },
     "metadata": {},
     "output_type": "display_data"
    },
    {
     "name": "stderr",
     "output_type": "stream",
     "text": [
      "C:\\Users\\Matthew Adenyo\\AppData\\Local\\Temp\\ipykernel_14504\\2378979365.py:47: DtypeWarning: Columns (4,11) have mixed types. Specify dtype option on import or set low_memory=False.\n",
      "  for chunk in pd.read_csv(file, chunksize=chunksize):\n",
      "\n",
      "\n",
      "Reading files in Aug 2022:  67%|██████████████████████████████████████                   | 2/3 [00:00<00:00,  8.67it/s]\u001b[A\u001b[A"
     ]
    },
    {
     "data": {
      "application/javascript": [
       "\n",
       "        if (window._pyforest_update_imports_cell) { window._pyforest_update_imports_cell('import pandas as pd'); }\n",
       "    "
      ],
      "text/plain": [
       "<IPython.core.display.Javascript object>"
      ]
     },
     "metadata": {},
     "output_type": "display_data"
    },
    {
     "name": "stderr",
     "output_type": "stream",
     "text": [
      "Reading files in Aug 2022: 100%|█████████████████████████████████████████████████████████| 3/3 [00:00<00:00,  9.79it/s]\n",
      "\n",
      "Processing 2022:  17%|███████████                                                       | 2/12 [00:00<00:02,  3.54it/s]\u001b[A\n",
      "\n",
      "Reading files in Dec 2022:   0%|                                                                 | 0/3 [00:00<?, ?it/s]\u001b[A\u001b[A"
     ]
    },
    {
     "data": {
      "application/javascript": [
       "\n",
       "        if (window._pyforest_update_imports_cell) { window._pyforest_update_imports_cell('import pandas as pd'); }\n",
       "    "
      ],
      "text/plain": [
       "<IPython.core.display.Javascript object>"
      ]
     },
     "metadata": {},
     "output_type": "display_data"
    },
    {
     "data": {
      "application/javascript": [
       "\n",
       "        if (window._pyforest_update_imports_cell) { window._pyforest_update_imports_cell('import pandas as pd'); }\n",
       "    "
      ],
      "text/plain": [
       "<IPython.core.display.Javascript object>"
      ]
     },
     "metadata": {},
     "output_type": "display_data"
    },
    {
     "name": "stderr",
     "output_type": "stream",
     "text": [
      "C:\\Users\\Matthew Adenyo\\AppData\\Local\\Temp\\ipykernel_14504\\2378979365.py:47: DtypeWarning: Columns (4,11) have mixed types. Specify dtype option on import or set low_memory=False.\n",
      "  for chunk in pd.read_csv(file, chunksize=chunksize):\n",
      "\n",
      "\n",
      "Reading files in Dec 2022:  67%|██████████████████████████████████████                   | 2/3 [00:00<00:00,  7.97it/s]\u001b[A\u001b[A"
     ]
    },
    {
     "data": {
      "application/javascript": [
       "\n",
       "        if (window._pyforest_update_imports_cell) { window._pyforest_update_imports_cell('import pandas as pd'); }\n",
       "    "
      ],
      "text/plain": [
       "<IPython.core.display.Javascript object>"
      ]
     },
     "metadata": {},
     "output_type": "display_data"
    },
    {
     "name": "stderr",
     "output_type": "stream",
     "text": [
      "Reading files in Dec 2022: 100%|█████████████████████████████████████████████████████████| 3/3 [00:00<00:00, 10.07it/s]\n",
      "\n",
      "Processing 2022:  25%|████████████████▌                                                 | 3/12 [00:00<00:02,  3.41it/s]\u001b[A\n",
      "\n",
      "Reading files in Feb 2022:   0%|                                                                 | 0/3 [00:00<?, ?it/s]\u001b[A\u001b[A"
     ]
    },
    {
     "data": {
      "application/javascript": [
       "\n",
       "        if (window._pyforest_update_imports_cell) { window._pyforest_update_imports_cell('import pandas as pd'); }\n",
       "    "
      ],
      "text/plain": [
       "<IPython.core.display.Javascript object>"
      ]
     },
     "metadata": {},
     "output_type": "display_data"
    },
    {
     "data": {
      "application/javascript": [
       "\n",
       "        if (window._pyforest_update_imports_cell) { window._pyforest_update_imports_cell('import pandas as pd'); }\n",
       "    "
      ],
      "text/plain": [
       "<IPython.core.display.Javascript object>"
      ]
     },
     "metadata": {},
     "output_type": "display_data"
    },
    {
     "name": "stderr",
     "output_type": "stream",
     "text": [
      "C:\\Users\\Matthew Adenyo\\AppData\\Local\\Temp\\ipykernel_14504\\2378979365.py:47: DtypeWarning: Columns (4,11) have mixed types. Specify dtype option on import or set low_memory=False.\n",
      "  for chunk in pd.read_csv(file, chunksize=chunksize):\n",
      "\n",
      "\n",
      "Reading files in Feb 2022:  67%|██████████████████████████████████████                   | 2/3 [00:00<00:00, 10.36it/s]\u001b[A\u001b[A"
     ]
    },
    {
     "data": {
      "application/javascript": [
       "\n",
       "        if (window._pyforest_update_imports_cell) { window._pyforest_update_imports_cell('import pandas as pd'); }\n",
       "    "
      ],
      "text/plain": [
       "<IPython.core.display.Javascript object>"
      ]
     },
     "metadata": {},
     "output_type": "display_data"
    },
    {
     "name": "stderr",
     "output_type": "stream",
     "text": [
      "Reading files in Feb 2022: 100%|█████████████████████████████████████████████████████████| 3/3 [00:00<00:00, 12.62it/s]\n",
      "\n",
      "Processing 2022:  33%|██████████████████████                                            | 4/12 [00:01<00:02,  3.63it/s]\u001b[A\n",
      "\n",
      "Reading files in Jan 2022:   0%|                                                                 | 0/3 [00:00<?, ?it/s]\u001b[A\u001b[A"
     ]
    },
    {
     "data": {
      "application/javascript": [
       "\n",
       "        if (window._pyforest_update_imports_cell) { window._pyforest_update_imports_cell('import pandas as pd'); }\n",
       "    "
      ],
      "text/plain": [
       "<IPython.core.display.Javascript object>"
      ]
     },
     "metadata": {},
     "output_type": "display_data"
    },
    {
     "data": {
      "application/javascript": [
       "\n",
       "        if (window._pyforest_update_imports_cell) { window._pyforest_update_imports_cell('import pandas as pd'); }\n",
       "    "
      ],
      "text/plain": [
       "<IPython.core.display.Javascript object>"
      ]
     },
     "metadata": {},
     "output_type": "display_data"
    },
    {
     "name": "stderr",
     "output_type": "stream",
     "text": [
      "C:\\Users\\Matthew Adenyo\\AppData\\Local\\Temp\\ipykernel_14504\\2378979365.py:47: DtypeWarning: Columns (4,11) have mixed types. Specify dtype option on import or set low_memory=False.\n",
      "  for chunk in pd.read_csv(file, chunksize=chunksize):\n",
      "\n",
      "\n",
      "Reading files in Jan 2022:  67%|██████████████████████████████████████                   | 2/3 [00:00<00:00,  9.76it/s]\u001b[A\u001b[A"
     ]
    },
    {
     "data": {
      "application/javascript": [
       "\n",
       "        if (window._pyforest_update_imports_cell) { window._pyforest_update_imports_cell('import pandas as pd'); }\n",
       "    "
      ],
      "text/plain": [
       "<IPython.core.display.Javascript object>"
      ]
     },
     "metadata": {},
     "output_type": "display_data"
    },
    {
     "name": "stderr",
     "output_type": "stream",
     "text": [
      "Reading files in Jan 2022: 100%|█████████████████████████████████████████████████████████| 3/3 [00:00<00:00, 12.36it/s]\n",
      "\n",
      "Processing 2022:  42%|███████████████████████████▌                                      | 5/12 [00:01<00:01,  3.74it/s]\u001b[A\n",
      "\n",
      "Reading files in Jul 2022:   0%|                                                                 | 0/3 [00:00<?, ?it/s]\u001b[A\u001b[A"
     ]
    },
    {
     "data": {
      "application/javascript": [
       "\n",
       "        if (window._pyforest_update_imports_cell) { window._pyforest_update_imports_cell('import pandas as pd'); }\n",
       "    "
      ],
      "text/plain": [
       "<IPython.core.display.Javascript object>"
      ]
     },
     "metadata": {},
     "output_type": "display_data"
    },
    {
     "data": {
      "application/javascript": [
       "\n",
       "        if (window._pyforest_update_imports_cell) { window._pyforest_update_imports_cell('import pandas as pd'); }\n",
       "    "
      ],
      "text/plain": [
       "<IPython.core.display.Javascript object>"
      ]
     },
     "metadata": {},
     "output_type": "display_data"
    },
    {
     "name": "stderr",
     "output_type": "stream",
     "text": [
      "C:\\Users\\Matthew Adenyo\\AppData\\Local\\Temp\\ipykernel_14504\\2378979365.py:47: DtypeWarning: Columns (4,11) have mixed types. Specify dtype option on import or set low_memory=False.\n",
      "  for chunk in pd.read_csv(file, chunksize=chunksize):\n",
      "\n",
      "\n",
      "Reading files in Jul 2022:  67%|██████████████████████████████████████                   | 2/3 [00:00<00:00, 11.23it/s]\u001b[A\u001b[A"
     ]
    },
    {
     "data": {
      "application/javascript": [
       "\n",
       "        if (window._pyforest_update_imports_cell) { window._pyforest_update_imports_cell('import pandas as pd'); }\n",
       "    "
      ],
      "text/plain": [
       "<IPython.core.display.Javascript object>"
      ]
     },
     "metadata": {},
     "output_type": "display_data"
    },
    {
     "name": "stderr",
     "output_type": "stream",
     "text": [
      "Reading files in Jul 2022: 100%|█████████████████████████████████████████████████████████| 3/3 [00:00<00:00, 13.39it/s]\n",
      "\n",
      "Processing 2022:  50%|█████████████████████████████████                                 | 6/12 [00:01<00:01,  3.88it/s]\u001b[A\n",
      "\n",
      "Reading files in Jun 2022:   0%|                                                                 | 0/3 [00:00<?, ?it/s]\u001b[A\u001b[A"
     ]
    },
    {
     "data": {
      "application/javascript": [
       "\n",
       "        if (window._pyforest_update_imports_cell) { window._pyforest_update_imports_cell('import pandas as pd'); }\n",
       "    "
      ],
      "text/plain": [
       "<IPython.core.display.Javascript object>"
      ]
     },
     "metadata": {},
     "output_type": "display_data"
    },
    {
     "data": {
      "application/javascript": [
       "\n",
       "        if (window._pyforest_update_imports_cell) { window._pyforest_update_imports_cell('import pandas as pd'); }\n",
       "    "
      ],
      "text/plain": [
       "<IPython.core.display.Javascript object>"
      ]
     },
     "metadata": {},
     "output_type": "display_data"
    },
    {
     "name": "stderr",
     "output_type": "stream",
     "text": [
      "C:\\Users\\Matthew Adenyo\\AppData\\Local\\Temp\\ipykernel_14504\\2378979365.py:47: DtypeWarning: Columns (4,11) have mixed types. Specify dtype option on import or set low_memory=False.\n",
      "  for chunk in pd.read_csv(file, chunksize=chunksize):\n",
      "\n",
      "\n",
      "Reading files in Jun 2022:  67%|██████████████████████████████████████                   | 2/3 [00:00<00:00, 10.37it/s]\u001b[A\u001b[A"
     ]
    },
    {
     "data": {
      "application/javascript": [
       "\n",
       "        if (window._pyforest_update_imports_cell) { window._pyforest_update_imports_cell('import pandas as pd'); }\n",
       "    "
      ],
      "text/plain": [
       "<IPython.core.display.Javascript object>"
      ]
     },
     "metadata": {},
     "output_type": "display_data"
    },
    {
     "name": "stderr",
     "output_type": "stream",
     "text": [
      "Reading files in Jun 2022: 100%|█████████████████████████████████████████████████████████| 3/3 [00:00<00:00, 12.73it/s]\n",
      "\n",
      "Processing 2022:  58%|██████████████████████████████████████▌                           | 7/12 [00:01<00:01,  3.95it/s]\u001b[A\n",
      "\n",
      "Reading files in Mar 2022:   0%|                                                                 | 0/3 [00:00<?, ?it/s]\u001b[A\u001b[A"
     ]
    },
    {
     "data": {
      "application/javascript": [
       "\n",
       "        if (window._pyforest_update_imports_cell) { window._pyforest_update_imports_cell('import pandas as pd'); }\n",
       "    "
      ],
      "text/plain": [
       "<IPython.core.display.Javascript object>"
      ]
     },
     "metadata": {},
     "output_type": "display_data"
    },
    {
     "data": {
      "application/javascript": [
       "\n",
       "        if (window._pyforest_update_imports_cell) { window._pyforest_update_imports_cell('import pandas as pd'); }\n",
       "    "
      ],
      "text/plain": [
       "<IPython.core.display.Javascript object>"
      ]
     },
     "metadata": {},
     "output_type": "display_data"
    },
    {
     "name": "stderr",
     "output_type": "stream",
     "text": [
      "C:\\Users\\Matthew Adenyo\\AppData\\Local\\Temp\\ipykernel_14504\\2378979365.py:47: DtypeWarning: Columns (4,11) have mixed types. Specify dtype option on import or set low_memory=False.\n",
      "  for chunk in pd.read_csv(file, chunksize=chunksize):\n",
      "\n",
      "\n",
      "Reading files in Mar 2022:  67%|██████████████████████████████████████                   | 2/3 [00:00<00:00, 10.32it/s]\u001b[A\u001b[A"
     ]
    },
    {
     "data": {
      "application/javascript": [
       "\n",
       "        if (window._pyforest_update_imports_cell) { window._pyforest_update_imports_cell('import pandas as pd'); }\n",
       "    "
      ],
      "text/plain": [
       "<IPython.core.display.Javascript object>"
      ]
     },
     "metadata": {},
     "output_type": "display_data"
    },
    {
     "name": "stderr",
     "output_type": "stream",
     "text": [
      "Reading files in Mar 2022: 100%|█████████████████████████████████████████████████████████| 3/3 [00:00<00:00, 11.94it/s]\n",
      "\n",
      "Processing 2022:  67%|████████████████████████████████████████████                      | 8/12 [00:02<00:01,  3.92it/s]\u001b[A\n",
      "\n",
      "Reading files in May 2022:   0%|                                                                 | 0/3 [00:00<?, ?it/s]\u001b[A\u001b[A"
     ]
    },
    {
     "data": {
      "application/javascript": [
       "\n",
       "        if (window._pyforest_update_imports_cell) { window._pyforest_update_imports_cell('import pandas as pd'); }\n",
       "    "
      ],
      "text/plain": [
       "<IPython.core.display.Javascript object>"
      ]
     },
     "metadata": {},
     "output_type": "display_data"
    },
    {
     "data": {
      "application/javascript": [
       "\n",
       "        if (window._pyforest_update_imports_cell) { window._pyforest_update_imports_cell('import pandas as pd'); }\n",
       "    "
      ],
      "text/plain": [
       "<IPython.core.display.Javascript object>"
      ]
     },
     "metadata": {},
     "output_type": "display_data"
    },
    {
     "name": "stderr",
     "output_type": "stream",
     "text": [
      "C:\\Users\\Matthew Adenyo\\AppData\\Local\\Temp\\ipykernel_14504\\2378979365.py:47: DtypeWarning: Columns (4,11) have mixed types. Specify dtype option on import or set low_memory=False.\n",
      "  for chunk in pd.read_csv(file, chunksize=chunksize):\n",
      "\n",
      "\n",
      "Reading files in May 2022:  67%|██████████████████████████████████████                   | 2/3 [00:00<00:00, 10.62it/s]\u001b[A\u001b[A"
     ]
    },
    {
     "data": {
      "application/javascript": [
       "\n",
       "        if (window._pyforest_update_imports_cell) { window._pyforest_update_imports_cell('import pandas as pd'); }\n",
       "    "
      ],
      "text/plain": [
       "<IPython.core.display.Javascript object>"
      ]
     },
     "metadata": {},
     "output_type": "display_data"
    },
    {
     "name": "stderr",
     "output_type": "stream",
     "text": [
      "Reading files in May 2022: 100%|█████████████████████████████████████████████████████████| 3/3 [00:00<00:00, 12.92it/s]\n",
      "\n",
      "Processing 2022:  75%|█████████████████████████████████████████████████▌                | 9/12 [00:02<00:00,  3.99it/s]\u001b[A\n",
      "\n",
      "Reading files in Nov 2022:   0%|                                                                 | 0/3 [00:00<?, ?it/s]\u001b[A\u001b[A"
     ]
    },
    {
     "data": {
      "application/javascript": [
       "\n",
       "        if (window._pyforest_update_imports_cell) { window._pyforest_update_imports_cell('import pandas as pd'); }\n",
       "    "
      ],
      "text/plain": [
       "<IPython.core.display.Javascript object>"
      ]
     },
     "metadata": {},
     "output_type": "display_data"
    },
    {
     "data": {
      "application/javascript": [
       "\n",
       "        if (window._pyforest_update_imports_cell) { window._pyforest_update_imports_cell('import pandas as pd'); }\n",
       "    "
      ],
      "text/plain": [
       "<IPython.core.display.Javascript object>"
      ]
     },
     "metadata": {},
     "output_type": "display_data"
    },
    {
     "name": "stderr",
     "output_type": "stream",
     "text": [
      "C:\\Users\\Matthew Adenyo\\AppData\\Local\\Temp\\ipykernel_14504\\2378979365.py:47: DtypeWarning: Columns (4,11) have mixed types. Specify dtype option on import or set low_memory=False.\n",
      "  for chunk in pd.read_csv(file, chunksize=chunksize):\n",
      "\n",
      "\n",
      "Reading files in Nov 2022:  67%|██████████████████████████████████████                   | 2/3 [00:00<00:00, 10.89it/s]\u001b[A\u001b[A"
     ]
    },
    {
     "data": {
      "application/javascript": [
       "\n",
       "        if (window._pyforest_update_imports_cell) { window._pyforest_update_imports_cell('import pandas as pd'); }\n",
       "    "
      ],
      "text/plain": [
       "<IPython.core.display.Javascript object>"
      ]
     },
     "metadata": {},
     "output_type": "display_data"
    },
    {
     "name": "stderr",
     "output_type": "stream",
     "text": [
      "Reading files in Nov 2022: 100%|█████████████████████████████████████████████████████████| 3/3 [00:00<00:00, 12.81it/s]\n",
      "\n",
      "Processing 2022:  83%|██████████████████████████████████████████████████████▏          | 10/12 [00:02<00:00,  4.02it/s]\u001b[A\n",
      "\n",
      "Reading files in Oct 2022:   0%|                                                                 | 0/3 [00:00<?, ?it/s]\u001b[A\u001b[A"
     ]
    },
    {
     "data": {
      "application/javascript": [
       "\n",
       "        if (window._pyforest_update_imports_cell) { window._pyforest_update_imports_cell('import pandas as pd'); }\n",
       "    "
      ],
      "text/plain": [
       "<IPython.core.display.Javascript object>"
      ]
     },
     "metadata": {},
     "output_type": "display_data"
    },
    {
     "data": {
      "application/javascript": [
       "\n",
       "        if (window._pyforest_update_imports_cell) { window._pyforest_update_imports_cell('import pandas as pd'); }\n",
       "    "
      ],
      "text/plain": [
       "<IPython.core.display.Javascript object>"
      ]
     },
     "metadata": {},
     "output_type": "display_data"
    },
    {
     "name": "stderr",
     "output_type": "stream",
     "text": [
      "C:\\Users\\Matthew Adenyo\\AppData\\Local\\Temp\\ipykernel_14504\\2378979365.py:47: DtypeWarning: Columns (4,11) have mixed types. Specify dtype option on import or set low_memory=False.\n",
      "  for chunk in pd.read_csv(file, chunksize=chunksize):\n",
      "\n",
      "\n",
      "Reading files in Oct 2022:  67%|██████████████████████████████████████                   | 2/3 [00:00<00:00,  7.54it/s]\u001b[A\u001b[A"
     ]
    },
    {
     "data": {
      "application/javascript": [
       "\n",
       "        if (window._pyforest_update_imports_cell) { window._pyforest_update_imports_cell('import pandas as pd'); }\n",
       "    "
      ],
      "text/plain": [
       "<IPython.core.display.Javascript object>"
      ]
     },
     "metadata": {},
     "output_type": "display_data"
    },
    {
     "name": "stderr",
     "output_type": "stream",
     "text": [
      "Reading files in Oct 2022: 100%|█████████████████████████████████████████████████████████| 3/3 [00:00<00:00,  9.39it/s]\n",
      "\n",
      "Processing 2022:  92%|███████████████████████████████████████████████████████████▌     | 11/12 [00:02<00:00,  3.64it/s]\u001b[A\n",
      "\n",
      "Reading files in Sep 2022:   0%|                                                                 | 0/3 [00:00<?, ?it/s]\u001b[A\u001b[A"
     ]
    },
    {
     "data": {
      "application/javascript": [
       "\n",
       "        if (window._pyforest_update_imports_cell) { window._pyforest_update_imports_cell('import pandas as pd'); }\n",
       "    "
      ],
      "text/plain": [
       "<IPython.core.display.Javascript object>"
      ]
     },
     "metadata": {},
     "output_type": "display_data"
    },
    {
     "data": {
      "application/javascript": [
       "\n",
       "        if (window._pyforest_update_imports_cell) { window._pyforest_update_imports_cell('import pandas as pd'); }\n",
       "    "
      ],
      "text/plain": [
       "<IPython.core.display.Javascript object>"
      ]
     },
     "metadata": {},
     "output_type": "display_data"
    },
    {
     "name": "stderr",
     "output_type": "stream",
     "text": [
      "C:\\Users\\Matthew Adenyo\\AppData\\Local\\Temp\\ipykernel_14504\\2378979365.py:47: DtypeWarning: Columns (4,11) have mixed types. Specify dtype option on import or set low_memory=False.\n",
      "  for chunk in pd.read_csv(file, chunksize=chunksize):\n",
      "\n",
      "\n",
      "Reading files in Sep 2022:  67%|██████████████████████████████████████                   | 2/3 [00:00<00:00, 11.25it/s]\u001b[A\u001b[A"
     ]
    },
    {
     "data": {
      "application/javascript": [
       "\n",
       "        if (window._pyforest_update_imports_cell) { window._pyforest_update_imports_cell('import pandas as pd'); }\n",
       "    "
      ],
      "text/plain": [
       "<IPython.core.display.Javascript object>"
      ]
     },
     "metadata": {},
     "output_type": "display_data"
    },
    {
     "name": "stderr",
     "output_type": "stream",
     "text": [
      "Reading files in Sep 2022: 100%|█████████████████████████████████████████████████████████| 3/3 [00:00<00:00, 13.42it/s]\n",
      "\n",
      "Processing 2022: 100%|█████████████████████████████████████████████████████████████████| 12/12 [00:03<00:00,  3.81it/s]\u001b[A\n",
      "Processing Years:  60%|███████████████████████████████████████▌                          | 3/5 [00:09<00:06,  3.12s/it]\n",
      "Processing 2023:   0%|                                                                          | 0/12 [00:00<?, ?it/s]\u001b[A\n",
      "\n",
      "Reading files in Apr 2023:   0%|                                                                 | 0/3 [00:00<?, ?it/s]\u001b[A\u001b[A"
     ]
    },
    {
     "data": {
      "application/javascript": [
       "\n",
       "        if (window._pyforest_update_imports_cell) { window._pyforest_update_imports_cell('import pandas as pd'); }\n",
       "    "
      ],
      "text/plain": [
       "<IPython.core.display.Javascript object>"
      ]
     },
     "metadata": {},
     "output_type": "display_data"
    },
    {
     "data": {
      "application/javascript": [
       "\n",
       "        if (window._pyforest_update_imports_cell) { window._pyforest_update_imports_cell('import pandas as pd'); }\n",
       "    "
      ],
      "text/plain": [
       "<IPython.core.display.Javascript object>"
      ]
     },
     "metadata": {},
     "output_type": "display_data"
    },
    {
     "name": "stderr",
     "output_type": "stream",
     "text": [
      "C:\\Users\\Matthew Adenyo\\AppData\\Local\\Temp\\ipykernel_14504\\2378979365.py:47: DtypeWarning: Columns (4,11) have mixed types. Specify dtype option on import or set low_memory=False.\n",
      "  for chunk in pd.read_csv(file, chunksize=chunksize):\n",
      "\n",
      "\n",
      "Reading files in Apr 2023:  67%|██████████████████████████████████████                   | 2/3 [00:00<00:00,  8.76it/s]\u001b[A\u001b[A"
     ]
    },
    {
     "data": {
      "application/javascript": [
       "\n",
       "        if (window._pyforest_update_imports_cell) { window._pyforest_update_imports_cell('import pandas as pd'); }\n",
       "    "
      ],
      "text/plain": [
       "<IPython.core.display.Javascript object>"
      ]
     },
     "metadata": {},
     "output_type": "display_data"
    },
    {
     "name": "stderr",
     "output_type": "stream",
     "text": [
      "Reading files in Apr 2023: 100%|█████████████████████████████████████████████████████████| 3/3 [00:00<00:00, 11.00it/s]\n",
      "\n",
      "Processing 2023:   8%|█████▌                                                            | 1/12 [00:00<00:03,  3.57it/s]\u001b[A\n",
      "\n",
      "Reading files in Aug 2023:   0%|                                                                 | 0/3 [00:00<?, ?it/s]\u001b[A\u001b[A"
     ]
    },
    {
     "data": {
      "application/javascript": [
       "\n",
       "        if (window._pyforest_update_imports_cell) { window._pyforest_update_imports_cell('import pandas as pd'); }\n",
       "    "
      ],
      "text/plain": [
       "<IPython.core.display.Javascript object>"
      ]
     },
     "metadata": {},
     "output_type": "display_data"
    },
    {
     "data": {
      "application/javascript": [
       "\n",
       "        if (window._pyforest_update_imports_cell) { window._pyforest_update_imports_cell('import pandas as pd'); }\n",
       "    "
      ],
      "text/plain": [
       "<IPython.core.display.Javascript object>"
      ]
     },
     "metadata": {},
     "output_type": "display_data"
    },
    {
     "name": "stderr",
     "output_type": "stream",
     "text": [
      "C:\\Users\\Matthew Adenyo\\AppData\\Local\\Temp\\ipykernel_14504\\2378979365.py:47: DtypeWarning: Columns (4,11) have mixed types. Specify dtype option on import or set low_memory=False.\n",
      "  for chunk in pd.read_csv(file, chunksize=chunksize):\n",
      "\n",
      "\n",
      "Reading files in Aug 2023:  67%|██████████████████████████████████████                   | 2/3 [00:00<00:00, 11.35it/s]\u001b[A\u001b[A"
     ]
    },
    {
     "data": {
      "application/javascript": [
       "\n",
       "        if (window._pyforest_update_imports_cell) { window._pyforest_update_imports_cell('import pandas as pd'); }\n",
       "    "
      ],
      "text/plain": [
       "<IPython.core.display.Javascript object>"
      ]
     },
     "metadata": {},
     "output_type": "display_data"
    },
    {
     "name": "stderr",
     "output_type": "stream",
     "text": [
      "Reading files in Aug 2023: 100%|█████████████████████████████████████████████████████████| 3/3 [00:00<00:00, 13.57it/s]\n",
      "\n",
      "Processing 2023:  17%|███████████                                                       | 2/12 [00:00<00:02,  4.00it/s]\u001b[A\n",
      "\n",
      "Reading files in Dec 2023:   0%|                                                                 | 0/3 [00:00<?, ?it/s]\u001b[A\u001b[A"
     ]
    },
    {
     "data": {
      "application/javascript": [
       "\n",
       "        if (window._pyforest_update_imports_cell) { window._pyforest_update_imports_cell('import pandas as pd'); }\n",
       "    "
      ],
      "text/plain": [
       "<IPython.core.display.Javascript object>"
      ]
     },
     "metadata": {},
     "output_type": "display_data"
    },
    {
     "data": {
      "application/javascript": [
       "\n",
       "        if (window._pyforest_update_imports_cell) { window._pyforest_update_imports_cell('import pandas as pd'); }\n",
       "    "
      ],
      "text/plain": [
       "<IPython.core.display.Javascript object>"
      ]
     },
     "metadata": {},
     "output_type": "display_data"
    },
    {
     "name": "stderr",
     "output_type": "stream",
     "text": [
      "C:\\Users\\Matthew Adenyo\\AppData\\Local\\Temp\\ipykernel_14504\\2378979365.py:47: DtypeWarning: Columns (4,11) have mixed types. Specify dtype option on import or set low_memory=False.\n",
      "  for chunk in pd.read_csv(file, chunksize=chunksize):\n",
      "\n",
      "\n",
      "Reading files in Dec 2023:  67%|██████████████████████████████████████                   | 2/3 [00:00<00:00, 11.23it/s]\u001b[A\u001b[A"
     ]
    },
    {
     "data": {
      "application/javascript": [
       "\n",
       "        if (window._pyforest_update_imports_cell) { window._pyforest_update_imports_cell('import pandas as pd'); }\n",
       "    "
      ],
      "text/plain": [
       "<IPython.core.display.Javascript object>"
      ]
     },
     "metadata": {},
     "output_type": "display_data"
    },
    {
     "name": "stderr",
     "output_type": "stream",
     "text": [
      "Reading files in Dec 2023: 100%|█████████████████████████████████████████████████████████| 3/3 [00:00<00:00, 13.61it/s]\n",
      "\n",
      "Processing 2023:  25%|████████████████▌                                                 | 3/12 [00:00<00:02,  4.16it/s]\u001b[A\n",
      "\n",
      "Reading files in Feb 2023:   0%|                                                                 | 0/3 [00:00<?, ?it/s]\u001b[A\u001b[A"
     ]
    },
    {
     "data": {
      "application/javascript": [
       "\n",
       "        if (window._pyforest_update_imports_cell) { window._pyforest_update_imports_cell('import pandas as pd'); }\n",
       "    "
      ],
      "text/plain": [
       "<IPython.core.display.Javascript object>"
      ]
     },
     "metadata": {},
     "output_type": "display_data"
    },
    {
     "data": {
      "application/javascript": [
       "\n",
       "        if (window._pyforest_update_imports_cell) { window._pyforest_update_imports_cell('import pandas as pd'); }\n",
       "    "
      ],
      "text/plain": [
       "<IPython.core.display.Javascript object>"
      ]
     },
     "metadata": {},
     "output_type": "display_data"
    },
    {
     "name": "stderr",
     "output_type": "stream",
     "text": [
      "C:\\Users\\Matthew Adenyo\\AppData\\Local\\Temp\\ipykernel_14504\\2378979365.py:47: DtypeWarning: Columns (4,11) have mixed types. Specify dtype option on import or set low_memory=False.\n",
      "  for chunk in pd.read_csv(file, chunksize=chunksize):\n",
      "\n",
      "\n",
      "Reading files in Feb 2023:  67%|██████████████████████████████████████                   | 2/3 [00:00<00:00, 11.45it/s]\u001b[A\u001b[A"
     ]
    },
    {
     "data": {
      "application/javascript": [
       "\n",
       "        if (window._pyforest_update_imports_cell) { window._pyforest_update_imports_cell('import pandas as pd'); }\n",
       "    "
      ],
      "text/plain": [
       "<IPython.core.display.Javascript object>"
      ]
     },
     "metadata": {},
     "output_type": "display_data"
    },
    {
     "name": "stderr",
     "output_type": "stream",
     "text": [
      "Reading files in Feb 2023: 100%|█████████████████████████████████████████████████████████| 3/3 [00:00<00:00, 13.96it/s]\n",
      "\n",
      "Processing 2023:  33%|██████████████████████                                            | 4/12 [00:00<00:01,  4.27it/s]\u001b[A\n",
      "\n",
      "Reading files in Jan 2023:   0%|                                                                 | 0/3 [00:00<?, ?it/s]\u001b[A\u001b[A"
     ]
    },
    {
     "data": {
      "application/javascript": [
       "\n",
       "        if (window._pyforest_update_imports_cell) { window._pyforest_update_imports_cell('import pandas as pd'); }\n",
       "    "
      ],
      "text/plain": [
       "<IPython.core.display.Javascript object>"
      ]
     },
     "metadata": {},
     "output_type": "display_data"
    },
    {
     "data": {
      "application/javascript": [
       "\n",
       "        if (window._pyforest_update_imports_cell) { window._pyforest_update_imports_cell('import pandas as pd'); }\n",
       "    "
      ],
      "text/plain": [
       "<IPython.core.display.Javascript object>"
      ]
     },
     "metadata": {},
     "output_type": "display_data"
    },
    {
     "name": "stderr",
     "output_type": "stream",
     "text": [
      "C:\\Users\\Matthew Adenyo\\AppData\\Local\\Temp\\ipykernel_14504\\2378979365.py:47: DtypeWarning: Columns (4,11) have mixed types. Specify dtype option on import or set low_memory=False.\n",
      "  for chunk in pd.read_csv(file, chunksize=chunksize):\n",
      "\n",
      "\n",
      "Reading files in Jan 2023:  67%|██████████████████████████████████████                   | 2/3 [00:00<00:00, 11.18it/s]\u001b[A\u001b[A"
     ]
    },
    {
     "data": {
      "application/javascript": [
       "\n",
       "        if (window._pyforest_update_imports_cell) { window._pyforest_update_imports_cell('import pandas as pd'); }\n",
       "    "
      ],
      "text/plain": [
       "<IPython.core.display.Javascript object>"
      ]
     },
     "metadata": {},
     "output_type": "display_data"
    },
    {
     "name": "stderr",
     "output_type": "stream",
     "text": [
      "Reading files in Jan 2023: 100%|█████████████████████████████████████████████████████████| 3/3 [00:00<00:00, 13.50it/s]\n",
      "\n",
      "Processing 2023:  42%|███████████████████████████▌                                      | 5/12 [00:01<00:01,  4.27it/s]\u001b[A\n",
      "\n",
      "Reading files in Jul 2023:   0%|                                                                 | 0/3 [00:00<?, ?it/s]\u001b[A\u001b[A"
     ]
    },
    {
     "data": {
      "application/javascript": [
       "\n",
       "        if (window._pyforest_update_imports_cell) { window._pyforest_update_imports_cell('import pandas as pd'); }\n",
       "    "
      ],
      "text/plain": [
       "<IPython.core.display.Javascript object>"
      ]
     },
     "metadata": {},
     "output_type": "display_data"
    },
    {
     "data": {
      "application/javascript": [
       "\n",
       "        if (window._pyforest_update_imports_cell) { window._pyforest_update_imports_cell('import pandas as pd'); }\n",
       "    "
      ],
      "text/plain": [
       "<IPython.core.display.Javascript object>"
      ]
     },
     "metadata": {},
     "output_type": "display_data"
    },
    {
     "name": "stderr",
     "output_type": "stream",
     "text": [
      "C:\\Users\\Matthew Adenyo\\AppData\\Local\\Temp\\ipykernel_14504\\2378979365.py:47: DtypeWarning: Columns (4,11) have mixed types. Specify dtype option on import or set low_memory=False.\n",
      "  for chunk in pd.read_csv(file, chunksize=chunksize):\n",
      "\n",
      "\n",
      "Reading files in Jul 2023:  67%|██████████████████████████████████████                   | 2/3 [00:00<00:00, 11.23it/s]\u001b[A\u001b[A"
     ]
    },
    {
     "data": {
      "application/javascript": [
       "\n",
       "        if (window._pyforest_update_imports_cell) { window._pyforest_update_imports_cell('import pandas as pd'); }\n",
       "    "
      ],
      "text/plain": [
       "<IPython.core.display.Javascript object>"
      ]
     },
     "metadata": {},
     "output_type": "display_data"
    },
    {
     "name": "stderr",
     "output_type": "stream",
     "text": [
      "Reading files in Jul 2023: 100%|█████████████████████████████████████████████████████████| 3/3 [00:00<00:00, 13.44it/s]\n",
      "\n",
      "Processing 2023:  50%|█████████████████████████████████                                 | 6/12 [00:01<00:01,  4.29it/s]\u001b[A\n",
      "\n",
      "Reading files in Jun 2023:   0%|                                                                 | 0/3 [00:00<?, ?it/s]\u001b[A\u001b[A"
     ]
    },
    {
     "data": {
      "application/javascript": [
       "\n",
       "        if (window._pyforest_update_imports_cell) { window._pyforest_update_imports_cell('import pandas as pd'); }\n",
       "    "
      ],
      "text/plain": [
       "<IPython.core.display.Javascript object>"
      ]
     },
     "metadata": {},
     "output_type": "display_data"
    },
    {
     "data": {
      "application/javascript": [
       "\n",
       "        if (window._pyforest_update_imports_cell) { window._pyforest_update_imports_cell('import pandas as pd'); }\n",
       "    "
      ],
      "text/plain": [
       "<IPython.core.display.Javascript object>"
      ]
     },
     "metadata": {},
     "output_type": "display_data"
    },
    {
     "name": "stderr",
     "output_type": "stream",
     "text": [
      "C:\\Users\\Matthew Adenyo\\AppData\\Local\\Temp\\ipykernel_14504\\2378979365.py:47: DtypeWarning: Columns (4,11) have mixed types. Specify dtype option on import or set low_memory=False.\n",
      "  for chunk in pd.read_csv(file, chunksize=chunksize):\n",
      "\n",
      "\n",
      "Reading files in Jun 2023:  67%|██████████████████████████████████████                   | 2/3 [00:00<00:00,  9.12it/s]\u001b[A\u001b[A"
     ]
    },
    {
     "data": {
      "application/javascript": [
       "\n",
       "        if (window._pyforest_update_imports_cell) { window._pyforest_update_imports_cell('import pandas as pd'); }\n",
       "    "
      ],
      "text/plain": [
       "<IPython.core.display.Javascript object>"
      ]
     },
     "metadata": {},
     "output_type": "display_data"
    },
    {
     "name": "stderr",
     "output_type": "stream",
     "text": [
      "Reading files in Jun 2023: 100%|█████████████████████████████████████████████████████████| 3/3 [00:00<00:00, 11.34it/s]\n",
      "\n",
      "Processing 2023:  58%|██████████████████████████████████████▌                           | 7/12 [00:01<00:01,  4.05it/s]\u001b[A\n",
      "\n",
      "Reading files in Mar 2023:   0%|                                                                 | 0/3 [00:00<?, ?it/s]\u001b[A\u001b[A"
     ]
    },
    {
     "data": {
      "application/javascript": [
       "\n",
       "        if (window._pyforest_update_imports_cell) { window._pyforest_update_imports_cell('import pandas as pd'); }\n",
       "    "
      ],
      "text/plain": [
       "<IPython.core.display.Javascript object>"
      ]
     },
     "metadata": {},
     "output_type": "display_data"
    },
    {
     "data": {
      "application/javascript": [
       "\n",
       "        if (window._pyforest_update_imports_cell) { window._pyforest_update_imports_cell('import pandas as pd'); }\n",
       "    "
      ],
      "text/plain": [
       "<IPython.core.display.Javascript object>"
      ]
     },
     "metadata": {},
     "output_type": "display_data"
    },
    {
     "name": "stderr",
     "output_type": "stream",
     "text": [
      "C:\\Users\\Matthew Adenyo\\AppData\\Local\\Temp\\ipykernel_14504\\2378979365.py:47: DtypeWarning: Columns (4,11) have mixed types. Specify dtype option on import or set low_memory=False.\n",
      "  for chunk in pd.read_csv(file, chunksize=chunksize):\n",
      "\n",
      "\n",
      "Reading files in Mar 2023:  67%|██████████████████████████████████████                   | 2/3 [00:00<00:00,  9.63it/s]\u001b[A\u001b[A"
     ]
    },
    {
     "data": {
      "application/javascript": [
       "\n",
       "        if (window._pyforest_update_imports_cell) { window._pyforest_update_imports_cell('import pandas as pd'); }\n",
       "    "
      ],
      "text/plain": [
       "<IPython.core.display.Javascript object>"
      ]
     },
     "metadata": {},
     "output_type": "display_data"
    },
    {
     "name": "stderr",
     "output_type": "stream",
     "text": [
      "Reading files in Mar 2023: 100%|█████████████████████████████████████████████████████████| 3/3 [00:00<00:00, 11.56it/s]\n",
      "\n",
      "Processing 2023:  67%|████████████████████████████████████████████                      | 8/12 [00:01<00:01,  3.95it/s]\u001b[A\n",
      "\n",
      "Reading files in May 2023:   0%|                                                                 | 0/3 [00:00<?, ?it/s]\u001b[A\u001b[A"
     ]
    },
    {
     "data": {
      "application/javascript": [
       "\n",
       "        if (window._pyforest_update_imports_cell) { window._pyforest_update_imports_cell('import pandas as pd'); }\n",
       "    "
      ],
      "text/plain": [
       "<IPython.core.display.Javascript object>"
      ]
     },
     "metadata": {},
     "output_type": "display_data"
    },
    {
     "data": {
      "application/javascript": [
       "\n",
       "        if (window._pyforest_update_imports_cell) { window._pyforest_update_imports_cell('import pandas as pd'); }\n",
       "    "
      ],
      "text/plain": [
       "<IPython.core.display.Javascript object>"
      ]
     },
     "metadata": {},
     "output_type": "display_data"
    },
    {
     "name": "stderr",
     "output_type": "stream",
     "text": [
      "C:\\Users\\Matthew Adenyo\\AppData\\Local\\Temp\\ipykernel_14504\\2378979365.py:47: DtypeWarning: Columns (4,11) have mixed types. Specify dtype option on import or set low_memory=False.\n",
      "  for chunk in pd.read_csv(file, chunksize=chunksize):\n",
      "\n",
      "\n",
      "Reading files in May 2023:  67%|██████████████████████████████████████                   | 2/3 [00:00<00:00,  9.90it/s]\u001b[A\u001b[A"
     ]
    },
    {
     "data": {
      "application/javascript": [
       "\n",
       "        if (window._pyforest_update_imports_cell) { window._pyforest_update_imports_cell('import pandas as pd'); }\n",
       "    "
      ],
      "text/plain": [
       "<IPython.core.display.Javascript object>"
      ]
     },
     "metadata": {},
     "output_type": "display_data"
    },
    {
     "name": "stderr",
     "output_type": "stream",
     "text": [
      "Reading files in May 2023: 100%|█████████████████████████████████████████████████████████| 3/3 [00:00<00:00, 12.13it/s]\n",
      "\n",
      "Processing 2023:  75%|█████████████████████████████████████████████████▌                | 9/12 [00:02<00:00,  3.94it/s]\u001b[A\n",
      "\n",
      "Reading files in Nov 2023:   0%|                                                                 | 0/3 [00:00<?, ?it/s]\u001b[A\u001b[A"
     ]
    },
    {
     "data": {
      "application/javascript": [
       "\n",
       "        if (window._pyforest_update_imports_cell) { window._pyforest_update_imports_cell('import pandas as pd'); }\n",
       "    "
      ],
      "text/plain": [
       "<IPython.core.display.Javascript object>"
      ]
     },
     "metadata": {},
     "output_type": "display_data"
    },
    {
     "data": {
      "application/javascript": [
       "\n",
       "        if (window._pyforest_update_imports_cell) { window._pyforest_update_imports_cell('import pandas as pd'); }\n",
       "    "
      ],
      "text/plain": [
       "<IPython.core.display.Javascript object>"
      ]
     },
     "metadata": {},
     "output_type": "display_data"
    },
    {
     "name": "stderr",
     "output_type": "stream",
     "text": [
      "C:\\Users\\Matthew Adenyo\\AppData\\Local\\Temp\\ipykernel_14504\\2378979365.py:47: DtypeWarning: Columns (4,11) have mixed types. Specify dtype option on import or set low_memory=False.\n",
      "  for chunk in pd.read_csv(file, chunksize=chunksize):\n",
      "\n",
      "\n",
      "Reading files in Nov 2023:  67%|██████████████████████████████████████                   | 2/3 [00:00<00:00, 10.90it/s]\u001b[A\u001b[A"
     ]
    },
    {
     "data": {
      "application/javascript": [
       "\n",
       "        if (window._pyforest_update_imports_cell) { window._pyforest_update_imports_cell('import pandas as pd'); }\n",
       "    "
      ],
      "text/plain": [
       "<IPython.core.display.Javascript object>"
      ]
     },
     "metadata": {},
     "output_type": "display_data"
    },
    {
     "name": "stderr",
     "output_type": "stream",
     "text": [
      "Reading files in Nov 2023: 100%|█████████████████████████████████████████████████████████| 3/3 [00:00<00:00, 13.24it/s]\n",
      "\n",
      "Processing 2023:  83%|██████████████████████████████████████████████████████▏          | 10/12 [00:02<00:00,  4.03it/s]\u001b[A\n",
      "\n",
      "Reading files in Oct 2023:   0%|                                                                 | 0/3 [00:00<?, ?it/s]\u001b[A\u001b[A"
     ]
    },
    {
     "data": {
      "application/javascript": [
       "\n",
       "        if (window._pyforest_update_imports_cell) { window._pyforest_update_imports_cell('import pandas as pd'); }\n",
       "    "
      ],
      "text/plain": [
       "<IPython.core.display.Javascript object>"
      ]
     },
     "metadata": {},
     "output_type": "display_data"
    },
    {
     "data": {
      "application/javascript": [
       "\n",
       "        if (window._pyforest_update_imports_cell) { window._pyforest_update_imports_cell('import pandas as pd'); }\n",
       "    "
      ],
      "text/plain": [
       "<IPython.core.display.Javascript object>"
      ]
     },
     "metadata": {},
     "output_type": "display_data"
    },
    {
     "name": "stderr",
     "output_type": "stream",
     "text": [
      "C:\\Users\\Matthew Adenyo\\AppData\\Local\\Temp\\ipykernel_14504\\2378979365.py:47: DtypeWarning: Columns (4,11) have mixed types. Specify dtype option on import or set low_memory=False.\n",
      "  for chunk in pd.read_csv(file, chunksize=chunksize):\n",
      "\n",
      "\n",
      "Reading files in Oct 2023:  67%|██████████████████████████████████████                   | 2/3 [00:00<00:00,  9.74it/s]\u001b[A\u001b[A"
     ]
    },
    {
     "data": {
      "application/javascript": [
       "\n",
       "        if (window._pyforest_update_imports_cell) { window._pyforest_update_imports_cell('import pandas as pd'); }\n",
       "    "
      ],
      "text/plain": [
       "<IPython.core.display.Javascript object>"
      ]
     },
     "metadata": {},
     "output_type": "display_data"
    },
    {
     "name": "stderr",
     "output_type": "stream",
     "text": [
      "Reading files in Oct 2023: 100%|█████████████████████████████████████████████████████████| 3/3 [00:00<00:00, 11.03it/s]\n",
      "\n",
      "Processing 2023:  92%|███████████████████████████████████████████████████████████▌     | 11/12 [00:02<00:00,  3.86it/s]\u001b[A\n",
      "\n",
      "Reading files in Sep 2023:   0%|                                                                 | 0/3 [00:00<?, ?it/s]\u001b[A\u001b[A"
     ]
    },
    {
     "data": {
      "application/javascript": [
       "\n",
       "        if (window._pyforest_update_imports_cell) { window._pyforest_update_imports_cell('import pandas as pd'); }\n",
       "    "
      ],
      "text/plain": [
       "<IPython.core.display.Javascript object>"
      ]
     },
     "metadata": {},
     "output_type": "display_data"
    },
    {
     "data": {
      "application/javascript": [
       "\n",
       "        if (window._pyforest_update_imports_cell) { window._pyforest_update_imports_cell('import pandas as pd'); }\n",
       "    "
      ],
      "text/plain": [
       "<IPython.core.display.Javascript object>"
      ]
     },
     "metadata": {},
     "output_type": "display_data"
    },
    {
     "name": "stderr",
     "output_type": "stream",
     "text": [
      "C:\\Users\\Matthew Adenyo\\AppData\\Local\\Temp\\ipykernel_14504\\2378979365.py:47: DtypeWarning: Columns (4,11) have mixed types. Specify dtype option on import or set low_memory=False.\n",
      "  for chunk in pd.read_csv(file, chunksize=chunksize):\n",
      "\n",
      "\n",
      "Reading files in Sep 2023:  67%|██████████████████████████████████████                   | 2/3 [00:00<00:00, 10.34it/s]\u001b[A\u001b[A"
     ]
    },
    {
     "data": {
      "application/javascript": [
       "\n",
       "        if (window._pyforest_update_imports_cell) { window._pyforest_update_imports_cell('import pandas as pd'); }\n",
       "    "
      ],
      "text/plain": [
       "<IPython.core.display.Javascript object>"
      ]
     },
     "metadata": {},
     "output_type": "display_data"
    },
    {
     "name": "stderr",
     "output_type": "stream",
     "text": [
      "Reading files in Sep 2023: 100%|█████████████████████████████████████████████████████████| 3/3 [00:00<00:00, 12.08it/s]\n",
      "\n",
      "Processing 2023: 100%|█████████████████████████████████████████████████████████████████| 12/12 [00:03<00:00,  3.98it/s]\u001b[A\n",
      "Processing Years:  80%|████████████████████████████████████████████████████▊             | 4/5 [00:12<00:03,  3.08s/it]\n",
      "Processing 2024:   0%|                                                                           | 0/9 [00:00<?, ?it/s]\u001b[A\n",
      "\n",
      "Reading files in Apr 2024:   0%|                                                                 | 0/3 [00:00<?, ?it/s]\u001b[A\u001b[A"
     ]
    },
    {
     "data": {
      "application/javascript": [
       "\n",
       "        if (window._pyforest_update_imports_cell) { window._pyforest_update_imports_cell('import pandas as pd'); }\n",
       "    "
      ],
      "text/plain": [
       "<IPython.core.display.Javascript object>"
      ]
     },
     "metadata": {},
     "output_type": "display_data"
    },
    {
     "data": {
      "application/javascript": [
       "\n",
       "        if (window._pyforest_update_imports_cell) { window._pyforest_update_imports_cell('import pandas as pd'); }\n",
       "    "
      ],
      "text/plain": [
       "<IPython.core.display.Javascript object>"
      ]
     },
     "metadata": {},
     "output_type": "display_data"
    },
    {
     "name": "stderr",
     "output_type": "stream",
     "text": [
      "C:\\Users\\Matthew Adenyo\\AppData\\Local\\Temp\\ipykernel_14504\\2378979365.py:47: DtypeWarning: Columns (4,11) have mixed types. Specify dtype option on import or set low_memory=False.\n",
      "  for chunk in pd.read_csv(file, chunksize=chunksize):\n",
      "\n",
      "\n",
      "Reading files in Apr 2024:  67%|██████████████████████████████████████                   | 2/3 [00:00<00:00, 10.55it/s]\u001b[A\u001b[A"
     ]
    },
    {
     "data": {
      "application/javascript": [
       "\n",
       "        if (window._pyforest_update_imports_cell) { window._pyforest_update_imports_cell('import pandas as pd'); }\n",
       "    "
      ],
      "text/plain": [
       "<IPython.core.display.Javascript object>"
      ]
     },
     "metadata": {},
     "output_type": "display_data"
    },
    {
     "name": "stderr",
     "output_type": "stream",
     "text": [
      "Reading files in Apr 2024: 100%|█████████████████████████████████████████████████████████| 3/3 [00:00<00:00, 12.92it/s]\n",
      "\n",
      "Processing 2024:  11%|███████▍                                                           | 1/9 [00:00<00:01,  4.18it/s]\u001b[A\n",
      "\n",
      "Reading files in Aug 2024:   0%|                                                                 | 0/3 [00:00<?, ?it/s]\u001b[A\u001b[A"
     ]
    },
    {
     "data": {
      "application/javascript": [
       "\n",
       "        if (window._pyforest_update_imports_cell) { window._pyforest_update_imports_cell('import pandas as pd'); }\n",
       "    "
      ],
      "text/plain": [
       "<IPython.core.display.Javascript object>"
      ]
     },
     "metadata": {},
     "output_type": "display_data"
    },
    {
     "data": {
      "application/javascript": [
       "\n",
       "        if (window._pyforest_update_imports_cell) { window._pyforest_update_imports_cell('import pandas as pd'); }\n",
       "    "
      ],
      "text/plain": [
       "<IPython.core.display.Javascript object>"
      ]
     },
     "metadata": {},
     "output_type": "display_data"
    },
    {
     "name": "stderr",
     "output_type": "stream",
     "text": [
      "C:\\Users\\Matthew Adenyo\\AppData\\Local\\Temp\\ipykernel_14504\\2378979365.py:47: DtypeWarning: Columns (4,11) have mixed types. Specify dtype option on import or set low_memory=False.\n",
      "  for chunk in pd.read_csv(file, chunksize=chunksize):\n",
      "\n",
      "\n",
      "Reading files in Aug 2024:  67%|██████████████████████████████████████                   | 2/3 [00:00<00:00, 11.43it/s]\u001b[A\u001b[A"
     ]
    },
    {
     "data": {
      "application/javascript": [
       "\n",
       "        if (window._pyforest_update_imports_cell) { window._pyforest_update_imports_cell('import pandas as pd'); }\n",
       "    "
      ],
      "text/plain": [
       "<IPython.core.display.Javascript object>"
      ]
     },
     "metadata": {},
     "output_type": "display_data"
    },
    {
     "name": "stderr",
     "output_type": "stream",
     "text": [
      "Reading files in Aug 2024: 100%|█████████████████████████████████████████████████████████| 3/3 [00:00<00:00, 13.70it/s]\n",
      "\n",
      "Processing 2024:  22%|██████████████▉                                                    | 2/9 [00:00<00:01,  4.28it/s]\u001b[A\n",
      "\n",
      "Reading files in Feb 2024:   0%|                                                                 | 0/3 [00:00<?, ?it/s]\u001b[A\u001b[A"
     ]
    },
    {
     "data": {
      "application/javascript": [
       "\n",
       "        if (window._pyforest_update_imports_cell) { window._pyforest_update_imports_cell('import pandas as pd'); }\n",
       "    "
      ],
      "text/plain": [
       "<IPython.core.display.Javascript object>"
      ]
     },
     "metadata": {},
     "output_type": "display_data"
    },
    {
     "data": {
      "application/javascript": [
       "\n",
       "        if (window._pyforest_update_imports_cell) { window._pyforest_update_imports_cell('import pandas as pd'); }\n",
       "    "
      ],
      "text/plain": [
       "<IPython.core.display.Javascript object>"
      ]
     },
     "metadata": {},
     "output_type": "display_data"
    },
    {
     "name": "stderr",
     "output_type": "stream",
     "text": [
      "C:\\Users\\Matthew Adenyo\\AppData\\Local\\Temp\\ipykernel_14504\\2378979365.py:47: DtypeWarning: Columns (4,11) have mixed types. Specify dtype option on import or set low_memory=False.\n",
      "  for chunk in pd.read_csv(file, chunksize=chunksize):\n",
      "\n",
      "\n",
      "Reading files in Feb 2024:  67%|██████████████████████████████████████                   | 2/3 [00:00<00:00, 10.84it/s]\u001b[A\u001b[A"
     ]
    },
    {
     "data": {
      "application/javascript": [
       "\n",
       "        if (window._pyforest_update_imports_cell) { window._pyforest_update_imports_cell('import pandas as pd'); }\n",
       "    "
      ],
      "text/plain": [
       "<IPython.core.display.Javascript object>"
      ]
     },
     "metadata": {},
     "output_type": "display_data"
    },
    {
     "name": "stderr",
     "output_type": "stream",
     "text": [
      "Reading files in Feb 2024: 100%|█████████████████████████████████████████████████████████| 3/3 [00:00<00:00, 11.74it/s]\n",
      "\n",
      "Processing 2024:  33%|██████████████████████▎                                            | 3/9 [00:00<00:01,  4.03it/s]\u001b[A\n",
      "\n",
      "Reading files in Jan 2024:   0%|                                                                 | 0/3 [00:00<?, ?it/s]\u001b[A\u001b[A"
     ]
    },
    {
     "data": {
      "application/javascript": [
       "\n",
       "        if (window._pyforest_update_imports_cell) { window._pyforest_update_imports_cell('import pandas as pd'); }\n",
       "    "
      ],
      "text/plain": [
       "<IPython.core.display.Javascript object>"
      ]
     },
     "metadata": {},
     "output_type": "display_data"
    },
    {
     "data": {
      "application/javascript": [
       "\n",
       "        if (window._pyforest_update_imports_cell) { window._pyforest_update_imports_cell('import pandas as pd'); }\n",
       "    "
      ],
      "text/plain": [
       "<IPython.core.display.Javascript object>"
      ]
     },
     "metadata": {},
     "output_type": "display_data"
    },
    {
     "name": "stderr",
     "output_type": "stream",
     "text": [
      "C:\\Users\\Matthew Adenyo\\AppData\\Local\\Temp\\ipykernel_14504\\2378979365.py:47: DtypeWarning: Columns (4,11) have mixed types. Specify dtype option on import or set low_memory=False.\n",
      "  for chunk in pd.read_csv(file, chunksize=chunksize):\n",
      "\n",
      "\n",
      "Reading files in Jan 2024:  67%|██████████████████████████████████████                   | 2/3 [00:00<00:00,  9.09it/s]\u001b[A\u001b[A"
     ]
    },
    {
     "data": {
      "application/javascript": [
       "\n",
       "        if (window._pyforest_update_imports_cell) { window._pyforest_update_imports_cell('import pandas as pd'); }\n",
       "    "
      ],
      "text/plain": [
       "<IPython.core.display.Javascript object>"
      ]
     },
     "metadata": {},
     "output_type": "display_data"
    },
    {
     "name": "stderr",
     "output_type": "stream",
     "text": [
      "Reading files in Jan 2024: 100%|█████████████████████████████████████████████████████████| 3/3 [00:00<00:00, 11.47it/s]\n",
      "\n",
      "Processing 2024:  44%|█████████████████████████████▊                                     | 4/9 [00:01<00:01,  3.90it/s]\u001b[A\n",
      "\n",
      "Reading files in Jul 2024:   0%|                                                                 | 0/3 [00:00<?, ?it/s]\u001b[A\u001b[A"
     ]
    },
    {
     "data": {
      "application/javascript": [
       "\n",
       "        if (window._pyforest_update_imports_cell) { window._pyforest_update_imports_cell('import pandas as pd'); }\n",
       "    "
      ],
      "text/plain": [
       "<IPython.core.display.Javascript object>"
      ]
     },
     "metadata": {},
     "output_type": "display_data"
    },
    {
     "data": {
      "application/javascript": [
       "\n",
       "        if (window._pyforest_update_imports_cell) { window._pyforest_update_imports_cell('import pandas as pd'); }\n",
       "    "
      ],
      "text/plain": [
       "<IPython.core.display.Javascript object>"
      ]
     },
     "metadata": {},
     "output_type": "display_data"
    },
    {
     "name": "stderr",
     "output_type": "stream",
     "text": [
      "C:\\Users\\Matthew Adenyo\\AppData\\Local\\Temp\\ipykernel_14504\\2378979365.py:47: DtypeWarning: Columns (4,11) have mixed types. Specify dtype option on import or set low_memory=False.\n",
      "  for chunk in pd.read_csv(file, chunksize=chunksize):\n",
      "\n",
      "\n",
      "Reading files in Jul 2024:  67%|██████████████████████████████████████                   | 2/3 [00:00<00:00, 10.38it/s]\u001b[A\u001b[A"
     ]
    },
    {
     "data": {
      "application/javascript": [
       "\n",
       "        if (window._pyforest_update_imports_cell) { window._pyforest_update_imports_cell('import pandas as pd'); }\n",
       "    "
      ],
      "text/plain": [
       "<IPython.core.display.Javascript object>"
      ]
     },
     "metadata": {},
     "output_type": "display_data"
    },
    {
     "name": "stderr",
     "output_type": "stream",
     "text": [
      "Reading files in Jul 2024: 100%|█████████████████████████████████████████████████████████| 3/3 [00:00<00:00, 12.60it/s]\n",
      "\n",
      "Processing 2024:  56%|█████████████████████████████████████▏                             | 5/9 [00:01<00:01,  3.95it/s]\u001b[A\n",
      "\n",
      "Reading files in Jun 2024:   0%|                                                                 | 0/3 [00:00<?, ?it/s]\u001b[A\u001b[A"
     ]
    },
    {
     "data": {
      "application/javascript": [
       "\n",
       "        if (window._pyforest_update_imports_cell) { window._pyforest_update_imports_cell('import pandas as pd'); }\n",
       "    "
      ],
      "text/plain": [
       "<IPython.core.display.Javascript object>"
      ]
     },
     "metadata": {},
     "output_type": "display_data"
    },
    {
     "data": {
      "application/javascript": [
       "\n",
       "        if (window._pyforest_update_imports_cell) { window._pyforest_update_imports_cell('import pandas as pd'); }\n",
       "    "
      ],
      "text/plain": [
       "<IPython.core.display.Javascript object>"
      ]
     },
     "metadata": {},
     "output_type": "display_data"
    },
    {
     "name": "stderr",
     "output_type": "stream",
     "text": [
      "C:\\Users\\Matthew Adenyo\\AppData\\Local\\Temp\\ipykernel_14504\\2378979365.py:47: DtypeWarning: Columns (4,11) have mixed types. Specify dtype option on import or set low_memory=False.\n",
      "  for chunk in pd.read_csv(file, chunksize=chunksize):\n",
      "\n",
      "\n",
      "Reading files in Jun 2024:  67%|██████████████████████████████████████                   | 2/3 [00:00<00:00, 11.31it/s]\u001b[A\u001b[A"
     ]
    },
    {
     "data": {
      "application/javascript": [
       "\n",
       "        if (window._pyforest_update_imports_cell) { window._pyforest_update_imports_cell('import pandas as pd'); }\n",
       "    "
      ],
      "text/plain": [
       "<IPython.core.display.Javascript object>"
      ]
     },
     "metadata": {},
     "output_type": "display_data"
    },
    {
     "name": "stderr",
     "output_type": "stream",
     "text": [
      "Reading files in Jun 2024: 100%|█████████████████████████████████████████████████████████| 3/3 [00:00<00:00, 13.86it/s]\n",
      "\n",
      "Processing 2024:  67%|████████████████████████████████████████████▋                      | 6/9 [00:01<00:00,  4.10it/s]\u001b[A\n",
      "\n",
      "Reading files in Mar 2024:   0%|                                                                 | 0/2 [00:00<?, ?it/s]\u001b[A\u001b[A"
     ]
    },
    {
     "data": {
      "application/javascript": [
       "\n",
       "        if (window._pyforest_update_imports_cell) { window._pyforest_update_imports_cell('import pandas as pd'); }\n",
       "    "
      ],
      "text/plain": [
       "<IPython.core.display.Javascript object>"
      ]
     },
     "metadata": {},
     "output_type": "display_data"
    },
    {
     "data": {
      "application/javascript": [
       "\n",
       "        if (window._pyforest_update_imports_cell) { window._pyforest_update_imports_cell('import pandas as pd'); }\n",
       "    "
      ],
      "text/plain": [
       "<IPython.core.display.Javascript object>"
      ]
     },
     "metadata": {},
     "output_type": "display_data"
    },
    {
     "name": "stderr",
     "output_type": "stream",
     "text": [
      "C:\\Users\\Matthew Adenyo\\AppData\\Local\\Temp\\ipykernel_14504\\2378979365.py:47: DtypeWarning: Columns (4,11) have mixed types. Specify dtype option on import or set low_memory=False.\n",
      "  for chunk in pd.read_csv(file, chunksize=chunksize):\n",
      "\n",
      "\n",
      "Reading files in Mar 2024: 100%|█████████████████████████████████████████████████████████| 2/2 [00:00<00:00, 11.08it/s]\u001b[A\u001b[A\n",
      "\n",
      "Processing 2024:  78%|████████████████████████████████████████████████████               | 7/9 [00:01<00:00,  4.43it/s]\u001b[A\n",
      "\n",
      "Reading files in May 2024:   0%|                                                                 | 0/3 [00:00<?, ?it/s]\u001b[A\u001b[A"
     ]
    },
    {
     "data": {
      "application/javascript": [
       "\n",
       "        if (window._pyforest_update_imports_cell) { window._pyforest_update_imports_cell('import pandas as pd'); }\n",
       "    "
      ],
      "text/plain": [
       "<IPython.core.display.Javascript object>"
      ]
     },
     "metadata": {},
     "output_type": "display_data"
    },
    {
     "data": {
      "application/javascript": [
       "\n",
       "        if (window._pyforest_update_imports_cell) { window._pyforest_update_imports_cell('import pandas as pd'); }\n",
       "    "
      ],
      "text/plain": [
       "<IPython.core.display.Javascript object>"
      ]
     },
     "metadata": {},
     "output_type": "display_data"
    },
    {
     "name": "stderr",
     "output_type": "stream",
     "text": [
      "C:\\Users\\Matthew Adenyo\\AppData\\Local\\Temp\\ipykernel_14504\\2378979365.py:47: DtypeWarning: Columns (4,11) have mixed types. Specify dtype option on import or set low_memory=False.\n",
      "  for chunk in pd.read_csv(file, chunksize=chunksize):\n",
      "\n",
      "\n",
      "Reading files in May 2024:  67%|██████████████████████████████████████                   | 2/3 [00:00<00:00, 10.64it/s]\u001b[A\u001b[A"
     ]
    },
    {
     "data": {
      "application/javascript": [
       "\n",
       "        if (window._pyforest_update_imports_cell) { window._pyforest_update_imports_cell('import pandas as pd'); }\n",
       "    "
      ],
      "text/plain": [
       "<IPython.core.display.Javascript object>"
      ]
     },
     "metadata": {},
     "output_type": "display_data"
    },
    {
     "name": "stderr",
     "output_type": "stream",
     "text": [
      "Reading files in May 2024: 100%|█████████████████████████████████████████████████████████| 3/3 [00:00<00:00, 12.91it/s]\n",
      "\n",
      "Processing 2024:  89%|███████████████████████████████████████████████████████████▌       | 8/9 [00:01<00:00,  4.34it/s]\u001b[A\n",
      "\n",
      "Reading files in Sep 2024:   0%|                                                                 | 0/3 [00:00<?, ?it/s]\u001b[A\u001b[A"
     ]
    },
    {
     "data": {
      "application/javascript": [
       "\n",
       "        if (window._pyforest_update_imports_cell) { window._pyforest_update_imports_cell('import pandas as pd'); }\n",
       "    "
      ],
      "text/plain": [
       "<IPython.core.display.Javascript object>"
      ]
     },
     "metadata": {},
     "output_type": "display_data"
    },
    {
     "data": {
      "application/javascript": [
       "\n",
       "        if (window._pyforest_update_imports_cell) { window._pyforest_update_imports_cell('import pandas as pd'); }\n",
       "    "
      ],
      "text/plain": [
       "<IPython.core.display.Javascript object>"
      ]
     },
     "metadata": {},
     "output_type": "display_data"
    },
    {
     "name": "stderr",
     "output_type": "stream",
     "text": [
      "C:\\Users\\Matthew Adenyo\\AppData\\Local\\Temp\\ipykernel_14504\\2378979365.py:47: DtypeWarning: Columns (4,11) have mixed types. Specify dtype option on import or set low_memory=False.\n",
      "  for chunk in pd.read_csv(file, chunksize=chunksize):\n",
      "\n",
      "\n",
      "Reading files in Sep 2024:  67%|██████████████████████████████████████                   | 2/3 [00:00<00:00, 11.06it/s]\u001b[A\u001b[A"
     ]
    },
    {
     "data": {
      "application/javascript": [
       "\n",
       "        if (window._pyforest_update_imports_cell) { window._pyforest_update_imports_cell('import pandas as pd'); }\n",
       "    "
      ],
      "text/plain": [
       "<IPython.core.display.Javascript object>"
      ]
     },
     "metadata": {},
     "output_type": "display_data"
    },
    {
     "name": "stderr",
     "output_type": "stream",
     "text": [
      "Reading files in Sep 2024: 100%|█████████████████████████████████████████████████████████| 3/3 [00:00<00:00, 13.76it/s]\n",
      "\n",
      "Processing 2024: 100%|███████████████████████████████████████████████████████████████████| 9/9 [00:02<00:00,  4.22it/s]\u001b[A\n",
      "Processing Years: 100%|██████████████████████████████████████████████████████████████████| 5/5 [00:14<00:00,  2.88s/it]\n"
     ]
    },
    {
     "data": {
      "application/javascript": [
       "\n",
       "        if (window._pyforest_update_imports_cell) { window._pyforest_update_imports_cell('import pandas as pd'); }\n",
       "    "
      ],
      "text/plain": [
       "<IPython.core.display.Javascript object>"
      ]
     },
     "metadata": {},
     "output_type": "display_data"
    },
    {
     "data": {
      "application/javascript": [
       "\n",
       "        if (window._pyforest_update_imports_cell) { window._pyforest_update_imports_cell('import pandas as pd'); }\n",
       "    "
      ],
      "text/plain": [
       "<IPython.core.display.Javascript object>"
      ]
     },
     "metadata": {},
     "output_type": "display_data"
    },
    {
     "data": {
      "application/javascript": [
       "\n",
       "        if (window._pyforest_update_imports_cell) { window._pyforest_update_imports_cell('import pandas as pd'); }\n",
       "    "
      ],
      "text/plain": [
       "<IPython.core.display.Javascript object>"
      ]
     },
     "metadata": {},
     "output_type": "display_data"
    },
    {
     "name": "stdout",
     "output_type": "stream",
     "text": [
      "------------------------------------------------------\n",
      "All dot1 shape: (1500485, 14)\n",
      "All dot2 shape: (4101624, 14)\n",
      "All dot3 shape: (915116, 12)\n",
      "------------------------------------------------------\n"
     ]
    }
   ],
   "source": [
    "# Calculate an optimal chunk size based on available memory\n",
    "sample_file = \"data/2020/Apr 2020/dot1_0420.csv\"\n",
    "sample_df = pd.read_csv(sample_file, nrows=1000)  # Read first 1000 rows\n",
    "row_size = sample_df.memory_usage(deep=True).sum() / 1000  # Average memory size per row in bytes\n",
    "memory_budget = psutil.virtual_memory().available * 0.1  # Allocate 10% of available RAM\n",
    "chunksize = int(memory_budget / row_size)\n",
    "\n",
    "print('------------------------------------------------------')\n",
    "print(f\"Using chunk size: {chunksize}\")\n",
    "print('------------------------------------------------------')\n",
    "\n",
    "# Main folder that contains dataset for each year\n",
    "data_folder = 'data'\n",
    "\n",
    "# Dictionary to store dataframes by dataset type\n",
    "data_dict = {'dot1': [], 'dot2': [], 'dot3': []}\n",
    "\n",
    "# Month mapping to extract correct month number from folder name\n",
    "month_mapping = {\n",
    "    \"Jan\": \"01\", \"Feb\": \"02\", \"Mar\": \"03\", \"Apr\": \"04\", \"May\": \"05\", \"Jun\": \"06\",\n",
    "    \"Jul\": \"07\", \"Aug\": \"08\", \"Sep\": \"09\", \"Oct\": \"10\", \"Nov\": \"11\", \"Dec\": \"12\"\n",
    "}\n",
    "\n",
    "# Loop through all the year folders (2020, 2021, 2022, 2023, 2024)\n",
    "for year in tqdm(['2020', '2021', '2022', '2023', '2024'], desc = \"Processing Years\"):\n",
    "    year_path = os.path.join(data_folder, year)\n",
    "\n",
    "    # Loop through all month folders in the year folder\n",
    "    for month_folder in tqdm(os.listdir(year_path), desc = f\"Processing {year}\"):\n",
    "        month_path = os.path.join(year_path, month_folder)\n",
    "\n",
    "        # Extract the month and year from the folder name\n",
    "        month_name, folder_year = month_folder.split(\" \")\n",
    "        month_number = month_mapping.get(month_name[:3])\n",
    "        file_suffix = f\"_{month_number}{year[-2:]}\"\n",
    "\n",
    "        # Select files that match the format dot1_MMYY, dot2_MMYY, dot3_MMYY\n",
    "        csv_files = [f for f in glob.glob(os.path.join(month_path, 'dot*.csv'))\n",
    "                     if os.path.basename(f) in [f\"dot1{file_suffix}.csv\", \n",
    "                                                f\"dot2{file_suffix}.csv\", \n",
    "                                                f\"dot3{file_suffix}.csv\"]]\n",
    "\n",
    "        for file in tqdm(csv_files, desc=f\"Reading files in {month_folder}\"):\n",
    "            dataset_type = os.path.basename(file).split('_')[0]\n",
    "\n",
    "            # Read data file in chunks and append to the appropriate dataset type\n",
    "            for chunk in pd.read_csv(file, chunksize=chunksize):\n",
    "                data_dict[dataset_type].append(chunk)\n",
    "\n",
    "# Concatenate datasets after appending all files\n",
    "all_dot1 = pd.concat(data_dict['dot1'], ignore_index = True)\n",
    "all_dot2 = pd.concat(data_dict['dot2'], ignore_index = True)\n",
    "all_dot3 = pd.concat(data_dict['dot3'], ignore_index = True)\n",
    "\n",
    "# Print summaries\n",
    "print('------------------------------------------------------')\n",
    "print('All dot1 shape:', all_dot1.shape)\n",
    "print('All dot2 shape:', all_dot2.shape)\n",
    "print('All dot3 shape:', all_dot3.shape)\n",
    "print('------------------------------------------------------')"
   ]
  },
  {
   "cell_type": "code",
   "execution_count": 3,
   "id": "fde7b9fd-96e1-4405-9977-96d14d116976",
   "metadata": {},
   "outputs": [
    {
     "data": {
      "text/html": [
       "<div>\n",
       "<style scoped>\n",
       "    .dataframe tbody tr th:only-of-type {\n",
       "        vertical-align: middle;\n",
       "    }\n",
       "\n",
       "    .dataframe tbody tr th {\n",
       "        vertical-align: top;\n",
       "    }\n",
       "\n",
       "    .dataframe thead th {\n",
       "        text-align: right;\n",
       "    }\n",
       "</style>\n",
       "<table border=\"1\" class=\"dataframe\">\n",
       "  <thead>\n",
       "    <tr style=\"text-align: right;\">\n",
       "      <th></th>\n",
       "      <th>TRDTYPE</th>\n",
       "      <th>USASTATE</th>\n",
       "      <th>DEPE</th>\n",
       "      <th>DISAGMOT</th>\n",
       "      <th>MEXSTATE</th>\n",
       "      <th>CANPROV</th>\n",
       "      <th>COUNTRY</th>\n",
       "      <th>VALUE</th>\n",
       "      <th>SHIPWT</th>\n",
       "      <th>FREIGHT_CHARGES</th>\n",
       "      <th>DF</th>\n",
       "      <th>CONTCODE</th>\n",
       "      <th>MONTH</th>\n",
       "      <th>YEAR</th>\n",
       "    </tr>\n",
       "  </thead>\n",
       "  <tbody>\n",
       "    <tr>\n",
       "      <th>0</th>\n",
       "      <td>1</td>\n",
       "      <td>AK</td>\n",
       "      <td>0115</td>\n",
       "      <td>5</td>\n",
       "      <td>NaN</td>\n",
       "      <td>XB</td>\n",
       "      <td>1220</td>\n",
       "      <td>4660</td>\n",
       "      <td>0</td>\n",
       "      <td>67</td>\n",
       "      <td>2.0</td>\n",
       "      <td>X</td>\n",
       "      <td>4</td>\n",
       "      <td>2020</td>\n",
       "    </tr>\n",
       "    <tr>\n",
       "      <th>1</th>\n",
       "      <td>1</td>\n",
       "      <td>AK</td>\n",
       "      <td>0901</td>\n",
       "      <td>5</td>\n",
       "      <td>NaN</td>\n",
       "      <td>XO</td>\n",
       "      <td>1220</td>\n",
       "      <td>14360</td>\n",
       "      <td>0</td>\n",
       "      <td>282</td>\n",
       "      <td>1.0</td>\n",
       "      <td>X</td>\n",
       "      <td>4</td>\n",
       "      <td>2020</td>\n",
       "    </tr>\n",
       "    <tr>\n",
       "      <th>2</th>\n",
       "      <td>1</td>\n",
       "      <td>AK</td>\n",
       "      <td>20XX</td>\n",
       "      <td>1</td>\n",
       "      <td>XX</td>\n",
       "      <td>NaN</td>\n",
       "      <td>2010</td>\n",
       "      <td>4293733</td>\n",
       "      <td>24971000</td>\n",
       "      <td>0</td>\n",
       "      <td>1.0</td>\n",
       "      <td>0</td>\n",
       "      <td>4</td>\n",
       "      <td>2020</td>\n",
       "    </tr>\n",
       "    <tr>\n",
       "      <th>3</th>\n",
       "      <td>1</td>\n",
       "      <td>AK</td>\n",
       "      <td>20XX</td>\n",
       "      <td>3</td>\n",
       "      <td>NaN</td>\n",
       "      <td>XA</td>\n",
       "      <td>1220</td>\n",
       "      <td>28283</td>\n",
       "      <td>443</td>\n",
       "      <td>563</td>\n",
       "      <td>1.0</td>\n",
       "      <td>X</td>\n",
       "      <td>4</td>\n",
       "      <td>2020</td>\n",
       "    </tr>\n",
       "    <tr>\n",
       "      <th>4</th>\n",
       "      <td>1</td>\n",
       "      <td>AK</td>\n",
       "      <td>20XX</td>\n",
       "      <td>3</td>\n",
       "      <td>NaN</td>\n",
       "      <td>XA</td>\n",
       "      <td>1220</td>\n",
       "      <td>29848</td>\n",
       "      <td>69</td>\n",
       "      <td>538</td>\n",
       "      <td>2.0</td>\n",
       "      <td>X</td>\n",
       "      <td>4</td>\n",
       "      <td>2020</td>\n",
       "    </tr>\n",
       "  </tbody>\n",
       "</table>\n",
       "</div>"
      ],
      "text/plain": [
       "   TRDTYPE USASTATE  DEPE  DISAGMOT MEXSTATE CANPROV  COUNTRY    VALUE  \\\n",
       "0        1       AK  0115         5      NaN      XB     1220     4660   \n",
       "1        1       AK  0901         5      NaN      XO     1220    14360   \n",
       "2        1       AK  20XX         1       XX     NaN     2010  4293733   \n",
       "3        1       AK  20XX         3      NaN      XA     1220    28283   \n",
       "4        1       AK  20XX         3      NaN      XA     1220    29848   \n",
       "\n",
       "     SHIPWT  FREIGHT_CHARGES   DF CONTCODE  MONTH  YEAR  \n",
       "0         0               67  2.0        X      4  2020  \n",
       "1         0              282  1.0        X      4  2020  \n",
       "2  24971000                0  1.0        0      4  2020  \n",
       "3       443              563  1.0        X      4  2020  \n",
       "4        69              538  2.0        X      4  2020  "
      ]
     },
     "execution_count": 3,
     "metadata": {},
     "output_type": "execute_result"
    }
   ],
   "source": [
    "all_dot1.head()"
   ]
  },
  {
   "cell_type": "code",
   "execution_count": 4,
   "id": "27bbbe6f-7358-4e2d-9be1-36b708aa3f11",
   "metadata": {},
   "outputs": [
    {
     "data": {
      "text/html": [
       "<div>\n",
       "<style scoped>\n",
       "    .dataframe tbody tr th:only-of-type {\n",
       "        vertical-align: middle;\n",
       "    }\n",
       "\n",
       "    .dataframe tbody tr th {\n",
       "        vertical-align: top;\n",
       "    }\n",
       "\n",
       "    .dataframe thead th {\n",
       "        text-align: right;\n",
       "    }\n",
       "</style>\n",
       "<table border=\"1\" class=\"dataframe\">\n",
       "  <thead>\n",
       "    <tr style=\"text-align: right;\">\n",
       "      <th></th>\n",
       "      <th>TRDTYPE</th>\n",
       "      <th>USASTATE</th>\n",
       "      <th>DEPE</th>\n",
       "      <th>DISAGMOT</th>\n",
       "      <th>MEXSTATE</th>\n",
       "      <th>CANPROV</th>\n",
       "      <th>COUNTRY</th>\n",
       "      <th>VALUE</th>\n",
       "      <th>SHIPWT</th>\n",
       "      <th>FREIGHT_CHARGES</th>\n",
       "      <th>DF</th>\n",
       "      <th>CONTCODE</th>\n",
       "      <th>MONTH</th>\n",
       "      <th>YEAR</th>\n",
       "    </tr>\n",
       "  </thead>\n",
       "  <tbody>\n",
       "    <tr>\n",
       "      <th>1500480</th>\n",
       "      <td>2</td>\n",
       "      <td>WY</td>\n",
       "      <td>4101</td>\n",
       "      <td>3</td>\n",
       "      <td>NaN</td>\n",
       "      <td>XC</td>\n",
       "      <td>1220</td>\n",
       "      <td>8869</td>\n",
       "      <td>63</td>\n",
       "      <td>290</td>\n",
       "      <td>NaN</td>\n",
       "      <td>0</td>\n",
       "      <td>9</td>\n",
       "      <td>2024</td>\n",
       "    </tr>\n",
       "    <tr>\n",
       "      <th>1500481</th>\n",
       "      <td>2</td>\n",
       "      <td>WY</td>\n",
       "      <td>4101</td>\n",
       "      <td>3</td>\n",
       "      <td>NaN</td>\n",
       "      <td>XN</td>\n",
       "      <td>1220</td>\n",
       "      <td>10853</td>\n",
       "      <td>29</td>\n",
       "      <td>72</td>\n",
       "      <td>NaN</td>\n",
       "      <td>0</td>\n",
       "      <td>9</td>\n",
       "      <td>2024</td>\n",
       "    </tr>\n",
       "    <tr>\n",
       "      <th>1500482</th>\n",
       "      <td>2</td>\n",
       "      <td>WY</td>\n",
       "      <td>4101</td>\n",
       "      <td>3</td>\n",
       "      <td>NaN</td>\n",
       "      <td>XO</td>\n",
       "      <td>1220</td>\n",
       "      <td>59348</td>\n",
       "      <td>307</td>\n",
       "      <td>858</td>\n",
       "      <td>NaN</td>\n",
       "      <td>0</td>\n",
       "      <td>9</td>\n",
       "      <td>2024</td>\n",
       "    </tr>\n",
       "    <tr>\n",
       "      <th>1500483</th>\n",
       "      <td>2</td>\n",
       "      <td>WY</td>\n",
       "      <td>4101</td>\n",
       "      <td>3</td>\n",
       "      <td>NaN</td>\n",
       "      <td>XQ</td>\n",
       "      <td>1220</td>\n",
       "      <td>12689</td>\n",
       "      <td>53</td>\n",
       "      <td>382</td>\n",
       "      <td>NaN</td>\n",
       "      <td>0</td>\n",
       "      <td>9</td>\n",
       "      <td>2024</td>\n",
       "    </tr>\n",
       "    <tr>\n",
       "      <th>1500484</th>\n",
       "      <td>2</td>\n",
       "      <td>WY</td>\n",
       "      <td>41XX</td>\n",
       "      <td>3</td>\n",
       "      <td>NaN</td>\n",
       "      <td>NaN</td>\n",
       "      <td>2010</td>\n",
       "      <td>11931</td>\n",
       "      <td>38</td>\n",
       "      <td>136</td>\n",
       "      <td>NaN</td>\n",
       "      <td>0</td>\n",
       "      <td>9</td>\n",
       "      <td>2024</td>\n",
       "    </tr>\n",
       "  </tbody>\n",
       "</table>\n",
       "</div>"
      ],
      "text/plain": [
       "         TRDTYPE USASTATE  DEPE  DISAGMOT MEXSTATE CANPROV  COUNTRY  VALUE  \\\n",
       "1500480        2       WY  4101         3      NaN      XC     1220   8869   \n",
       "1500481        2       WY  4101         3      NaN      XN     1220  10853   \n",
       "1500482        2       WY  4101         3      NaN      XO     1220  59348   \n",
       "1500483        2       WY  4101         3      NaN      XQ     1220  12689   \n",
       "1500484        2       WY  41XX         3      NaN     NaN     2010  11931   \n",
       "\n",
       "         SHIPWT  FREIGHT_CHARGES  DF CONTCODE  MONTH  YEAR  \n",
       "1500480      63              290 NaN        0      9  2024  \n",
       "1500481      29               72 NaN        0      9  2024  \n",
       "1500482     307              858 NaN        0      9  2024  \n",
       "1500483      53              382 NaN        0      9  2024  \n",
       "1500484      38              136 NaN        0      9  2024  "
      ]
     },
     "execution_count": 4,
     "metadata": {},
     "output_type": "execute_result"
    }
   ],
   "source": [
    "all_dot1.tail()"
   ]
  },
  {
   "cell_type": "code",
   "execution_count": 5,
   "id": "1da06aad-39ff-4ccf-976b-a616b4d5f929",
   "metadata": {},
   "outputs": [
    {
     "name": "stdout",
     "output_type": "stream",
     "text": [
      "<class 'pandas.core.frame.DataFrame'>\n",
      "RangeIndex: 1500485 entries, 0 to 1500484\n",
      "Data columns (total 14 columns):\n",
      " #   Column           Non-Null Count    Dtype  \n",
      "---  ------           --------------    -----  \n",
      " 0   TRDTYPE          1500485 non-null  int64  \n",
      " 1   USASTATE         1500485 non-null  object \n",
      " 2   DEPE             1500485 non-null  object \n",
      " 3   DISAGMOT         1500485 non-null  int64  \n",
      " 4   MEXSTATE         439277 non-null   object \n",
      " 5   CANPROV          947896 non-null   object \n",
      " 6   COUNTRY          1500485 non-null  int64  \n",
      " 7   VALUE            1500485 non-null  int64  \n",
      " 8   SHIPWT           1500485 non-null  int64  \n",
      " 9   FREIGHT_CHARGES  1500485 non-null  int64  \n",
      " 10  DF               935285 non-null   float64\n",
      " 11  CONTCODE         1500485 non-null  object \n",
      " 12  MONTH            1500485 non-null  int64  \n",
      " 13  YEAR             1500485 non-null  int64  \n",
      "dtypes: float64(1), int64(8), object(5)\n",
      "memory usage: 160.3+ MB\n"
     ]
    }
   ],
   "source": [
    "all_dot1.info()"
   ]
  },
  {
   "cell_type": "code",
   "execution_count": 6,
   "id": "3c2803db-0df5-486a-ad9d-594f7e3bea4b",
   "metadata": {},
   "outputs": [
    {
     "data": {
      "text/plain": [
       "TRDTYPE                  0\n",
       "USASTATE                 0\n",
       "DEPE                     0\n",
       "DISAGMOT                 0\n",
       "MEXSTATE           1061208\n",
       "CANPROV             552589\n",
       "COUNTRY                  0\n",
       "VALUE                    0\n",
       "SHIPWT                   0\n",
       "FREIGHT_CHARGES          0\n",
       "DF                  565200\n",
       "CONTCODE                 0\n",
       "MONTH                    0\n",
       "YEAR                     0\n",
       "dtype: int64"
      ]
     },
     "execution_count": 6,
     "metadata": {},
     "output_type": "execute_result"
    }
   ],
   "source": [
    "all_dot1.isnull().sum()"
   ]
  },
  {
   "cell_type": "code",
   "execution_count": 7,
   "id": "4628bea7-592a-4219-a133-592894d7bed7",
   "metadata": {},
   "outputs": [
    {
     "data": {
      "text/html": [
       "<div>\n",
       "<style scoped>\n",
       "    .dataframe tbody tr th:only-of-type {\n",
       "        vertical-align: middle;\n",
       "    }\n",
       "\n",
       "    .dataframe tbody tr th {\n",
       "        vertical-align: top;\n",
       "    }\n",
       "\n",
       "    .dataframe thead th {\n",
       "        text-align: right;\n",
       "    }\n",
       "</style>\n",
       "<table border=\"1\" class=\"dataframe\">\n",
       "  <thead>\n",
       "    <tr style=\"text-align: right;\">\n",
       "      <th></th>\n",
       "      <th>TRDTYPE</th>\n",
       "      <th>USASTATE</th>\n",
       "      <th>COMMODITY2</th>\n",
       "      <th>DISAGMOT</th>\n",
       "      <th>MEXSTATE</th>\n",
       "      <th>CANPROV</th>\n",
       "      <th>COUNTRY</th>\n",
       "      <th>VALUE</th>\n",
       "      <th>SHIPWT</th>\n",
       "      <th>FREIGHT_CHARGES</th>\n",
       "      <th>DF</th>\n",
       "      <th>CONTCODE</th>\n",
       "      <th>MONTH</th>\n",
       "      <th>YEAR</th>\n",
       "    </tr>\n",
       "  </thead>\n",
       "  <tbody>\n",
       "    <tr>\n",
       "      <th>0</th>\n",
       "      <td>1</td>\n",
       "      <td>AK</td>\n",
       "      <td>2</td>\n",
       "      <td>5</td>\n",
       "      <td>NL</td>\n",
       "      <td>NaN</td>\n",
       "      <td>2010</td>\n",
       "      <td>22370</td>\n",
       "      <td>0</td>\n",
       "      <td>0</td>\n",
       "      <td>1.0</td>\n",
       "      <td>0</td>\n",
       "      <td>4</td>\n",
       "      <td>2020</td>\n",
       "    </tr>\n",
       "    <tr>\n",
       "      <th>1</th>\n",
       "      <td>1</td>\n",
       "      <td>AK</td>\n",
       "      <td>3</td>\n",
       "      <td>1</td>\n",
       "      <td>NaN</td>\n",
       "      <td>XB</td>\n",
       "      <td>1220</td>\n",
       "      <td>108133</td>\n",
       "      <td>24698</td>\n",
       "      <td>1482</td>\n",
       "      <td>1.0</td>\n",
       "      <td>X</td>\n",
       "      <td>4</td>\n",
       "      <td>2020</td>\n",
       "    </tr>\n",
       "    <tr>\n",
       "      <th>2</th>\n",
       "      <td>1</td>\n",
       "      <td>AK</td>\n",
       "      <td>3</td>\n",
       "      <td>1</td>\n",
       "      <td>NaN</td>\n",
       "      <td>XC</td>\n",
       "      <td>1220</td>\n",
       "      <td>809104</td>\n",
       "      <td>99790</td>\n",
       "      <td>15864</td>\n",
       "      <td>1.0</td>\n",
       "      <td>X</td>\n",
       "      <td>4</td>\n",
       "      <td>2020</td>\n",
       "    </tr>\n",
       "    <tr>\n",
       "      <th>3</th>\n",
       "      <td>1</td>\n",
       "      <td>AK</td>\n",
       "      <td>3</td>\n",
       "      <td>5</td>\n",
       "      <td>NaN</td>\n",
       "      <td>XC</td>\n",
       "      <td>1220</td>\n",
       "      <td>887888</td>\n",
       "      <td>0</td>\n",
       "      <td>17546</td>\n",
       "      <td>1.0</td>\n",
       "      <td>X</td>\n",
       "      <td>4</td>\n",
       "      <td>2020</td>\n",
       "    </tr>\n",
       "    <tr>\n",
       "      <th>4</th>\n",
       "      <td>1</td>\n",
       "      <td>AK</td>\n",
       "      <td>3</td>\n",
       "      <td>5</td>\n",
       "      <td>NaN</td>\n",
       "      <td>XO</td>\n",
       "      <td>1220</td>\n",
       "      <td>76006</td>\n",
       "      <td>0</td>\n",
       "      <td>1665</td>\n",
       "      <td>1.0</td>\n",
       "      <td>X</td>\n",
       "      <td>4</td>\n",
       "      <td>2020</td>\n",
       "    </tr>\n",
       "  </tbody>\n",
       "</table>\n",
       "</div>"
      ],
      "text/plain": [
       "   TRDTYPE USASTATE  COMMODITY2  DISAGMOT MEXSTATE CANPROV  COUNTRY   VALUE  \\\n",
       "0        1       AK           2         5       NL     NaN     2010   22370   \n",
       "1        1       AK           3         1      NaN      XB     1220  108133   \n",
       "2        1       AK           3         1      NaN      XC     1220  809104   \n",
       "3        1       AK           3         5      NaN      XC     1220  887888   \n",
       "4        1       AK           3         5      NaN      XO     1220   76006   \n",
       "\n",
       "   SHIPWT  FREIGHT_CHARGES   DF CONTCODE  MONTH  YEAR  \n",
       "0       0                0  1.0        0      4  2020  \n",
       "1   24698             1482  1.0        X      4  2020  \n",
       "2   99790            15864  1.0        X      4  2020  \n",
       "3       0            17546  1.0        X      4  2020  \n",
       "4       0             1665  1.0        X      4  2020  "
      ]
     },
     "execution_count": 7,
     "metadata": {},
     "output_type": "execute_result"
    }
   ],
   "source": [
    "all_dot2.head()"
   ]
  },
  {
   "cell_type": "code",
   "execution_count": 8,
   "id": "52b93797-84a5-4fbf-8ad9-2353e86c78c6",
   "metadata": {},
   "outputs": [
    {
     "data": {
      "text/html": [
       "<div>\n",
       "<style scoped>\n",
       "    .dataframe tbody tr th:only-of-type {\n",
       "        vertical-align: middle;\n",
       "    }\n",
       "\n",
       "    .dataframe tbody tr th {\n",
       "        vertical-align: top;\n",
       "    }\n",
       "\n",
       "    .dataframe thead th {\n",
       "        text-align: right;\n",
       "    }\n",
       "</style>\n",
       "<table border=\"1\" class=\"dataframe\">\n",
       "  <thead>\n",
       "    <tr style=\"text-align: right;\">\n",
       "      <th></th>\n",
       "      <th>TRDTYPE</th>\n",
       "      <th>USASTATE</th>\n",
       "      <th>COMMODITY2</th>\n",
       "      <th>DISAGMOT</th>\n",
       "      <th>MEXSTATE</th>\n",
       "      <th>CANPROV</th>\n",
       "      <th>COUNTRY</th>\n",
       "      <th>VALUE</th>\n",
       "      <th>SHIPWT</th>\n",
       "      <th>FREIGHT_CHARGES</th>\n",
       "      <th>DF</th>\n",
       "      <th>CONTCODE</th>\n",
       "      <th>MONTH</th>\n",
       "      <th>YEAR</th>\n",
       "    </tr>\n",
       "  </thead>\n",
       "  <tbody>\n",
       "    <tr>\n",
       "      <th>4101619</th>\n",
       "      <td>2</td>\n",
       "      <td>WY</td>\n",
       "      <td>97</td>\n",
       "      <td>3</td>\n",
       "      <td>NaN</td>\n",
       "      <td>XC</td>\n",
       "      <td>1220</td>\n",
       "      <td>6149</td>\n",
       "      <td>29</td>\n",
       "      <td>75</td>\n",
       "      <td>NaN</td>\n",
       "      <td>0</td>\n",
       "      <td>9</td>\n",
       "      <td>2024</td>\n",
       "    </tr>\n",
       "    <tr>\n",
       "      <th>4101620</th>\n",
       "      <td>2</td>\n",
       "      <td>WY</td>\n",
       "      <td>98</td>\n",
       "      <td>3</td>\n",
       "      <td>NaN</td>\n",
       "      <td>XO</td>\n",
       "      <td>1220</td>\n",
       "      <td>19774</td>\n",
       "      <td>153</td>\n",
       "      <td>1696</td>\n",
       "      <td>NaN</td>\n",
       "      <td>0</td>\n",
       "      <td>9</td>\n",
       "      <td>2024</td>\n",
       "    </tr>\n",
       "    <tr>\n",
       "      <th>4101621</th>\n",
       "      <td>2</td>\n",
       "      <td>WY</td>\n",
       "      <td>98</td>\n",
       "      <td>5</td>\n",
       "      <td>NaN</td>\n",
       "      <td>XA</td>\n",
       "      <td>1220</td>\n",
       "      <td>67816</td>\n",
       "      <td>6253</td>\n",
       "      <td>1200</td>\n",
       "      <td>NaN</td>\n",
       "      <td>0</td>\n",
       "      <td>9</td>\n",
       "      <td>2024</td>\n",
       "    </tr>\n",
       "    <tr>\n",
       "      <th>4101622</th>\n",
       "      <td>2</td>\n",
       "      <td>WY</td>\n",
       "      <td>98</td>\n",
       "      <td>5</td>\n",
       "      <td>NaN</td>\n",
       "      <td>XO</td>\n",
       "      <td>1220</td>\n",
       "      <td>1629424</td>\n",
       "      <td>234245</td>\n",
       "      <td>10907</td>\n",
       "      <td>NaN</td>\n",
       "      <td>0</td>\n",
       "      <td>9</td>\n",
       "      <td>2024</td>\n",
       "    </tr>\n",
       "    <tr>\n",
       "      <th>4101623</th>\n",
       "      <td>2</td>\n",
       "      <td>WY</td>\n",
       "      <td>98</td>\n",
       "      <td>5</td>\n",
       "      <td>NaN</td>\n",
       "      <td>XS</td>\n",
       "      <td>1220</td>\n",
       "      <td>119132</td>\n",
       "      <td>5443</td>\n",
       "      <td>248</td>\n",
       "      <td>NaN</td>\n",
       "      <td>0</td>\n",
       "      <td>9</td>\n",
       "      <td>2024</td>\n",
       "    </tr>\n",
       "  </tbody>\n",
       "</table>\n",
       "</div>"
      ],
      "text/plain": [
       "         TRDTYPE USASTATE  COMMODITY2  DISAGMOT MEXSTATE CANPROV  COUNTRY  \\\n",
       "4101619        2       WY          97         3      NaN      XC     1220   \n",
       "4101620        2       WY          98         3      NaN      XO     1220   \n",
       "4101621        2       WY          98         5      NaN      XA     1220   \n",
       "4101622        2       WY          98         5      NaN      XO     1220   \n",
       "4101623        2       WY          98         5      NaN      XS     1220   \n",
       "\n",
       "           VALUE  SHIPWT  FREIGHT_CHARGES  DF CONTCODE  MONTH  YEAR  \n",
       "4101619     6149      29               75 NaN        0      9  2024  \n",
       "4101620    19774     153             1696 NaN        0      9  2024  \n",
       "4101621    67816    6253             1200 NaN        0      9  2024  \n",
       "4101622  1629424  234245            10907 NaN        0      9  2024  \n",
       "4101623   119132    5443              248 NaN        0      9  2024  "
      ]
     },
     "execution_count": 8,
     "metadata": {},
     "output_type": "execute_result"
    }
   ],
   "source": [
    "all_dot2.tail()"
   ]
  },
  {
   "cell_type": "code",
   "execution_count": 9,
   "id": "d8ebfe96-4d7b-4edb-a7e8-f912c1bf973a",
   "metadata": {},
   "outputs": [
    {
     "name": "stdout",
     "output_type": "stream",
     "text": [
      "<class 'pandas.core.frame.DataFrame'>\n",
      "RangeIndex: 4101624 entries, 0 to 4101623\n",
      "Data columns (total 14 columns):\n",
      " #   Column           Dtype  \n",
      "---  ------           -----  \n",
      " 0   TRDTYPE          int64  \n",
      " 1   USASTATE         object \n",
      " 2   COMMODITY2       int64  \n",
      " 3   DISAGMOT         int64  \n",
      " 4   MEXSTATE         object \n",
      " 5   CANPROV          object \n",
      " 6   COUNTRY          int64  \n",
      " 7   VALUE            int64  \n",
      " 8   SHIPWT           int64  \n",
      " 9   FREIGHT_CHARGES  int64  \n",
      " 10  DF               float64\n",
      " 11  CONTCODE         object \n",
      " 12  MONTH            int64  \n",
      " 13  YEAR             int64  \n",
      "dtypes: float64(1), int64(9), object(4)\n",
      "memory usage: 438.1+ MB\n"
     ]
    }
   ],
   "source": [
    "all_dot2.info()"
   ]
  },
  {
   "cell_type": "code",
   "execution_count": 10,
   "id": "c769d0e1-a15e-4e99-8ea8-7d7374e7ddad",
   "metadata": {},
   "outputs": [
    {
     "data": {
      "text/plain": [
       "TRDTYPE                  0\n",
       "USASTATE                 0\n",
       "COMMODITY2               0\n",
       "DISAGMOT                 0\n",
       "MEXSTATE           2700940\n",
       "CANPROV            1651792\n",
       "COUNTRY                  0\n",
       "VALUE                    0\n",
       "SHIPWT                   0\n",
       "FREIGHT_CHARGES          0\n",
       "DF                 1251187\n",
       "CONTCODE                 0\n",
       "MONTH                    0\n",
       "YEAR                     0\n",
       "dtype: int64"
      ]
     },
     "execution_count": 10,
     "metadata": {},
     "output_type": "execute_result"
    }
   ],
   "source": [
    "all_dot2.isnull().sum()"
   ]
  },
  {
   "cell_type": "code",
   "execution_count": 11,
   "id": "f1a99dc4-bacc-475b-9759-3116ae5a07c2",
   "metadata": {},
   "outputs": [
    {
     "data": {
      "text/html": [
       "<div>\n",
       "<style scoped>\n",
       "    .dataframe tbody tr th:only-of-type {\n",
       "        vertical-align: middle;\n",
       "    }\n",
       "\n",
       "    .dataframe tbody tr th {\n",
       "        vertical-align: top;\n",
       "    }\n",
       "\n",
       "    .dataframe thead th {\n",
       "        text-align: right;\n",
       "    }\n",
       "</style>\n",
       "<table border=\"1\" class=\"dataframe\">\n",
       "  <thead>\n",
       "    <tr style=\"text-align: right;\">\n",
       "      <th></th>\n",
       "      <th>TRDTYPE</th>\n",
       "      <th>DEPE</th>\n",
       "      <th>COMMODITY2</th>\n",
       "      <th>DISAGMOT</th>\n",
       "      <th>COUNTRY</th>\n",
       "      <th>VALUE</th>\n",
       "      <th>SHIPWT</th>\n",
       "      <th>FREIGHT_CHARGES</th>\n",
       "      <th>DF</th>\n",
       "      <th>CONTCODE</th>\n",
       "      <th>MONTH</th>\n",
       "      <th>YEAR</th>\n",
       "    </tr>\n",
       "  </thead>\n",
       "  <tbody>\n",
       "    <tr>\n",
       "      <th>0</th>\n",
       "      <td>1</td>\n",
       "      <td>0101</td>\n",
       "      <td>9</td>\n",
       "      <td>5</td>\n",
       "      <td>1220</td>\n",
       "      <td>2864</td>\n",
       "      <td>0</td>\n",
       "      <td>56</td>\n",
       "      <td>2.0</td>\n",
       "      <td>X</td>\n",
       "      <td>4</td>\n",
       "      <td>2020</td>\n",
       "    </tr>\n",
       "    <tr>\n",
       "      <th>1</th>\n",
       "      <td>1</td>\n",
       "      <td>0101</td>\n",
       "      <td>19</td>\n",
       "      <td>5</td>\n",
       "      <td>1220</td>\n",
       "      <td>12690</td>\n",
       "      <td>0</td>\n",
       "      <td>241</td>\n",
       "      <td>1.0</td>\n",
       "      <td>X</td>\n",
       "      <td>4</td>\n",
       "      <td>2020</td>\n",
       "    </tr>\n",
       "    <tr>\n",
       "      <th>2</th>\n",
       "      <td>1</td>\n",
       "      <td>0101</td>\n",
       "      <td>20</td>\n",
       "      <td>5</td>\n",
       "      <td>1220</td>\n",
       "      <td>6699</td>\n",
       "      <td>0</td>\n",
       "      <td>131</td>\n",
       "      <td>1.0</td>\n",
       "      <td>X</td>\n",
       "      <td>4</td>\n",
       "      <td>2020</td>\n",
       "    </tr>\n",
       "    <tr>\n",
       "      <th>3</th>\n",
       "      <td>1</td>\n",
       "      <td>0101</td>\n",
       "      <td>25</td>\n",
       "      <td>6</td>\n",
       "      <td>1220</td>\n",
       "      <td>25854</td>\n",
       "      <td>0</td>\n",
       "      <td>506</td>\n",
       "      <td>1.0</td>\n",
       "      <td>X</td>\n",
       "      <td>4</td>\n",
       "      <td>2020</td>\n",
       "    </tr>\n",
       "    <tr>\n",
       "      <th>4</th>\n",
       "      <td>1</td>\n",
       "      <td>0101</td>\n",
       "      <td>28</td>\n",
       "      <td>5</td>\n",
       "      <td>1220</td>\n",
       "      <td>16007</td>\n",
       "      <td>0</td>\n",
       "      <td>313</td>\n",
       "      <td>2.0</td>\n",
       "      <td>X</td>\n",
       "      <td>4</td>\n",
       "      <td>2020</td>\n",
       "    </tr>\n",
       "  </tbody>\n",
       "</table>\n",
       "</div>"
      ],
      "text/plain": [
       "   TRDTYPE  DEPE  COMMODITY2  DISAGMOT  COUNTRY  VALUE  SHIPWT  \\\n",
       "0        1  0101           9         5     1220   2864       0   \n",
       "1        1  0101          19         5     1220  12690       0   \n",
       "2        1  0101          20         5     1220   6699       0   \n",
       "3        1  0101          25         6     1220  25854       0   \n",
       "4        1  0101          28         5     1220  16007       0   \n",
       "\n",
       "   FREIGHT_CHARGES   DF CONTCODE  MONTH  YEAR  \n",
       "0               56  2.0        X      4  2020  \n",
       "1              241  1.0        X      4  2020  \n",
       "2              131  1.0        X      4  2020  \n",
       "3              506  1.0        X      4  2020  \n",
       "4              313  2.0        X      4  2020  "
      ]
     },
     "execution_count": 11,
     "metadata": {},
     "output_type": "execute_result"
    }
   ],
   "source": [
    "all_dot3.head()"
   ]
  },
  {
   "cell_type": "code",
   "execution_count": 12,
   "id": "e222fed3-c0a3-4133-93c1-d4f45d71879d",
   "metadata": {},
   "outputs": [
    {
     "data": {
      "text/html": [
       "<div>\n",
       "<style scoped>\n",
       "    .dataframe tbody tr th:only-of-type {\n",
       "        vertical-align: middle;\n",
       "    }\n",
       "\n",
       "    .dataframe tbody tr th {\n",
       "        vertical-align: top;\n",
       "    }\n",
       "\n",
       "    .dataframe thead th {\n",
       "        text-align: right;\n",
       "    }\n",
       "</style>\n",
       "<table border=\"1\" class=\"dataframe\">\n",
       "  <thead>\n",
       "    <tr style=\"text-align: right;\">\n",
       "      <th></th>\n",
       "      <th>TRDTYPE</th>\n",
       "      <th>DEPE</th>\n",
       "      <th>COMMODITY2</th>\n",
       "      <th>DISAGMOT</th>\n",
       "      <th>COUNTRY</th>\n",
       "      <th>VALUE</th>\n",
       "      <th>SHIPWT</th>\n",
       "      <th>FREIGHT_CHARGES</th>\n",
       "      <th>DF</th>\n",
       "      <th>CONTCODE</th>\n",
       "      <th>MONTH</th>\n",
       "      <th>YEAR</th>\n",
       "    </tr>\n",
       "  </thead>\n",
       "  <tbody>\n",
       "    <tr>\n",
       "      <th>915111</th>\n",
       "      <td>2</td>\n",
       "      <td>55XX</td>\n",
       "      <td>98</td>\n",
       "      <td>5</td>\n",
       "      <td>1220</td>\n",
       "      <td>4384342</td>\n",
       "      <td>7399</td>\n",
       "      <td>1883</td>\n",
       "      <td>NaN</td>\n",
       "      <td>0</td>\n",
       "      <td>9</td>\n",
       "      <td>2024</td>\n",
       "    </tr>\n",
       "    <tr>\n",
       "      <th>915112</th>\n",
       "      <td>2</td>\n",
       "      <td>55XX</td>\n",
       "      <td>98</td>\n",
       "      <td>8</td>\n",
       "      <td>1220</td>\n",
       "      <td>50211</td>\n",
       "      <td>6350</td>\n",
       "      <td>3500</td>\n",
       "      <td>NaN</td>\n",
       "      <td>0</td>\n",
       "      <td>9</td>\n",
       "      <td>2024</td>\n",
       "    </tr>\n",
       "    <tr>\n",
       "      <th>915113</th>\n",
       "      <td>2</td>\n",
       "      <td>60XX</td>\n",
       "      <td>89</td>\n",
       "      <td>8</td>\n",
       "      <td>1220</td>\n",
       "      <td>793390</td>\n",
       "      <td>80</td>\n",
       "      <td>500</td>\n",
       "      <td>NaN</td>\n",
       "      <td>0</td>\n",
       "      <td>9</td>\n",
       "      <td>2024</td>\n",
       "    </tr>\n",
       "    <tr>\n",
       "      <th>915114</th>\n",
       "      <td>2</td>\n",
       "      <td>70XX</td>\n",
       "      <td>99</td>\n",
       "      <td>8</td>\n",
       "      <td>1220</td>\n",
       "      <td>233990301</td>\n",
       "      <td>0</td>\n",
       "      <td>0</td>\n",
       "      <td>NaN</td>\n",
       "      <td>0</td>\n",
       "      <td>9</td>\n",
       "      <td>2024</td>\n",
       "    </tr>\n",
       "    <tr>\n",
       "      <th>915115</th>\n",
       "      <td>2</td>\n",
       "      <td>70XX</td>\n",
       "      <td>99</td>\n",
       "      <td>8</td>\n",
       "      <td>2010</td>\n",
       "      <td>224981722</td>\n",
       "      <td>0</td>\n",
       "      <td>0</td>\n",
       "      <td>NaN</td>\n",
       "      <td>0</td>\n",
       "      <td>9</td>\n",
       "      <td>2024</td>\n",
       "    </tr>\n",
       "  </tbody>\n",
       "</table>\n",
       "</div>"
      ],
      "text/plain": [
       "        TRDTYPE  DEPE  COMMODITY2  DISAGMOT  COUNTRY      VALUE  SHIPWT  \\\n",
       "915111        2  55XX          98         5     1220    4384342    7399   \n",
       "915112        2  55XX          98         8     1220      50211    6350   \n",
       "915113        2  60XX          89         8     1220     793390      80   \n",
       "915114        2  70XX          99         8     1220  233990301       0   \n",
       "915115        2  70XX          99         8     2010  224981722       0   \n",
       "\n",
       "        FREIGHT_CHARGES  DF CONTCODE  MONTH  YEAR  \n",
       "915111             1883 NaN        0      9  2024  \n",
       "915112             3500 NaN        0      9  2024  \n",
       "915113              500 NaN        0      9  2024  \n",
       "915114                0 NaN        0      9  2024  \n",
       "915115                0 NaN        0      9  2024  "
      ]
     },
     "execution_count": 12,
     "metadata": {},
     "output_type": "execute_result"
    }
   ],
   "source": [
    "all_dot3.tail()"
   ]
  },
  {
   "cell_type": "code",
   "execution_count": 13,
   "id": "fd76677f-2b9e-45d4-8434-57f9266d1073",
   "metadata": {},
   "outputs": [
    {
     "name": "stdout",
     "output_type": "stream",
     "text": [
      "<class 'pandas.core.frame.DataFrame'>\n",
      "RangeIndex: 915116 entries, 0 to 915115\n",
      "Data columns (total 12 columns):\n",
      " #   Column           Non-Null Count   Dtype  \n",
      "---  ------           --------------   -----  \n",
      " 0   TRDTYPE          915116 non-null  int64  \n",
      " 1   DEPE             915116 non-null  object \n",
      " 2   COMMODITY2       915116 non-null  int64  \n",
      " 3   DISAGMOT         915116 non-null  int64  \n",
      " 4   COUNTRY          915116 non-null  int64  \n",
      " 5   VALUE            915116 non-null  int64  \n",
      " 6   SHIPWT           915116 non-null  int64  \n",
      " 7   FREIGHT_CHARGES  915116 non-null  int64  \n",
      " 8   DF               546935 non-null  float64\n",
      " 9   CONTCODE         915116 non-null  object \n",
      " 10  MONTH            915116 non-null  int64  \n",
      " 11  YEAR             915116 non-null  int64  \n",
      "dtypes: float64(1), int64(9), object(2)\n",
      "memory usage: 83.8+ MB\n"
     ]
    }
   ],
   "source": [
    "all_dot3.info()"
   ]
  },
  {
   "cell_type": "code",
   "execution_count": 14,
   "id": "b4bf4468-0eb7-41c0-b284-dd0d53ab8589",
   "metadata": {},
   "outputs": [
    {
     "data": {
      "text/plain": [
       "TRDTYPE                 0\n",
       "DEPE                    0\n",
       "COMMODITY2              0\n",
       "DISAGMOT                0\n",
       "COUNTRY                 0\n",
       "VALUE                   0\n",
       "SHIPWT                  0\n",
       "FREIGHT_CHARGES         0\n",
       "DF                 368181\n",
       "CONTCODE                0\n",
       "MONTH                   0\n",
       "YEAR                    0\n",
       "dtype: int64"
      ]
     },
     "execution_count": 14,
     "metadata": {},
     "output_type": "execute_result"
    }
   ],
   "source": [
    "all_dot3.isnull().sum()"
   ]
  },
  {
   "cell_type": "code",
   "execution_count": 15,
   "id": "5d038787-d115-41f1-bc25-d4e1c5c1977b",
   "metadata": {},
   "outputs": [
    {
     "data": {
      "text/html": [
       "<div>\n",
       "<style scoped>\n",
       "    .dataframe tbody tr th:only-of-type {\n",
       "        vertical-align: middle;\n",
       "    }\n",
       "\n",
       "    .dataframe tbody tr th {\n",
       "        vertical-align: top;\n",
       "    }\n",
       "\n",
       "    .dataframe thead th {\n",
       "        text-align: right;\n",
       "    }\n",
       "</style>\n",
       "<table border=\"1\" class=\"dataframe\">\n",
       "  <thead>\n",
       "    <tr style=\"text-align: right;\">\n",
       "      <th></th>\n",
       "      <th>TRDTYPE</th>\n",
       "      <th>DISAGMOT</th>\n",
       "      <th>COUNTRY</th>\n",
       "      <th>VALUE</th>\n",
       "      <th>SHIPWT</th>\n",
       "      <th>FREIGHT_CHARGES</th>\n",
       "      <th>DF</th>\n",
       "      <th>MONTH</th>\n",
       "      <th>YEAR</th>\n",
       "    </tr>\n",
       "  </thead>\n",
       "  <tbody>\n",
       "    <tr>\n",
       "      <th>count</th>\n",
       "      <td>1.500485e+06</td>\n",
       "      <td>1.500485e+06</td>\n",
       "      <td>1.500485e+06</td>\n",
       "      <td>1.500485e+06</td>\n",
       "      <td>1.500485e+06</td>\n",
       "      <td>1.500485e+06</td>\n",
       "      <td>935285.000000</td>\n",
       "      <td>1.500485e+06</td>\n",
       "      <td>1.500485e+06</td>\n",
       "    </tr>\n",
       "    <tr>\n",
       "      <th>mean</th>\n",
       "      <td>1.376678e+00</td>\n",
       "      <td>4.840942e+00</td>\n",
       "      <td>1.510936e+03</td>\n",
       "      <td>4.294600e+06</td>\n",
       "      <td>1.748638e+06</td>\n",
       "      <td>5.613322e+04</td>\n",
       "      <td>1.329008</td>\n",
       "      <td>6.020867e+00</td>\n",
       "      <td>2.022048e+03</td>\n",
       "    </tr>\n",
       "    <tr>\n",
       "      <th>std</th>\n",
       "      <td>4.845533e-01</td>\n",
       "      <td>1.423634e+00</td>\n",
       "      <td>3.810457e+02</td>\n",
       "      <td>4.678569e+07</td>\n",
       "      <td>4.774420e+07</td>\n",
       "      <td>1.180991e+06</td>\n",
       "      <td>0.469853</td>\n",
       "      <td>3.257490e+00</td>\n",
       "      <td>1.326010e+00</td>\n",
       "    </tr>\n",
       "    <tr>\n",
       "      <th>min</th>\n",
       "      <td>1.000000e+00</td>\n",
       "      <td>1.000000e+00</td>\n",
       "      <td>1.220000e+03</td>\n",
       "      <td>0.000000e+00</td>\n",
       "      <td>0.000000e+00</td>\n",
       "      <td>0.000000e+00</td>\n",
       "      <td>1.000000</td>\n",
       "      <td>1.000000e+00</td>\n",
       "      <td>2.020000e+03</td>\n",
       "    </tr>\n",
       "    <tr>\n",
       "      <th>25%</th>\n",
       "      <td>1.000000e+00</td>\n",
       "      <td>5.000000e+00</td>\n",
       "      <td>1.220000e+03</td>\n",
       "      <td>1.985000e+04</td>\n",
       "      <td>0.000000e+00</td>\n",
       "      <td>0.000000e+00</td>\n",
       "      <td>1.000000</td>\n",
       "      <td>3.000000e+00</td>\n",
       "      <td>2.021000e+03</td>\n",
       "    </tr>\n",
       "    <tr>\n",
       "      <th>50%</th>\n",
       "      <td>1.000000e+00</td>\n",
       "      <td>5.000000e+00</td>\n",
       "      <td>1.220000e+03</td>\n",
       "      <td>1.033370e+05</td>\n",
       "      <td>3.000000e+00</td>\n",
       "      <td>3.820000e+02</td>\n",
       "      <td>1.000000</td>\n",
       "      <td>6.000000e+00</td>\n",
       "      <td>2.022000e+03</td>\n",
       "    </tr>\n",
       "    <tr>\n",
       "      <th>75%</th>\n",
       "      <td>2.000000e+00</td>\n",
       "      <td>5.000000e+00</td>\n",
       "      <td>2.010000e+03</td>\n",
       "      <td>6.668740e+05</td>\n",
       "      <td>9.575000e+03</td>\n",
       "      <td>3.784000e+03</td>\n",
       "      <td>2.000000</td>\n",
       "      <td>9.000000e+00</td>\n",
       "      <td>2.023000e+03</td>\n",
       "    </tr>\n",
       "    <tr>\n",
       "      <th>max</th>\n",
       "      <td>2.000000e+00</td>\n",
       "      <td>9.000000e+00</td>\n",
       "      <td>2.010000e+03</td>\n",
       "      <td>4.951806e+09</td>\n",
       "      <td>8.563936e+09</td>\n",
       "      <td>2.275531e+08</td>\n",
       "      <td>2.000000</td>\n",
       "      <td>1.200000e+01</td>\n",
       "      <td>2.024000e+03</td>\n",
       "    </tr>\n",
       "  </tbody>\n",
       "</table>\n",
       "</div>"
      ],
      "text/plain": [
       "            TRDTYPE      DISAGMOT       COUNTRY         VALUE        SHIPWT  \\\n",
       "count  1.500485e+06  1.500485e+06  1.500485e+06  1.500485e+06  1.500485e+06   \n",
       "mean   1.376678e+00  4.840942e+00  1.510936e+03  4.294600e+06  1.748638e+06   \n",
       "std    4.845533e-01  1.423634e+00  3.810457e+02  4.678569e+07  4.774420e+07   \n",
       "min    1.000000e+00  1.000000e+00  1.220000e+03  0.000000e+00  0.000000e+00   \n",
       "25%    1.000000e+00  5.000000e+00  1.220000e+03  1.985000e+04  0.000000e+00   \n",
       "50%    1.000000e+00  5.000000e+00  1.220000e+03  1.033370e+05  3.000000e+00   \n",
       "75%    2.000000e+00  5.000000e+00  2.010000e+03  6.668740e+05  9.575000e+03   \n",
       "max    2.000000e+00  9.000000e+00  2.010000e+03  4.951806e+09  8.563936e+09   \n",
       "\n",
       "       FREIGHT_CHARGES             DF         MONTH          YEAR  \n",
       "count     1.500485e+06  935285.000000  1.500485e+06  1.500485e+06  \n",
       "mean      5.613322e+04       1.329008  6.020867e+00  2.022048e+03  \n",
       "std       1.180991e+06       0.469853  3.257490e+00  1.326010e+00  \n",
       "min       0.000000e+00       1.000000  1.000000e+00  2.020000e+03  \n",
       "25%       0.000000e+00       1.000000  3.000000e+00  2.021000e+03  \n",
       "50%       3.820000e+02       1.000000  6.000000e+00  2.022000e+03  \n",
       "75%       3.784000e+03       2.000000  9.000000e+00  2.023000e+03  \n",
       "max       2.275531e+08       2.000000  1.200000e+01  2.024000e+03  "
      ]
     },
     "execution_count": 15,
     "metadata": {},
     "output_type": "execute_result"
    }
   ],
   "source": [
    "all_dot1.describe()"
   ]
  },
  {
   "cell_type": "code",
   "execution_count": 18,
   "id": "cafaefdf-c91f-48ae-b6b5-385da69c28cf",
   "metadata": {},
   "outputs": [
    {
     "data": {
      "text/plain": [
       "<bound method DataFrame.corr of          TRDTYPE USASTATE  DEPE  DISAGMOT MEXSTATE CANPROV  COUNTRY    VALUE  \\\n",
       "0              1       AK  0115         5      NaN      XB     1220     4660   \n",
       "1              1       AK  0901         5      NaN      XO     1220    14360   \n",
       "2              1       AK  20XX         1       XX     NaN     2010  4293733   \n",
       "3              1       AK  20XX         3      NaN      XA     1220    28283   \n",
       "4              1       AK  20XX         3      NaN      XA     1220    29848   \n",
       "...          ...      ...   ...       ...      ...     ...      ...      ...   \n",
       "1500480        2       WY  4101         3      NaN      XC     1220     8869   \n",
       "1500481        2       WY  4101         3      NaN      XN     1220    10853   \n",
       "1500482        2       WY  4101         3      NaN      XO     1220    59348   \n",
       "1500483        2       WY  4101         3      NaN      XQ     1220    12689   \n",
       "1500484        2       WY  41XX         3      NaN     NaN     2010    11931   \n",
       "\n",
       "           SHIPWT  FREIGHT_CHARGES   DF CONTCODE  MONTH  YEAR  \n",
       "0               0               67  2.0        X      4  2020  \n",
       "1               0              282  1.0        X      4  2020  \n",
       "2        24971000                0  1.0        0      4  2020  \n",
       "3             443              563  1.0        X      4  2020  \n",
       "4              69              538  2.0        X      4  2020  \n",
       "...           ...              ...  ...      ...    ...   ...  \n",
       "1500480        63              290  NaN        0      9  2024  \n",
       "1500481        29               72  NaN        0      9  2024  \n",
       "1500482       307              858  NaN        0      9  2024  \n",
       "1500483        53              382  NaN        0      9  2024  \n",
       "1500484        38              136  NaN        0      9  2024  \n",
       "\n",
       "[1500485 rows x 14 columns]>"
      ]
     },
     "execution_count": 18,
     "metadata": {},
     "output_type": "execute_result"
    }
   ],
   "source": [
    "all_dot1.corr"
   ]
  },
  {
   "cell_type": "code",
   "execution_count": 27,
   "id": "0d4fc8d2-9d25-49ee-b33f-5ca893211e78",
   "metadata": {},
   "outputs": [
    {
     "data": {
      "application/javascript": [
       "\n",
       "        if (window._pyforest_update_imports_cell) { window._pyforest_update_imports_cell('import seaborn as sns\\nimport pandas as pd\\nimport matplotlib.pyplot as plt'); }\n",
       "    "
      ],
      "text/plain": [
       "<IPython.core.display.Javascript object>"
      ]
     },
     "metadata": {},
     "output_type": "display_data"
    },
    {
     "data": {
      "application/javascript": [
       "\n",
       "        if (window._pyforest_update_imports_cell) { window._pyforest_update_imports_cell('import seaborn as sns\\nimport pandas as pd\\nimport matplotlib.pyplot as plt'); }\n",
       "    "
      ],
      "text/plain": [
       "<IPython.core.display.Javascript object>"
      ]
     },
     "metadata": {},
     "output_type": "display_data"
    },
    {
     "data": {
      "application/javascript": [
       "\n",
       "        if (window._pyforest_update_imports_cell) { window._pyforest_update_imports_cell('import seaborn as sns\\nimport pandas as pd\\nimport matplotlib.pyplot as plt'); }\n",
       "    "
      ],
      "text/plain": [
       "<IPython.core.display.Javascript object>"
      ]
     },
     "metadata": {},
     "output_type": "display_data"
    },
    {
     "data": {
      "application/javascript": [
       "\n",
       "        if (window._pyforest_update_imports_cell) { window._pyforest_update_imports_cell('import seaborn as sns\\nimport pandas as pd\\nimport matplotlib.pyplot as plt'); }\n",
       "    "
      ],
      "text/plain": [
       "<IPython.core.display.Javascript object>"
      ]
     },
     "metadata": {},
     "output_type": "display_data"
    },
    {
     "data": {
      "image/png": "[encoded data removed]",
      "text/plain": [
       "<Figure size 1000x600 with 2 Axes>"
      ]
     },
     "metadata": {},
     "output_type": "display_data"
    }
   ],
   "source": [
    "numeric_data = all_dot1.select_dtypes(include=['number'])\n",
    "\n",
    "# Compute the correlation matrix\n",
    "correlation_matrix = numeric_data.corr()\n",
    "\n",
    "# Plot the heatmap\n",
    "plt.figure(figsize=(10, 6))\n",
    "sns.heatmap(correlation_matrix, annot=True, cmap='coolwarm', fmt=\".2f\", linewidths=0.5)\n",
    "plt.title(\"Correlation Matrix of dot1 Numerical Columns\")\n",
    "plt.show()"
   ]
  },
  {
   "cell_type": "code",
   "execution_count": 28,
   "id": "53259c16-6f12-40d5-b961-d0bbd5bc2b37",
   "metadata": {},
   "outputs": [
    {
     "data": {
      "application/javascript": [
       "\n",
       "        if (window._pyforest_update_imports_cell) { window._pyforest_update_imports_cell('import seaborn as sns\\nimport pandas as pd\\nimport matplotlib.pyplot as plt'); }\n",
       "    "
      ],
      "text/plain": [
       "<IPython.core.display.Javascript object>"
      ]
     },
     "metadata": {},
     "output_type": "display_data"
    },
    {
     "data": {
      "application/javascript": [
       "\n",
       "        if (window._pyforest_update_imports_cell) { window._pyforest_update_imports_cell('import seaborn as sns\\nimport pandas as pd\\nimport matplotlib.pyplot as plt'); }\n",
       "    "
      ],
      "text/plain": [
       "<IPython.core.display.Javascript object>"
      ]
     },
     "metadata": {},
     "output_type": "display_data"
    },
    {
     "data": {
      "application/javascript": [
       "\n",
       "        if (window._pyforest_update_imports_cell) { window._pyforest_update_imports_cell('import seaborn as sns\\nimport pandas as pd\\nimport matplotlib.pyplot as plt'); }\n",
       "    "
      ],
      "text/plain": [
       "<IPython.core.display.Javascript object>"
      ]
     },
     "metadata": {},
     "output_type": "display_data"
    },
    {
     "data": {
      "application/javascript": [
       "\n",
       "        if (window._pyforest_update_imports_cell) { window._pyforest_update_imports_cell('import seaborn as sns\\nimport pandas as pd\\nimport matplotlib.pyplot as plt'); }\n",
       "    "
      ],
      "text/plain": [
       "<IPython.core.display.Javascript object>"
      ]
     },
     "metadata": {},
     "output_type": "display_data"
    },
    {
     "data": {
      "image/png": "[encoded data removed]",
      "text/plain": [
       "<Figure size 1000x600 with 2 Axes>"
      ]
     },
     "metadata": {},
     "output_type": "display_data"
    }
   ],
   "source": [
    "numeric_data = all_dot2.select_dtypes(include=['number'])\n",
    "\n",
    "# Compute the correlation matrix\n",
    "correlation_matrix = numeric_data.corr()\n",
    "\n",
    "# Plot the heatmap\n",
    "plt.figure(figsize=(10, 6))\n",
    "sns.heatmap(correlation_matrix, annot=True, cmap='coolwarm', fmt=\".2f\", linewidths=0.5)\n",
    "plt.title(\"Correlation Matrix of dot2 Numerical Columns\")\n",
    "plt.show()"
   ]
  },
  {
   "cell_type": "code",
   "execution_count": 29,
   "id": "49d7ebfa-920c-4557-8a43-6628554ac519",
   "metadata": {},
   "outputs": [
    {
     "data": {
      "application/javascript": [
       "\n",
       "        if (window._pyforest_update_imports_cell) { window._pyforest_update_imports_cell('import seaborn as sns\\nimport pandas as pd\\nimport matplotlib.pyplot as plt'); }\n",
       "    "
      ],
      "text/plain": [
       "<IPython.core.display.Javascript object>"
      ]
     },
     "metadata": {},
     "output_type": "display_data"
    },
    {
     "data": {
      "application/javascript": [
       "\n",
       "        if (window._pyforest_update_imports_cell) { window._pyforest_update_imports_cell('import seaborn as sns\\nimport pandas as pd\\nimport matplotlib.pyplot as plt'); }\n",
       "    "
      ],
      "text/plain": [
       "<IPython.core.display.Javascript object>"
      ]
     },
     "metadata": {},
     "output_type": "display_data"
    },
    {
     "data": {
      "application/javascript": [
       "\n",
       "        if (window._pyforest_update_imports_cell) { window._pyforest_update_imports_cell('import seaborn as sns\\nimport pandas as pd\\nimport matplotlib.pyplot as plt'); }\n",
       "    "
      ],
      "text/plain": [
       "<IPython.core.display.Javascript object>"
      ]
     },
     "metadata": {},
     "output_type": "display_data"
    },
    {
     "data": {
      "application/javascript": [
       "\n",
       "        if (window._pyforest_update_imports_cell) { window._pyforest_update_imports_cell('import seaborn as sns\\nimport pandas as pd\\nimport matplotlib.pyplot as plt'); }\n",
       "    "
      ],
      "text/plain": [
       "<IPython.core.display.Javascript object>"
      ]
     },
     "metadata": {},
     "output_type": "display_data"
    },
    {
     "data": {
      "image/png": "[encoded data removed]",
      "text/plain": [
       "<Figure size 1000x600 with 2 Axes>"
      ]
     },
     "metadata": {},
     "output_type": "display_data"
    }
   ],
   "source": [
    "numeric_data = all_dot3.select_dtypes(include=['number'])\n",
    "\n",
    "# Compute the correlation matrix\n",
    "correlation_matrix = numeric_data.corr()\n",
    "\n",
    "# Plot the heatmap\n",
    "plt.figure(figsize=(10, 6))\n",
    "sns.heatmap(correlation_matrix, annot=True, cmap='coolwarm', fmt=\".2f\", linewidths=0.5)\n",
    "plt.title(\"Correlation Matrix of dot3 Numerical Columns\")\n",
    "plt.show()"
   ]
  },
  {
   "cell_type": "code",
   "execution_count": 26,
   "id": "d63e6809-8fc3-46e2-984f-b93782a339c0",
   "metadata": {},
   "outputs": [
    {
     "data": {
      "text/plain": [
       "<Axes: >"
      ]
     },
     "execution_count": 26,
     "metadata": {},
     "output_type": "execute_result"
    },
    {
     "data": {
      "image/png": "[encoded data removed]",
      "text/plain": [
       "<Figure size 640x480 with 1 Axes>"
      ]
     },
     "metadata": {},
     "output_type": "display_data"
    }
   ],
   "source": [
    "all_dot3['COMMODITY2'].hist()"
   ]
  },
  {
   "cell_type": "code",
   "execution_count": 33,
   "id": "67cc8024-9173-4070-afb2-f6752cc17498",
   "metadata": {},
   "outputs": [
    {
     "data": {
      "text/plain": [
       "<Axes: >"
      ]
     },
     "execution_count": 33,
     "metadata": {},
     "output_type": "execute_result"
    },
    {
     "data": {
      "image/png": "[encoded data removed]",
      "text/plain": [
       "<Figure size 640x480 with 1 Axes>"
      ]
     },
     "metadata": {},
     "output_type": "display_data"
    }
   ],
   "source": [
    "all_dot1['DISAGMOT'].hist()"
   ]
  },
  {
   "cell_type": "markdown",
   "id": "2ab3b5ec-536a-4dee-a781-cf1d587a6ee6",
   "metadata": {},
   "source": [
    "### Join all the three datasets together"
   ]
  },
  {
   "cell_type": "code",
   "execution_count": 34,
   "id": "9553b903-191d-41d8-9a7c-0d222d529864",
   "metadata": {},
   "outputs": [
    {
     "data": {
      "application/javascript": [
       "\n",
       "        if (window._pyforest_update_imports_cell) { window._pyforest_update_imports_cell('import seaborn as sns\\nimport pandas as pd\\nimport matplotlib.pyplot as plt'); }\n",
       "    "
      ],
      "text/plain": [
       "<IPython.core.display.Javascript object>"
      ]
     },
     "metadata": {},
     "output_type": "display_data"
    }
   ],
   "source": [
    "final_data = pd.concat([all_dot1, all_dot2, all_dot3], ignore_index = True)"
   ]
  },
  {
   "cell_type": "code",
   "execution_count": 35,
   "id": "d293135b-4cec-4d9f-b084-c0cb318cef91",
   "metadata": {},
   "outputs": [
    {
     "data": {
      "text/plain": [
       "(6517225, 15)"
      ]
     },
     "execution_count": 35,
     "metadata": {},
     "output_type": "execute_result"
    }
   ],
   "source": [
    "final_data.shape"
   ]
  },
  {
   "cell_type": "code",
   "execution_count": 36,
   "id": "92d74aa5-4974-4379-814c-92aef635c3a6",
   "metadata": {},
   "outputs": [
    {
     "data": {
      "text/html": [
       "<div>\n",
       "<style scoped>\n",
       "    .dataframe tbody tr th:only-of-type {\n",
       "        vertical-align: middle;\n",
       "    }\n",
       "\n",
       "    .dataframe tbody tr th {\n",
       "        vertical-align: top;\n",
       "    }\n",
       "\n",
       "    .dataframe thead th {\n",
       "        text-align: right;\n",
       "    }\n",
       "</style>\n",
       "<table border=\"1\" class=\"dataframe\">\n",
       "  <thead>\n",
       "    <tr style=\"text-align: right;\">\n",
       "      <th></th>\n",
       "      <th>TRDTYPE</th>\n",
       "      <th>USASTATE</th>\n",
       "      <th>DEPE</th>\n",
       "      <th>DISAGMOT</th>\n",
       "      <th>MEXSTATE</th>\n",
       "      <th>CANPROV</th>\n",
       "      <th>COUNTRY</th>\n",
       "      <th>VALUE</th>\n",
       "      <th>SHIPWT</th>\n",
       "      <th>FREIGHT_CHARGES</th>\n",
       "      <th>DF</th>\n",
       "      <th>CONTCODE</th>\n",
       "      <th>MONTH</th>\n",
       "      <th>YEAR</th>\n",
       "      <th>COMMODITY2</th>\n",
       "    </tr>\n",
       "  </thead>\n",
       "  <tbody>\n",
       "    <tr>\n",
       "      <th>0</th>\n",
       "      <td>1</td>\n",
       "      <td>AK</td>\n",
       "      <td>0115</td>\n",
       "      <td>5</td>\n",
       "      <td>NaN</td>\n",
       "      <td>XB</td>\n",
       "      <td>1220</td>\n",
       "      <td>4660</td>\n",
       "      <td>0</td>\n",
       "      <td>67</td>\n",
       "      <td>2.0</td>\n",
       "      <td>X</td>\n",
       "      <td>4</td>\n",
       "      <td>2020</td>\n",
       "      <td>NaN</td>\n",
       "    </tr>\n",
       "    <tr>\n",
       "      <th>1</th>\n",
       "      <td>1</td>\n",
       "      <td>AK</td>\n",
       "      <td>0901</td>\n",
       "      <td>5</td>\n",
       "      <td>NaN</td>\n",
       "      <td>XO</td>\n",
       "      <td>1220</td>\n",
       "      <td>14360</td>\n",
       "      <td>0</td>\n",
       "      <td>282</td>\n",
       "      <td>1.0</td>\n",
       "      <td>X</td>\n",
       "      <td>4</td>\n",
       "      <td>2020</td>\n",
       "      <td>NaN</td>\n",
       "    </tr>\n",
       "    <tr>\n",
       "      <th>2</th>\n",
       "      <td>1</td>\n",
       "      <td>AK</td>\n",
       "      <td>20XX</td>\n",
       "      <td>1</td>\n",
       "      <td>XX</td>\n",
       "      <td>NaN</td>\n",
       "      <td>2010</td>\n",
       "      <td>4293733</td>\n",
       "      <td>24971000</td>\n",
       "      <td>0</td>\n",
       "      <td>1.0</td>\n",
       "      <td>0</td>\n",
       "      <td>4</td>\n",
       "      <td>2020</td>\n",
       "      <td>NaN</td>\n",
       "    </tr>\n",
       "    <tr>\n",
       "      <th>3</th>\n",
       "      <td>1</td>\n",
       "      <td>AK</td>\n",
       "      <td>20XX</td>\n",
       "      <td>3</td>\n",
       "      <td>NaN</td>\n",
       "      <td>XA</td>\n",
       "      <td>1220</td>\n",
       "      <td>28283</td>\n",
       "      <td>443</td>\n",
       "      <td>563</td>\n",
       "      <td>1.0</td>\n",
       "      <td>X</td>\n",
       "      <td>4</td>\n",
       "      <td>2020</td>\n",
       "      <td>NaN</td>\n",
       "    </tr>\n",
       "    <tr>\n",
       "      <th>4</th>\n",
       "      <td>1</td>\n",
       "      <td>AK</td>\n",
       "      <td>20XX</td>\n",
       "      <td>3</td>\n",
       "      <td>NaN</td>\n",
       "      <td>XA</td>\n",
       "      <td>1220</td>\n",
       "      <td>29848</td>\n",
       "      <td>69</td>\n",
       "      <td>538</td>\n",
       "      <td>2.0</td>\n",
       "      <td>X</td>\n",
       "      <td>4</td>\n",
       "      <td>2020</td>\n",
       "      <td>NaN</td>\n",
       "    </tr>\n",
       "  </tbody>\n",
       "</table>\n",
       "</div>"
      ],
      "text/plain": [
       "   TRDTYPE USASTATE  DEPE  DISAGMOT MEXSTATE CANPROV  COUNTRY    VALUE  \\\n",
       "0        1       AK  0115         5      NaN      XB     1220     4660   \n",
       "1        1       AK  0901         5      NaN      XO     1220    14360   \n",
       "2        1       AK  20XX         1       XX     NaN     2010  4293733   \n",
       "3        1       AK  20XX         3      NaN      XA     1220    28283   \n",
       "4        1       AK  20XX         3      NaN      XA     1220    29848   \n",
       "\n",
       "     SHIPWT  FREIGHT_CHARGES   DF CONTCODE  MONTH  YEAR  COMMODITY2  \n",
       "0         0               67  2.0        X      4  2020         NaN  \n",
       "1         0              282  1.0        X      4  2020         NaN  \n",
       "2  24971000                0  1.0        0      4  2020         NaN  \n",
       "3       443              563  1.0        X      4  2020         NaN  \n",
       "4        69              538  2.0        X      4  2020         NaN  "
      ]
     },
     "execution_count": 36,
     "metadata": {},
     "output_type": "execute_result"
    }
   ],
   "source": [
    "final_data.head()"
   ]
  },
  {
   "cell_type": "code",
   "execution_count": 37,
   "id": "ca789780-0883-4da1-8ccd-0dbc8f49c64c",
   "metadata": {},
   "outputs": [
    {
     "data": {
      "text/html": [
       "<div>\n",
       "<style scoped>\n",
       "    .dataframe tbody tr th:only-of-type {\n",
       "        vertical-align: middle;\n",
       "    }\n",
       "\n",
       "    .dataframe tbody tr th {\n",
       "        vertical-align: top;\n",
       "    }\n",
       "\n",
       "    .dataframe thead th {\n",
       "        text-align: right;\n",
       "    }\n",
       "</style>\n",
       "<table border=\"1\" class=\"dataframe\">\n",
       "  <thead>\n",
       "    <tr style=\"text-align: right;\">\n",
       "      <th></th>\n",
       "      <th>TRDTYPE</th>\n",
       "      <th>USASTATE</th>\n",
       "      <th>DEPE</th>\n",
       "      <th>DISAGMOT</th>\n",
       "      <th>MEXSTATE</th>\n",
       "      <th>CANPROV</th>\n",
       "      <th>COUNTRY</th>\n",
       "      <th>VALUE</th>\n",
       "      <th>SHIPWT</th>\n",
       "      <th>FREIGHT_CHARGES</th>\n",
       "      <th>DF</th>\n",
       "      <th>CONTCODE</th>\n",
       "      <th>MONTH</th>\n",
       "      <th>YEAR</th>\n",
       "      <th>COMMODITY2</th>\n",
       "    </tr>\n",
       "  </thead>\n",
       "  <tbody>\n",
       "    <tr>\n",
       "      <th>6517220</th>\n",
       "      <td>2</td>\n",
       "      <td>NaN</td>\n",
       "      <td>55XX</td>\n",
       "      <td>5</td>\n",
       "      <td>NaN</td>\n",
       "      <td>NaN</td>\n",
       "      <td>1220</td>\n",
       "      <td>4384342</td>\n",
       "      <td>7399</td>\n",
       "      <td>1883</td>\n",
       "      <td>NaN</td>\n",
       "      <td>0</td>\n",
       "      <td>9</td>\n",
       "      <td>2024</td>\n",
       "      <td>98.0</td>\n",
       "    </tr>\n",
       "    <tr>\n",
       "      <th>6517221</th>\n",
       "      <td>2</td>\n",
       "      <td>NaN</td>\n",
       "      <td>55XX</td>\n",
       "      <td>8</td>\n",
       "      <td>NaN</td>\n",
       "      <td>NaN</td>\n",
       "      <td>1220</td>\n",
       "      <td>50211</td>\n",
       "      <td>6350</td>\n",
       "      <td>3500</td>\n",
       "      <td>NaN</td>\n",
       "      <td>0</td>\n",
       "      <td>9</td>\n",
       "      <td>2024</td>\n",
       "      <td>98.0</td>\n",
       "    </tr>\n",
       "    <tr>\n",
       "      <th>6517222</th>\n",
       "      <td>2</td>\n",
       "      <td>NaN</td>\n",
       "      <td>60XX</td>\n",
       "      <td>8</td>\n",
       "      <td>NaN</td>\n",
       "      <td>NaN</td>\n",
       "      <td>1220</td>\n",
       "      <td>793390</td>\n",
       "      <td>80</td>\n",
       "      <td>500</td>\n",
       "      <td>NaN</td>\n",
       "      <td>0</td>\n",
       "      <td>9</td>\n",
       "      <td>2024</td>\n",
       "      <td>89.0</td>\n",
       "    </tr>\n",
       "    <tr>\n",
       "      <th>6517223</th>\n",
       "      <td>2</td>\n",
       "      <td>NaN</td>\n",
       "      <td>70XX</td>\n",
       "      <td>8</td>\n",
       "      <td>NaN</td>\n",
       "      <td>NaN</td>\n",
       "      <td>1220</td>\n",
       "      <td>233990301</td>\n",
       "      <td>0</td>\n",
       "      <td>0</td>\n",
       "      <td>NaN</td>\n",
       "      <td>0</td>\n",
       "      <td>9</td>\n",
       "      <td>2024</td>\n",
       "      <td>99.0</td>\n",
       "    </tr>\n",
       "    <tr>\n",
       "      <th>6517224</th>\n",
       "      <td>2</td>\n",
       "      <td>NaN</td>\n",
       "      <td>70XX</td>\n",
       "      <td>8</td>\n",
       "      <td>NaN</td>\n",
       "      <td>NaN</td>\n",
       "      <td>2010</td>\n",
       "      <td>224981722</td>\n",
       "      <td>0</td>\n",
       "      <td>0</td>\n",
       "      <td>NaN</td>\n",
       "      <td>0</td>\n",
       "      <td>9</td>\n",
       "      <td>2024</td>\n",
       "      <td>99.0</td>\n",
       "    </tr>\n",
       "  </tbody>\n",
       "</table>\n",
       "</div>"
      ],
      "text/plain": [
       "         TRDTYPE USASTATE  DEPE  DISAGMOT MEXSTATE CANPROV  COUNTRY  \\\n",
       "6517220        2      NaN  55XX         5      NaN     NaN     1220   \n",
       "6517221        2      NaN  55XX         8      NaN     NaN     1220   \n",
       "6517222        2      NaN  60XX         8      NaN     NaN     1220   \n",
       "6517223        2      NaN  70XX         8      NaN     NaN     1220   \n",
       "6517224        2      NaN  70XX         8      NaN     NaN     2010   \n",
       "\n",
       "             VALUE  SHIPWT  FREIGHT_CHARGES  DF CONTCODE  MONTH  YEAR  \\\n",
       "6517220    4384342    7399             1883 NaN        0      9  2024   \n",
       "6517221      50211    6350             3500 NaN        0      9  2024   \n",
       "6517222     793390      80              500 NaN        0      9  2024   \n",
       "6517223  233990301       0                0 NaN        0      9  2024   \n",
       "6517224  224981722       0                0 NaN        0      9  2024   \n",
       "\n",
       "         COMMODITY2  \n",
       "6517220        98.0  \n",
       "6517221        98.0  \n",
       "6517222        89.0  \n",
       "6517223        99.0  \n",
       "6517224        99.0  "
      ]
     },
     "execution_count": 37,
     "metadata": {},
     "output_type": "execute_result"
    }
   ],
   "source": [
    "final_data.tail()"
   ]
  },
  {
   "cell_type": "code",
   "execution_count": 38,
   "id": "7422becd-787d-412d-82f0-9e1f890b2342",
   "metadata": {},
   "outputs": [
    {
     "name": "stdout",
     "output_type": "stream",
     "text": [
      "<class 'pandas.core.frame.DataFrame'>\n",
      "RangeIndex: 6517225 entries, 0 to 6517224\n",
      "Data columns (total 15 columns):\n",
      " #   Column           Dtype  \n",
      "---  ------           -----  \n",
      " 0   TRDTYPE          int64  \n",
      " 1   USASTATE         object \n",
      " 2   DEPE             object \n",
      " 3   DISAGMOT         int64  \n",
      " 4   MEXSTATE         object \n",
      " 5   CANPROV          object \n",
      " 6   COUNTRY          int64  \n",
      " 7   VALUE            int64  \n",
      " 8   SHIPWT           int64  \n",
      " 9   FREIGHT_CHARGES  int64  \n",
      " 10  DF               float64\n",
      " 11  CONTCODE         object \n",
      " 12  MONTH            int64  \n",
      " 13  YEAR             int64  \n",
      " 14  COMMODITY2       float64\n",
      "dtypes: float64(2), int64(8), object(5)\n",
      "memory usage: 745.8+ MB\n"
     ]
    }
   ],
   "source": [
    "final_data.info()"
   ]
  },
  {
   "cell_type": "code",
   "execution_count": 39,
   "id": "35b7daf0-0535-4e7e-a97a-0c3e76d21d4a",
   "metadata": {},
   "outputs": [
    {
     "data": {
      "text/plain": [
       "TRDTYPE                  0\n",
       "USASTATE            915116\n",
       "DEPE               4101624\n",
       "DISAGMOT                 0\n",
       "MEXSTATE           4677264\n",
       "CANPROV            3119497\n",
       "COUNTRY                  0\n",
       "VALUE                    0\n",
       "SHIPWT                   0\n",
       "FREIGHT_CHARGES          0\n",
       "DF                 2184568\n",
       "CONTCODE                 0\n",
       "MONTH                    0\n",
       "YEAR                     0\n",
       "COMMODITY2         1500485\n",
       "dtype: int64"
      ]
     },
     "execution_count": 39,
     "metadata": {},
     "output_type": "execute_result"
    }
   ],
   "source": [
    "final_data.isnull().sum()"
   ]
  },
  {
   "cell_type": "code",
   "execution_count": 40,
   "id": "a7a6fd76-b704-4981-95a5-961a8918fde0",
   "metadata": {},
   "outputs": [
    {
     "data": {
      "text/plain": [
       "TRDTYPE                  2\n",
       "USASTATE                52\n",
       "DEPE                   246\n",
       "DISAGMOT                 8\n",
       "MEXSTATE                33\n",
       "CANPROV                 14\n",
       "COUNTRY                  2\n",
       "VALUE              1708714\n",
       "SHIPWT              678248\n",
       "FREIGHT_CHARGES     276010\n",
       "DF                       2\n",
       "CONTCODE                 5\n",
       "MONTH                   12\n",
       "YEAR                     5\n",
       "COMMODITY2              98\n",
       "dtype: int64"
      ]
     },
     "execution_count": 40,
     "metadata": {},
     "output_type": "execute_result"
    }
   ],
   "source": [
    "final_data.nunique()"
   ]
  },
  {
   "cell_type": "code",
   "execution_count": 41,
   "id": "1b0dd533-f6d9-4041-abfc-e5e5efa868cb",
   "metadata": {},
   "outputs": [
    {
     "data": {
      "text/plain": [
       "array([1, 2])"
      ]
     },
     "execution_count": 41,
     "metadata": {},
     "output_type": "execute_result"
    }
   ],
   "source": [
    "final_data['TRDTYPE'].unique()"
   ]
  },
  {
   "cell_type": "code",
   "execution_count": 43,
   "id": "9a842681-6f87-4292-a894-033fa219fa01",
   "metadata": {},
   "outputs": [
    {
     "data": {
      "text/plain": [
       "array([5, 1, 3, 6, 8, 7, 4, 9])"
      ]
     },
     "execution_count": 43,
     "metadata": {},
     "output_type": "execute_result"
    }
   ],
   "source": [
    "final_data['DISAGMOT'].unique()"
   ]
  },
  {
   "cell_type": "code",
   "execution_count": 44,
   "id": "c16cadf2-58a0-4f22-b401-0c595128c3a2",
   "metadata": {},
   "outputs": [
    {
     "data": {
      "text/plain": [
       "array([1220, 2010])"
      ]
     },
     "execution_count": 44,
     "metadata": {},
     "output_type": "execute_result"
    }
   ],
   "source": [
    "final_data['COUNTRY'].unique()"
   ]
  },
  {
   "cell_type": "code",
   "execution_count": 45,
   "id": "c2f1fc37-4c42-45cd-a68e-201e3277303e",
   "metadata": {},
   "outputs": [
    {
     "data": {
      "text/plain": [
       "array([ 2.,  1., nan])"
      ]
     },
     "execution_count": 45,
     "metadata": {},
     "output_type": "execute_result"
    }
   ],
   "source": [
    "final_data['DF'].unique()"
   ]
  },
  {
   "cell_type": "code",
   "execution_count": 46,
   "id": "e6128599-6996-429d-85c9-b3c4cb61ed85",
   "metadata": {},
   "outputs": [
    {
     "data": {
      "text/plain": [
       "array([ 4,  8,  2,  1,  7,  6,  3,  5,  9, 12, 11, 10])"
      ]
     },
     "execution_count": 46,
     "metadata": {},
     "output_type": "execute_result"
    }
   ],
   "source": [
    "final_data['MONTH'].unique()"
   ]
  },
  {
   "cell_type": "code",
   "execution_count": 47,
   "id": "7ab7f719-a730-4ed1-9137-fff498b8f94b",
   "metadata": {},
   "outputs": [
    {
     "data": {
      "text/plain": [
       "array(['X', '0', '1', 0, 1], dtype=object)"
      ]
     },
     "execution_count": 47,
     "metadata": {},
     "output_type": "execute_result"
    }
   ],
   "source": [
    "final_data['CONTCODE'].unique()"
   ]
  },
  {
   "cell_type": "markdown",
   "id": "5aa71941-0529-4020-9f6f-06217b5f4c10",
   "metadata": {},
   "source": [
    "### Data Mapping"
   ]
  },
  {
   "cell_type": "code",
   "execution_count": 48,
   "id": "de41e649-fa0a-477a-bd93-88bcfed77db9",
   "metadata": {},
   "outputs": [],
   "source": [
    "final_data['TRDTYPE'] = final_data['TRDTYPE'].map({1: 'Export', 2: 'Import'})\n",
    "final_data['DISAGMOT'] = final_data['DISAGMOT'].map({1: 'Vessel', 3: 'Air', 4: 'Mail (U.S. Postal Service)', 5: 'Truck',\n",
    "                                                     6: 'Rail', 7: 'Pipeline', 8: 'Other', 9: 'Foreign Trade Zones (FTZs)'})\n",
    "final_data['COUNTRY'] = final_data['COUNTRY'].map({1220: 'Canada', 2010: 'Mexico'})\n",
    "final_data['DF'] = final_data['DF'].map({1.: 'domestically produced merchandise', 2.: 'foreign produced merchandise'})\n",
    "final_data['MONTH'] = final_data['MONTH'].map({1: 'January', 2: 'February', 3: 'March', 4: 'April', 5: 'May', 6: 'June',\n",
    "                                               7: 'July', 8: 'August', 9: 'September', 10: 'October', 11: 'November', 12: 'December'})"
   ]
  },
  {
   "cell_type": "code",
   "execution_count": 49,
   "id": "a03148fe-8630-4042-b901-53342bb15d50",
   "metadata": {},
   "outputs": [
    {
     "data": {
      "text/html": [
       "<div>\n",
       "<style scoped>\n",
       "    .dataframe tbody tr th:only-of-type {\n",
       "        vertical-align: middle;\n",
       "    }\n",
       "\n",
       "    .dataframe tbody tr th {\n",
       "        vertical-align: top;\n",
       "    }\n",
       "\n",
       "    .dataframe thead th {\n",
       "        text-align: right;\n",
       "    }\n",
       "</style>\n",
       "<table border=\"1\" class=\"dataframe\">\n",
       "  <thead>\n",
       "    <tr style=\"text-align: right;\">\n",
       "      <th></th>\n",
       "      <th>TRDTYPE</th>\n",
       "      <th>USASTATE</th>\n",
       "      <th>DEPE</th>\n",
       "      <th>DISAGMOT</th>\n",
       "      <th>MEXSTATE</th>\n",
       "      <th>CANPROV</th>\n",
       "      <th>COUNTRY</th>\n",
       "      <th>VALUE</th>\n",
       "      <th>SHIPWT</th>\n",
       "      <th>FREIGHT_CHARGES</th>\n",
       "      <th>DF</th>\n",
       "      <th>CONTCODE</th>\n",
       "      <th>MONTH</th>\n",
       "      <th>YEAR</th>\n",
       "      <th>COMMODITY2</th>\n",
       "    </tr>\n",
       "  </thead>\n",
       "  <tbody>\n",
       "    <tr>\n",
       "      <th>0</th>\n",
       "      <td>Export</td>\n",
       "      <td>AK</td>\n",
       "      <td>0115</td>\n",
       "      <td>Truck</td>\n",
       "      <td>NaN</td>\n",
       "      <td>XB</td>\n",
       "      <td>Canada</td>\n",
       "      <td>4660</td>\n",
       "      <td>0</td>\n",
       "      <td>67</td>\n",
       "      <td>foreign produced merchandise</td>\n",
       "      <td>X</td>\n",
       "      <td>April</td>\n",
       "      <td>2020</td>\n",
       "      <td>NaN</td>\n",
       "    </tr>\n",
       "    <tr>\n",
       "      <th>1</th>\n",
       "      <td>Export</td>\n",
       "      <td>AK</td>\n",
       "      <td>0901</td>\n",
       "      <td>Truck</td>\n",
       "      <td>NaN</td>\n",
       "      <td>XO</td>\n",
       "      <td>Canada</td>\n",
       "      <td>14360</td>\n",
       "      <td>0</td>\n",
       "      <td>282</td>\n",
       "      <td>domestically produced merchandise</td>\n",
       "      <td>X</td>\n",
       "      <td>April</td>\n",
       "      <td>2020</td>\n",
       "      <td>NaN</td>\n",
       "    </tr>\n",
       "    <tr>\n",
       "      <th>2</th>\n",
       "      <td>Export</td>\n",
       "      <td>AK</td>\n",
       "      <td>20XX</td>\n",
       "      <td>Vessel</td>\n",
       "      <td>XX</td>\n",
       "      <td>NaN</td>\n",
       "      <td>Mexico</td>\n",
       "      <td>4293733</td>\n",
       "      <td>24971000</td>\n",
       "      <td>0</td>\n",
       "      <td>domestically produced merchandise</td>\n",
       "      <td>0</td>\n",
       "      <td>April</td>\n",
       "      <td>2020</td>\n",
       "      <td>NaN</td>\n",
       "    </tr>\n",
       "    <tr>\n",
       "      <th>3</th>\n",
       "      <td>Export</td>\n",
       "      <td>AK</td>\n",
       "      <td>20XX</td>\n",
       "      <td>Air</td>\n",
       "      <td>NaN</td>\n",
       "      <td>XA</td>\n",
       "      <td>Canada</td>\n",
       "      <td>28283</td>\n",
       "      <td>443</td>\n",
       "      <td>563</td>\n",
       "      <td>domestically produced merchandise</td>\n",
       "      <td>X</td>\n",
       "      <td>April</td>\n",
       "      <td>2020</td>\n",
       "      <td>NaN</td>\n",
       "    </tr>\n",
       "    <tr>\n",
       "      <th>4</th>\n",
       "      <td>Export</td>\n",
       "      <td>AK</td>\n",
       "      <td>20XX</td>\n",
       "      <td>Air</td>\n",
       "      <td>NaN</td>\n",
       "      <td>XA</td>\n",
       "      <td>Canada</td>\n",
       "      <td>29848</td>\n",
       "      <td>69</td>\n",
       "      <td>538</td>\n",
       "      <td>foreign produced merchandise</td>\n",
       "      <td>X</td>\n",
       "      <td>April</td>\n",
       "      <td>2020</td>\n",
       "      <td>NaN</td>\n",
       "    </tr>\n",
       "  </tbody>\n",
       "</table>\n",
       "</div>"
      ],
      "text/plain": [
       "  TRDTYPE USASTATE  DEPE DISAGMOT MEXSTATE CANPROV COUNTRY    VALUE    SHIPWT  \\\n",
       "0  Export       AK  0115    Truck      NaN      XB  Canada     4660         0   \n",
       "1  Export       AK  0901    Truck      NaN      XO  Canada    14360         0   \n",
       "2  Export       AK  20XX   Vessel       XX     NaN  Mexico  4293733  24971000   \n",
       "3  Export       AK  20XX      Air      NaN      XA  Canada    28283       443   \n",
       "4  Export       AK  20XX      Air      NaN      XA  Canada    29848        69   \n",
       "\n",
       "   FREIGHT_CHARGES                                 DF CONTCODE  MONTH  YEAR  \\\n",
       "0               67       foreign produced merchandise        X  April  2020   \n",
       "1              282  domestically produced merchandise        X  April  2020   \n",
       "2                0  domestically produced merchandise        0  April  2020   \n",
       "3              563  domestically produced merchandise        X  April  2020   \n",
       "4              538       foreign produced merchandise        X  April  2020   \n",
       "\n",
       "   COMMODITY2  \n",
       "0         NaN  \n",
       "1         NaN  \n",
       "2         NaN  \n",
       "3         NaN  \n",
       "4         NaN  "
      ]
     },
     "execution_count": 49,
     "metadata": {},
     "output_type": "execute_result"
    }
   ],
   "source": [
    "final_data.head()"
   ]
  },
  {
   "cell_type": "markdown",
   "id": "814530a4-3dde-4717-890e-3d98dd821c90",
   "metadata": {},
   "source": [
    "---\n",
    "For CONTCODE (Container Code), 'X' means **Containerized** and '0' means **Non-Containerized.** There is no match for '1' hence, I assume it to be ***Unknown***"
   ]
  },
  {
   "cell_type": "code",
   "execution_count": 50,
   "id": "3767cb8c-c936-4d93-9266-570fae07f322",
   "metadata": {},
   "outputs": [],
   "source": [
    "final_data['CONTCODE'] = final_data['CONTCODE'].replace({'X': 'Containerized', '0': 'Non-Containerized',\n",
    "                                                         0: 'Non-Containerized', '1': 'Unknown', 1: 'Unknown'})"
   ]
  },
  {
   "cell_type": "code",
   "execution_count": 51,
   "id": "e6c50548-0177-475f-a370-c8c059e8f586",
   "metadata": {},
   "outputs": [
    {
     "data": {
      "text/plain": [
       "array(['Containerized', 'Non-Containerized', 'Unknown'], dtype=object)"
      ]
     },
     "execution_count": 51,
     "metadata": {},
     "output_type": "execute_result"
    }
   ],
   "source": [
    "final_data['CONTCODE'].unique()"
   ]
  },
  {
   "cell_type": "markdown",
   "id": "b5ce7739-ff3a-4462-90a6-cee4fb1c38fe",
   "metadata": {},
   "source": [
    "---\n",
    "- There were 99 commodities indicated in the data dictionary, however, checks for the number of unique values in the commodity column indicated only 98.\n",
    "- Let's find out which commodity is not present in the data."
   ]
  },
  {
   "cell_type": "code",
   "execution_count": 52,
   "id": "2984e22f-769b-4915-9878-ed8b582dd4b3",
   "metadata": {},
   "outputs": [
    {
     "name": "stdout",
     "output_type": "stream",
     "text": [
      "Missing Commodity Value: {77}\n"
     ]
    }
   ],
   "source": [
    "expected_comm_values = set(range(1, 100))\n",
    "actual_comm_values = set(final_data['COMMODITY2'].dropna().unique())\n",
    "\n",
    "missing_comm_values = expected_comm_values - actual_comm_values\n",
    "print(\"Missing Commodity Value:\", missing_comm_values)"
   ]
  },
  {
   "cell_type": "markdown",
   "id": "2317d910-d00b-498c-8518-4d217bbe56a6",
   "metadata": {},
   "source": [
    "- Commodity number 77 which is **'Reserved for possible future use'** has no records in the dataset.\n",
    "- Perhaps no such commodity was transported."
   ]
  },
  {
   "cell_type": "markdown",
   "id": "482129fb-0f36-4d4e-9997-c449b67f20ce",
   "metadata": {},
   "source": [
    "---"
   ]
  },
  {
   "cell_type": "code",
   "execution_count": 53,
   "id": "660d15fa-1158-453a-b0f0-7b8470691a25",
   "metadata": {},
   "outputs": [
    {
     "data": {
      "text/plain": [
       "array(['AK', 'AL', 'AR', 'AZ', 'CA', 'CO', 'CT', 'DC', 'DE', 'DU', 'FL',\n",
       "       'GA', 'HI', 'IA', 'ID', 'IL', 'IN', 'KS', 'KY', 'LA', 'MA', 'MD',\n",
       "       'ME', 'MI', 'MN', 'MO', 'MS', 'MT', 'NC', 'ND', 'NE', 'NH', 'NJ',\n",
       "       'NM', 'NV', 'NY', 'OH', 'OK', 'OR', 'PA', 'RI', 'SC', 'SD', 'TN',\n",
       "       'TX', 'UT', 'VA', 'VT', 'WA', 'WI', 'WV', 'WY', nan], dtype=object)"
      ]
     },
     "execution_count": 53,
     "metadata": {},
     "output_type": "execute_result"
    }
   ],
   "source": [
    "final_data['USASTATE'].unique()"
   ]
  },
  {
   "cell_type": "code",
   "execution_count": 54,
   "id": "b8569618-575f-4410-bfb2-7c2487828bf5",
   "metadata": {},
   "outputs": [
    {
     "data": {
      "text/plain": [
       "array(['NL', nan, 'XX', 'OT', 'GT', 'CM', 'BC', 'CH', 'JA', 'BS', 'QT',\n",
       "       'SL', 'MX', 'CO', 'SO', 'HG', 'PU', 'DF', 'DG', 'TM', 'AG', 'MO',\n",
       "       'ZA', 'TL', 'VE', 'MI', 'SI', 'YU', 'TB', 'CS', 'CL', 'GR', 'QR',\n",
       "       'OA'], dtype=object)"
      ]
     },
     "execution_count": 54,
     "metadata": {},
     "output_type": "execute_result"
    }
   ],
   "source": [
    "all_dot2['MEXSTATE'].unique()"
   ]
  },
  {
   "cell_type": "markdown",
   "id": "c57ea16e-c1ab-4e5d-94d4-309c4b5684f6",
   "metadata": {},
   "source": [
    "* There is no state that matches 'XX', therefore, I will assume all states marked 'XX' is unknown and mark it 'OT'"
   ]
  },
  {
   "cell_type": "code",
   "execution_count": 55,
   "id": "9eb532e4-0d6a-43fb-9b95-3a49e64eb9d3",
   "metadata": {},
   "outputs": [],
   "source": [
    "final_data['MEXSTATE'] = final_data['MEXSTATE'].replace({'XX': 'OT'})"
   ]
  },
  {
   "cell_type": "code",
   "execution_count": 56,
   "id": "6356ff05-7323-4b45-bc53-1a2188fdd934",
   "metadata": {},
   "outputs": [
    {
     "data": {
      "text/plain": [
       "array([nan, 'OT', 'CO', 'NL', 'CH', 'CM', 'GT', 'JA', 'MX', 'QT', 'SL',\n",
       "       'BC', 'BS', 'DF', 'TM', 'ZA', 'DG', 'HG', 'SO', 'AG', 'MI', 'MO',\n",
       "       'PU', 'TL', 'VE', 'SI', 'YU', 'TB', 'CS', 'CL', 'OA', 'QR', 'GR'],\n",
       "      dtype=object)"
      ]
     },
     "execution_count": 56,
     "metadata": {},
     "output_type": "execute_result"
    }
   ],
   "source": [
    "final_data['MEXSTATE'].unique()"
   ]
  },
  {
   "cell_type": "code",
   "execution_count": 57,
   "id": "a0e7898d-409c-4465-80eb-599bf2f029f5",
   "metadata": {},
   "outputs": [
    {
     "data": {
      "text/plain": [
       "array(['XB', 'XO', nan, 'XA', 'XC', 'XM', 'XQ', 'XY', 'XW', 'XS', 'XN',\n",
       "       'XP', 'OT', 'XT', 'XV'], dtype=object)"
      ]
     },
     "execution_count": 57,
     "metadata": {},
     "output_type": "execute_result"
    }
   ],
   "source": [
    "final_data['CANPROV'].unique()"
   ]
  },
  {
   "cell_type": "code",
   "execution_count": 58,
   "id": "d77f6bb6-d67b-4832-babe-d5156ce09afa",
   "metadata": {},
   "outputs": [
    {
     "data": {
      "text/plain": [
       "TRDTYPE                  2\n",
       "USASTATE                52\n",
       "DEPE                   246\n",
       "DISAGMOT                 8\n",
       "MEXSTATE                32\n",
       "CANPROV                 14\n",
       "COUNTRY                  2\n",
       "VALUE              1708714\n",
       "SHIPWT              678248\n",
       "FREIGHT_CHARGES     276010\n",
       "DF                       2\n",
       "CONTCODE                 3\n",
       "MONTH                   12\n",
       "YEAR                     5\n",
       "COMMODITY2              98\n",
       "dtype: int64"
      ]
     },
     "execution_count": 58,
     "metadata": {},
     "output_type": "execute_result"
    }
   ],
   "source": [
    "final_data.nunique()"
   ]
  },
  {
   "cell_type": "code",
   "execution_count": 59,
   "id": "42159b05-eeec-43ac-8bcb-0eaa6d4deca9",
   "metadata": {},
   "outputs": [
    {
     "name": "stdout",
     "output_type": "stream",
     "text": [
      "<class 'pandas.core.frame.DataFrame'>\n",
      "RangeIndex: 6517225 entries, 0 to 6517224\n",
      "Data columns (total 15 columns):\n",
      " #   Column           Dtype  \n",
      "---  ------           -----  \n",
      " 0   TRDTYPE          object \n",
      " 1   USASTATE         object \n",
      " 2   DEPE             object \n",
      " 3   DISAGMOT         object \n",
      " 4   MEXSTATE         object \n",
      " 5   CANPROV          object \n",
      " 6   COUNTRY          object \n",
      " 7   VALUE            int64  \n",
      " 8   SHIPWT           int64  \n",
      " 9   FREIGHT_CHARGES  int64  \n",
      " 10  DF               object \n",
      " 11  CONTCODE         object \n",
      " 12  MONTH            object \n",
      " 13  YEAR             int64  \n",
      " 14  COMMODITY2       float64\n",
      "dtypes: float64(1), int64(4), object(10)\n",
      "memory usage: 745.8+ MB\n"
     ]
    }
   ],
   "source": [
    "final_data.info()"
   ]
  },
  {
   "cell_type": "code",
   "execution_count": null,
   "id": "06c24110-b6f7-4ad9-abbf-ddd0f9b6a88a",
   "metadata": {},
   "outputs": [],
   "source": []
  },
  {
   "cell_type": "code",
   "execution_count": null,
   "id": "e004533b-e4a1-42c7-bc53-42dc2f44f646",
   "metadata": {},
   "outputs": [],
   "source": []
  }
 ],
 "metadata": {
  "kernelspec": {
   "display_name": "Python 3 (ipykernel)",
   "language": "python",
   "name": "python3"
  },
  "language_info": {
   "codemirror_mode": {
    "name": "ipython",
    "version": 3
   },
   "file_extension": ".py",
   "mimetype": "text/x-python",
   "name": "python",
   "nbconvert_exporter": "python",
   "pygments_lexer": "ipython3",
   "version": "3.12.7"
  }
 },
 "nbformat": 4,
 "nbformat_minor": 5
}
